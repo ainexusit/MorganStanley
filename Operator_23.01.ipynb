{
 "cells": [
  {
   "cell_type": "code",
   "execution_count": null,
   "id": "dd1cb76b-0052-43da-872e-213326a624a2",
   "metadata": {},
   "outputs": [],
   "source": [
    "Assigment Operator"
   ]
  },
  {
   "cell_type": "code",
   "execution_count": null,
   "id": "239569a2-ce86-4f0f-a2ea-e3133c5f0e25",
   "metadata": {},
   "outputs": [],
   "source": [
    "left side = right side"
   ]
  },
  {
   "cell_type": "code",
   "execution_count": 1,
   "id": "c7b97f22-0bb2-48f1-8084-fb274ff4c665",
   "metadata": {},
   "outputs": [],
   "source": [
    "a = 500"
   ]
  },
  {
   "cell_type": "code",
   "execution_count": null,
   "id": "f11116be-6edf-4bf9-a448-2be64408cc4f",
   "metadata": {},
   "outputs": [],
   "source": [
    "i++ - post incre\n",
    "++i - pre incre"
   ]
  },
  {
   "cell_type": "code",
   "execution_count": 2,
   "id": "930294d0-5d87-47f1-84cc-d074cfb7d135",
   "metadata": {},
   "outputs": [],
   "source": [
    "p = 10"
   ]
  },
  {
   "cell_type": "code",
   "execution_count": 3,
   "id": "d78308b7-76f4-4887-805e-f1e890c8cbe2",
   "metadata": {},
   "outputs": [],
   "source": [
    "p = p+1"
   ]
  },
  {
   "cell_type": "code",
   "execution_count": 4,
   "id": "32245e14-bafd-414c-8410-c2495e80d004",
   "metadata": {},
   "outputs": [
    {
     "data": {
      "text/plain": [
       "11"
      ]
     },
     "execution_count": 4,
     "metadata": {},
     "output_type": "execute_result"
    }
   ],
   "source": [
    "p"
   ]
  },
  {
   "cell_type": "code",
   "execution_count": 7,
   "id": "e661503c-2098-4221-986c-ff4370b0ae7c",
   "metadata": {},
   "outputs": [],
   "source": [
    "p+=1 #p=p+1"
   ]
  },
  {
   "cell_type": "code",
   "execution_count": 8,
   "id": "c22d9d72-b533-48dc-aeb7-cc8138449ae1",
   "metadata": {},
   "outputs": [
    {
     "data": {
      "text/plain": [
       "13"
      ]
     },
     "execution_count": 8,
     "metadata": {},
     "output_type": "execute_result"
    }
   ],
   "source": [
    "p"
   ]
  },
  {
   "cell_type": "code",
   "execution_count": 9,
   "id": "16c7522c-83ba-4219-bf90-03d69e77ad39",
   "metadata": {},
   "outputs": [],
   "source": [
    "temp = 100"
   ]
  },
  {
   "cell_type": "code",
   "execution_count": 10,
   "id": "51b8ddeb-2000-475e-bc7b-89f4b483cfec",
   "metadata": {},
   "outputs": [],
   "source": [
    "temp-=10  # temp =  temp-10"
   ]
  },
  {
   "cell_type": "code",
   "execution_count": 11,
   "id": "e6ba7083-8038-446e-8c56-de55048b4aef",
   "metadata": {},
   "outputs": [
    {
     "data": {
      "text/plain": [
       "90"
      ]
     },
     "execution_count": 11,
     "metadata": {},
     "output_type": "execute_result"
    }
   ],
   "source": [
    "temp"
   ]
  },
  {
   "cell_type": "code",
   "execution_count": null,
   "id": "43e150f5-311a-46a8-bfb8-2483a79611ab",
   "metadata": {},
   "outputs": [],
   "source": [
    "+=\n",
    "-=\n",
    "*=\n",
    "/=\n",
    "\n"
   ]
  },
  {
   "cell_type": "code",
   "execution_count": null,
   "id": "bb09c859-e26d-417c-ba8d-f1c10485a843",
   "metadata": {},
   "outputs": [],
   "source": [
    "identity operator:\n",
    "is is not"
   ]
  },
  {
   "cell_type": "code",
   "execution_count": null,
   "id": "7a189df4-38a0-43de-ae40-825cf438d90f",
   "metadata": {},
   "outputs": [],
   "source": [
    "identical --> same -- twins"
   ]
  },
  {
   "cell_type": "code",
   "execution_count": 12,
   "id": "d6fd37f6-336b-4323-beed-266677719316",
   "metadata": {},
   "outputs": [],
   "source": [
    "a  =10"
   ]
  },
  {
   "cell_type": "code",
   "execution_count": 13,
   "id": "76ae73e3-a1dc-4f18-9101-212e693c42f9",
   "metadata": {},
   "outputs": [],
   "source": [
    "b = 10"
   ]
  },
  {
   "cell_type": "code",
   "execution_count": 14,
   "id": "dd32eb56-776f-4900-8817-afb0a70c3ecd",
   "metadata": {},
   "outputs": [
    {
     "data": {
      "text/plain": [
       "True"
      ]
     },
     "execution_count": 14,
     "metadata": {},
     "output_type": "execute_result"
    }
   ],
   "source": [
    "a ==b "
   ]
  },
  {
   "cell_type": "code",
   "execution_count": 15,
   "id": "9b0ebf78-9265-41b5-945a-c3b68be24c95",
   "metadata": {},
   "outputs": [
    {
     "data": {
      "text/plain": [
       "True"
      ]
     },
     "execution_count": 15,
     "metadata": {},
     "output_type": "execute_result"
    }
   ],
   "source": [
    "a is b"
   ]
  },
  {
   "cell_type": "code",
   "execution_count": null,
   "id": "6b93bbb2-39ad-411c-9a80-5bca6b5bbebe",
   "metadata": {},
   "outputs": [],
   "source": [
    "Memory Optimized"
   ]
  },
  {
   "cell_type": "code",
   "execution_count": 16,
   "id": "084b42d7-ca3c-401b-9353-8456ba3f4d3d",
   "metadata": {},
   "outputs": [],
   "source": [
    "a = 50"
   ]
  },
  {
   "cell_type": "code",
   "execution_count": 17,
   "id": "eb671417-daff-477c-9a22-9f8b10d47435",
   "metadata": {},
   "outputs": [],
   "source": [
    "b = 50"
   ]
  },
  {
   "cell_type": "code",
   "execution_count": 18,
   "id": "4c4a22ba-e10a-4377-8017-23b4f2221c81",
   "metadata": {},
   "outputs": [
    {
     "data": {
      "text/plain": [
       "140735493517272"
      ]
     },
     "execution_count": 18,
     "metadata": {},
     "output_type": "execute_result"
    }
   ],
   "source": [
    "id(a)"
   ]
  },
  {
   "cell_type": "code",
   "execution_count": 19,
   "id": "ccfa8c16-8ef4-4580-93c6-feae135b9aa0",
   "metadata": {},
   "outputs": [
    {
     "data": {
      "text/plain": [
       "140735493517272"
      ]
     },
     "execution_count": 19,
     "metadata": {},
     "output_type": "execute_result"
    }
   ],
   "source": [
    "id(b)"
   ]
  },
  {
   "cell_type": "code",
   "execution_count": 20,
   "id": "7ba9c0ad-46d0-40e6-af7c-90543a5957fe",
   "metadata": {},
   "outputs": [
    {
     "data": {
      "text/plain": [
       "True"
      ]
     },
     "execution_count": 20,
     "metadata": {},
     "output_type": "execute_result"
    }
   ],
   "source": [
    "a is b"
   ]
  },
  {
   "cell_type": "code",
   "execution_count": 21,
   "id": "f3e5a832-7ff9-4d5f-8722-2f68e83a7394",
   "metadata": {},
   "outputs": [],
   "source": [
    "a = 90000"
   ]
  },
  {
   "cell_type": "code",
   "execution_count": 22,
   "id": "2afa4fb3-df2e-41fb-8f87-d254c06e172b",
   "metadata": {},
   "outputs": [],
   "source": [
    "b = 90000"
   ]
  },
  {
   "cell_type": "code",
   "execution_count": 23,
   "id": "f4089a09-6dca-4a6c-bee5-1f4021b0e2cb",
   "metadata": {},
   "outputs": [
    {
     "data": {
      "text/plain": [
       "True"
      ]
     },
     "execution_count": 23,
     "metadata": {},
     "output_type": "execute_result"
    }
   ],
   "source": [
    "a==b"
   ]
  },
  {
   "cell_type": "code",
   "execution_count": 24,
   "id": "77729353-e3fb-44f8-8a10-d0d7285788e8",
   "metadata": {},
   "outputs": [
    {
     "data": {
      "text/plain": [
       "False"
      ]
     },
     "execution_count": 24,
     "metadata": {},
     "output_type": "execute_result"
    }
   ],
   "source": [
    "a is b"
   ]
  },
  {
   "cell_type": "code",
   "execution_count": 25,
   "id": "541de0ed-a7e3-43b6-a84f-0400b1b3da92",
   "metadata": {},
   "outputs": [
    {
     "data": {
      "text/plain": [
       "2440722044272"
      ]
     },
     "execution_count": 25,
     "metadata": {},
     "output_type": "execute_result"
    }
   ],
   "source": [
    "id(a)"
   ]
  },
  {
   "cell_type": "code",
   "execution_count": 26,
   "id": "d9014f90-a0d9-4646-84a7-97fa2d525723",
   "metadata": {},
   "outputs": [
    {
     "data": {
      "text/plain": [
       "2440722044560"
      ]
     },
     "execution_count": 26,
     "metadata": {},
     "output_type": "execute_result"
    }
   ],
   "source": [
    "id(b)"
   ]
  },
  {
   "cell_type": "code",
   "execution_count": null,
   "id": "aab04cda-4f37-4571-9ec9-2956dd6b0482",
   "metadata": {},
   "outputs": [],
   "source": [
    "cell -- computer --> 32bit | 64 bit\n",
    "memory --> "
   ]
  },
  {
   "cell_type": "code",
   "execution_count": 27,
   "id": "d3becdb7-f4bf-4bb8-9056-b52b40c18f07",
   "metadata": {},
   "outputs": [],
   "source": [
    "a=b= 95000"
   ]
  },
  {
   "cell_type": "code",
   "execution_count": 28,
   "id": "03e05426-e6da-4e6c-934c-f0927a27631f",
   "metadata": {},
   "outputs": [
    {
     "data": {
      "text/plain": [
       "2440722044400"
      ]
     },
     "execution_count": 28,
     "metadata": {},
     "output_type": "execute_result"
    }
   ],
   "source": [
    "id(a)"
   ]
  },
  {
   "cell_type": "code",
   "execution_count": 29,
   "id": "4a82608b-81ce-497b-b44a-e85f6fdb73b7",
   "metadata": {},
   "outputs": [
    {
     "data": {
      "text/plain": [
       "2440722044400"
      ]
     },
     "execution_count": 29,
     "metadata": {},
     "output_type": "execute_result"
    }
   ],
   "source": [
    "id(b)"
   ]
  },
  {
   "cell_type": "code",
   "execution_count": 30,
   "id": "dfbb958d-04c5-44e4-a32c-669c7955acdc",
   "metadata": {},
   "outputs": [
    {
     "data": {
      "text/plain": [
       "95000"
      ]
     },
     "execution_count": 30,
     "metadata": {},
     "output_type": "execute_result"
    }
   ],
   "source": [
    "b"
   ]
  },
  {
   "cell_type": "code",
   "execution_count": 31,
   "id": "dcb97b27-0d4a-4618-affe-8383b4f01f2d",
   "metadata": {},
   "outputs": [],
   "source": [
    "c = 95000"
   ]
  },
  {
   "cell_type": "code",
   "execution_count": 32,
   "id": "2d714632-fc66-4e05-ac6a-6b34d3513f38",
   "metadata": {},
   "outputs": [
    {
     "data": {
      "text/plain": [
       "2440722045328"
      ]
     },
     "execution_count": 32,
     "metadata": {},
     "output_type": "execute_result"
    }
   ],
   "source": [
    "id(c)"
   ]
  },
  {
   "cell_type": "code",
   "execution_count": null,
   "id": "99e901cb-0931-4fdb-b1d9-2ec7aae6631b",
   "metadata": {},
   "outputs": [],
   "source": [
    "Interview ?\n",
    "\n",
    "diff bet is vs ==?"
   ]
  },
  {
   "cell_type": "code",
   "execution_count": null,
   "id": "45fcda69-9f06-4d0b-b613-bb183748b445",
   "metadata": {},
   "outputs": [],
   "source": [
    "== --> value based comparision\n",
    "\n",
    "is --> memory based comparision"
   ]
  },
  {
   "cell_type": "code",
   "execution_count": 33,
   "id": "567f6cf8-1653-4904-a91a-83ab1b6e1a87",
   "metadata": {},
   "outputs": [
    {
     "data": {
      "text/plain": [
       "95000"
      ]
     },
     "execution_count": 33,
     "metadata": {},
     "output_type": "execute_result"
    }
   ],
   "source": [
    "a"
   ]
  },
  {
   "cell_type": "code",
   "execution_count": 34,
   "id": "4149cea5-65c1-4ef3-b7ad-5bf7ac3f59b3",
   "metadata": {},
   "outputs": [
    {
     "data": {
      "text/plain": [
       "95000"
      ]
     },
     "execution_count": 34,
     "metadata": {},
     "output_type": "execute_result"
    }
   ],
   "source": [
    "c"
   ]
  },
  {
   "cell_type": "code",
   "execution_count": 35,
   "id": "15ec5427-aeff-418b-bad5-a4c858ea7b78",
   "metadata": {},
   "outputs": [
    {
     "data": {
      "text/plain": [
       "True"
      ]
     },
     "execution_count": 35,
     "metadata": {},
     "output_type": "execute_result"
    }
   ],
   "source": [
    "a is not c"
   ]
  },
  {
   "cell_type": "code",
   "execution_count": 36,
   "id": "f58fff2e-336f-4d87-ba95-51449293f02a",
   "metadata": {},
   "outputs": [],
   "source": [
    "p = [1,2,3]"
   ]
  },
  {
   "cell_type": "code",
   "execution_count": 37,
   "id": "0b64b31a-243d-4a8c-a462-b4fd4eb6675e",
   "metadata": {},
   "outputs": [],
   "source": [
    "q = [1,2,3]"
   ]
  },
  {
   "cell_type": "code",
   "execution_count": 38,
   "id": "ed82f43f-494d-4047-a0e4-14a2265441d1",
   "metadata": {},
   "outputs": [
    {
     "data": {
      "text/plain": [
       "2440718273536"
      ]
     },
     "execution_count": 38,
     "metadata": {},
     "output_type": "execute_result"
    }
   ],
   "source": [
    "id(p)"
   ]
  },
  {
   "cell_type": "code",
   "execution_count": 39,
   "id": "5fac1a7c-5e1e-4028-84f5-2aa81dd012f0",
   "metadata": {},
   "outputs": [
    {
     "data": {
      "text/plain": [
       "2440722302016"
      ]
     },
     "execution_count": 39,
     "metadata": {},
     "output_type": "execute_result"
    }
   ],
   "source": [
    "id(q)"
   ]
  },
  {
   "cell_type": "code",
   "execution_count": 40,
   "id": "54529745-ac8b-4fe2-a360-af99b9c415ed",
   "metadata": {},
   "outputs": [],
   "source": [
    "a=b=c = [1,2,3]"
   ]
  },
  {
   "cell_type": "code",
   "execution_count": 41,
   "id": "1ff6debb-8be2-4ee8-b86a-b9ed962f09ab",
   "metadata": {},
   "outputs": [
    {
     "data": {
      "text/plain": [
       "2440722289664"
      ]
     },
     "execution_count": 41,
     "metadata": {},
     "output_type": "execute_result"
    }
   ],
   "source": [
    "id(a)"
   ]
  },
  {
   "cell_type": "code",
   "execution_count": 42,
   "id": "e0e95140-69f5-4866-b0c7-9ba896ff10ff",
   "metadata": {},
   "outputs": [
    {
     "data": {
      "text/plain": [
       "2440722289664"
      ]
     },
     "execution_count": 42,
     "metadata": {},
     "output_type": "execute_result"
    }
   ],
   "source": [
    "id(b)"
   ]
  },
  {
   "cell_type": "code",
   "execution_count": 43,
   "id": "3bd1f97f-d855-482e-975e-4bbeeb3021da",
   "metadata": {},
   "outputs": [
    {
     "data": {
      "text/plain": [
       "2440722289664"
      ]
     },
     "execution_count": 43,
     "metadata": {},
     "output_type": "execute_result"
    }
   ],
   "source": [
    "id(c)"
   ]
  },
  {
   "cell_type": "code",
   "execution_count": 44,
   "id": "08362a81-346f-4c72-a87d-94e528cde6b5",
   "metadata": {},
   "outputs": [
    {
     "ename": "SyntaxError",
     "evalue": "invalid syntax (1767942671.py, line 3)",
     "output_type": "error",
     "traceback": [
      "\u001b[1;36m  Cell \u001b[1;32mIn[44], line 3\u001b[1;36m\u001b[0m\n\u001b[1;33m    number system\u001b[0m\n\u001b[1;37m           ^\u001b[0m\n\u001b[1;31mSyntaxError\u001b[0m\u001b[1;31m:\u001b[0m invalid syntax\n"
     ]
    }
   ],
   "source": [
    "bitwise\n",
    "\n",
    "& , | \n",
    "\n",
    "number system\n",
    "\n",
    "binary - 0-1 - 2\n",
    "octal - 0-7 - 8\n",
    "decimal -0-9 -10\n",
    "hexa decimal -16"
   ]
  },
  {
   "cell_type": "code",
   "execution_count": null,
   "id": "f5f007cb-c968-4547-9892-141099bdcdb5",
   "metadata": {},
   "outputs": [],
   "source": [
    "decimal \n",
    "sal\n",
    "age\n",
    "0-9 \n",
    "896545\n",
    "10545\n"
   ]
  },
  {
   "cell_type": "code",
   "execution_count": null,
   "id": "b20ba2c8-29d6-4211-a5eb-2286237ebd6e",
   "metadata": {},
   "outputs": [],
   "source": [
    "binary\n"
   ]
  },
  {
   "cell_type": "code",
   "execution_count": 45,
   "id": "e3478fc1-a004-45b0-bc8e-5cc5cab94991",
   "metadata": {},
   "outputs": [
    {
     "data": {
      "text/plain": [
       "0"
      ]
     },
     "execution_count": 45,
     "metadata": {},
     "output_type": "execute_result"
    }
   ],
   "source": [
    "10 & 4"
   ]
  },
  {
   "cell_type": "code",
   "execution_count": null,
   "id": "dfe54aa9-7396-4506-9441-9ff373f4ee2e",
   "metadata": {},
   "outputs": [],
   "source": [
    "40\t101000\n",
    "28\t011100\n",
    "============\n",
    "    001000\n"
   ]
  },
  {
   "cell_type": "code",
   "execution_count": 46,
   "id": "83b28a3f-56f3-4563-adbb-460ecbf79d20",
   "metadata": {},
   "outputs": [
    {
     "data": {
      "text/plain": [
       "8"
      ]
     },
     "execution_count": 46,
     "metadata": {},
     "output_type": "execute_result"
    }
   ],
   "source": [
    "40 & 28"
   ]
  },
  {
   "cell_type": "code",
   "execution_count": null,
   "id": "2482b6ea-473a-4848-bce0-5577526df171",
   "metadata": {},
   "outputs": [],
   "source": [
    "27\t011011\n",
    "53\t110101\n",
    "-----------\n",
    "    010001"
   ]
  },
  {
   "cell_type": "code",
   "execution_count": 47,
   "id": "55fedd98-f529-4c8a-896e-62f5a23061b3",
   "metadata": {},
   "outputs": [
    {
     "data": {
      "text/plain": [
       "17"
      ]
     },
     "execution_count": 47,
     "metadata": {},
     "output_type": "execute_result"
    }
   ],
   "source": [
    "27 & 53"
   ]
  },
  {
   "cell_type": "code",
   "execution_count": null,
   "id": "682882cd-26c9-447f-be7b-1c7ad4df5747",
   "metadata": {},
   "outputs": [],
   "source": [
    "USE :\n"
   ]
  },
  {
   "cell_type": "code",
   "execution_count": null,
   "id": "6a1b7973-b75f-411a-8517-286cf1379714",
   "metadata": {},
   "outputs": [],
   "source": [
    "10111101001110101010101011101010100111001\n"
   ]
  },
  {
   "cell_type": "code",
   "execution_count": null,
   "id": "847171d0-7bf8-47f2-ab4e-b5f1959bd5c0",
   "metadata": {},
   "outputs": [],
   "source": [
    "data fetch\n",
    "1011 - 11\n",
    "1101 - 13 --> 1PM\n",
    "Process\n"
   ]
  },
  {
   "cell_type": "code",
   "execution_count": null,
   "id": "bf5d5f7b-c061-4c21-8495-6de1d7216c14",
   "metadata": {},
   "outputs": [],
   "source": [
    "decimal - binary\n",
    "binary - decimal"
   ]
  },
  {
   "cell_type": "code",
   "execution_count": 49,
   "id": "9b74af94-aa69-4322-9e78-88efc166245e",
   "metadata": {},
   "outputs": [],
   "source": [
    "a =12  # 1100"
   ]
  },
  {
   "cell_type": "code",
   "execution_count": null,
   "id": "44327784-0e90-4126-ae3b-69fc9ae864b6",
   "metadata": {},
   "outputs": [],
   "source": [
    "0 - 0000\n",
    "1 - 0001\n",
    "2 - 0010\n",
    "3 -0011\n",
    "4  - 0100\n",
    "5 - 0101\n",
    "\n",
    "\n",
    "\n",
    "\n",
    "\n",
    "15-1111"
   ]
  },
  {
   "cell_type": "code",
   "execution_count": 50,
   "id": "ef2f807c-1bff-4703-818c-714d503469ed",
   "metadata": {},
   "outputs": [
    {
     "data": {
      "text/plain": [
       "12"
      ]
     },
     "execution_count": 50,
     "metadata": {},
     "output_type": "execute_result"
    }
   ],
   "source": [
    "a"
   ]
  },
  {
   "cell_type": "code",
   "execution_count": 51,
   "id": "b03785aa-100c-4d38-85e0-fee76bbf79a2",
   "metadata": {},
   "outputs": [
    {
     "data": {
      "text/plain": [
       "'0b1100'"
      ]
     },
     "execution_count": 51,
     "metadata": {},
     "output_type": "execute_result"
    }
   ],
   "source": [
    "bin(12)"
   ]
  },
  {
   "cell_type": "code",
   "execution_count": 53,
   "id": "7dccb0fe-9ab6-4260-8a7c-4ec511d9f57a",
   "metadata": {},
   "outputs": [
    {
     "data": {
      "text/plain": [
       "'0b110101'"
      ]
     },
     "execution_count": 53,
     "metadata": {},
     "output_type": "execute_result"
    }
   ],
   "source": [
    "bin(53)"
   ]
  },
  {
   "cell_type": "code",
   "execution_count": 57,
   "id": "defb2fab-6443-4730-b919-ee3c84bdbb73",
   "metadata": {},
   "outputs": [
    {
     "data": {
      "text/plain": [
       "53"
      ]
     },
     "execution_count": 57,
     "metadata": {},
     "output_type": "execute_result"
    }
   ],
   "source": [
    "int('110101',2)"
   ]
  },
  {
   "cell_type": "code",
   "execution_count": 58,
   "id": "2482c4f9-b504-4b90-9fb9-bb0e42ba190f",
   "metadata": {},
   "outputs": [
    {
     "data": {
      "text/plain": [
       "10"
      ]
     },
     "execution_count": 58,
     "metadata": {},
     "output_type": "execute_result"
    }
   ],
   "source": [
    "int('1010',2)"
   ]
  },
  {
   "cell_type": "code",
   "execution_count": 59,
   "id": "ec625936-25f5-432a-99e1-3b3ad8b90a97",
   "metadata": {},
   "outputs": [
    {
     "data": {
      "text/plain": [
       "'0o17'"
      ]
     },
     "execution_count": 59,
     "metadata": {},
     "output_type": "execute_result"
    }
   ],
   "source": [
    "oct(15)"
   ]
  },
  {
   "cell_type": "code",
   "execution_count": 61,
   "id": "b4e72990-2c6b-4298-8638-86adef631a3d",
   "metadata": {},
   "outputs": [
    {
     "data": {
      "text/plain": [
       "'0xf'"
      ]
     },
     "execution_count": 61,
     "metadata": {},
     "output_type": "execute_result"
    }
   ],
   "source": [
    "hex(15)"
   ]
  },
  {
   "cell_type": "code",
   "execution_count": null,
   "id": "c204a787-137a-4bd8-9862-65a4036ea53b",
   "metadata": {},
   "outputs": [],
   "source": [
    "Ternary Operator:\n"
   ]
  },
  {
   "cell_type": "code",
   "execution_count": 62,
   "id": "4f79446a-80f4-4d5c-b485-29c44f767ee8",
   "metadata": {},
   "outputs": [],
   "source": [
    "a = 10\n",
    "b =20"
   ]
  },
  {
   "cell_type": "code",
   "execution_count": 63,
   "id": "dbfeb00c-4734-4ec7-9ff5-685fe5aba54a",
   "metadata": {},
   "outputs": [],
   "source": [
    "max = a if a>b else b"
   ]
  },
  {
   "cell_type": "code",
   "execution_count": 64,
   "id": "a3b518cc-884d-4f74-8b35-ad6874802c0e",
   "metadata": {},
   "outputs": [
    {
     "data": {
      "text/plain": [
       "20"
      ]
     },
     "execution_count": 64,
     "metadata": {},
     "output_type": "execute_result"
    }
   ],
   "source": [
    "max"
   ]
  },
  {
   "cell_type": "code",
   "execution_count": 65,
   "id": "35aafd84-9966-438c-955a-ed40a242efa6",
   "metadata": {},
   "outputs": [],
   "source": [
    "temp = a if a>b else b"
   ]
  },
  {
   "cell_type": "code",
   "execution_count": 66,
   "id": "cc701f08-ca05-4ca4-a3ea-84ec97464e05",
   "metadata": {},
   "outputs": [
    {
     "data": {
      "text/plain": [
       "20"
      ]
     },
     "execution_count": 66,
     "metadata": {},
     "output_type": "execute_result"
    }
   ],
   "source": [
    "temp"
   ]
  },
  {
   "cell_type": "code",
   "execution_count": 67,
   "id": "a9c7e368-afbb-44d1-b642-49e62d3a94a4",
   "metadata": {},
   "outputs": [],
   "source": [
    "a = 100"
   ]
  },
  {
   "cell_type": "code",
   "execution_count": 68,
   "id": "e10a3810-b025-483b-9ec7-1c4635667556",
   "metadata": {},
   "outputs": [],
   "source": [
    "b =500"
   ]
  },
  {
   "cell_type": "code",
   "execution_count": 69,
   "id": "22b2fa88-c944-4280-b85b-71393202ee58",
   "metadata": {},
   "outputs": [],
   "source": [
    "min = a if a<b else b"
   ]
  },
  {
   "cell_type": "code",
   "execution_count": 70,
   "id": "8652450b-7a1d-4db0-aa94-414353253c04",
   "metadata": {},
   "outputs": [
    {
     "data": {
      "text/plain": [
       "100"
      ]
     },
     "execution_count": 70,
     "metadata": {},
     "output_type": "execute_result"
    }
   ],
   "source": [
    "min"
   ]
  },
  {
   "cell_type": "code",
   "execution_count": null,
   "id": "55612f40-7581-4a80-9f5b-43ca531aa0a7",
   "metadata": {},
   "outputs": [],
   "source": [
    "lambda -- Ternary operator"
   ]
  },
  {
   "cell_type": "code",
   "execution_count": null,
   "id": "473f0660-7cb2-4401-ba8c-ff27e66f2355",
   "metadata": {},
   "outputs": [],
   "source": [
    "Frozenset :\n",
    "Control Statement:"
   ]
  },
  {
   "cell_type": "code",
   "execution_count": null,
   "id": "b939731f-b2d7-4e03-abce-ba9bf495016e",
   "metadata": {},
   "outputs": [],
   "source": []
  }
 ],
 "metadata": {
  "kernelspec": {
   "display_name": "Python 3 (ipykernel)",
   "language": "python",
   "name": "python3"
  },
  "language_info": {
   "codemirror_mode": {
    "name": "ipython",
    "version": 3
   },
   "file_extension": ".py",
   "mimetype": "text/x-python",
   "name": "python",
   "nbconvert_exporter": "python",
   "pygments_lexer": "ipython3",
   "version": "3.12.7"
  }
 },
 "nbformat": 4,
 "nbformat_minor": 5
}
