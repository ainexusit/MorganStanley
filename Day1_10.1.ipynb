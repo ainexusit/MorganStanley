{
 "cells": [
  {
   "cell_type": "code",
   "execution_count": 1,
   "id": "785686fa-52e5-423c-b74b-b7ce63dbc52e",
   "metadata": {},
   "outputs": [
    {
     "name": "stdout",
     "output_type": "stream",
     "text": [
      "Hello\n"
     ]
    }
   ],
   "source": [
    "print(\"Hello\")"
   ]
  },
  {
   "cell_type": "code",
   "execution_count": 2,
   "id": "356e367b-72f4-4ebd-8462-734f3047667f",
   "metadata": {},
   "outputs": [
    {
     "name": "stdout",
     "output_type": "stream",
     "text": [
      "Hello\n"
     ]
    }
   ],
   "source": [
    "print(\"Hello\")"
   ]
  },
  {
   "cell_type": "code",
   "execution_count": 4,
   "id": "3a010e67-b333-4b00-b97c-6180477edafd",
   "metadata": {},
   "outputs": [],
   "source": [
    "t =100"
   ]
  },
  {
   "cell_type": "code",
   "execution_count": 5,
   "id": "10489582-ec66-4e22-bb2f-431c016073de",
   "metadata": {},
   "outputs": [
    {
     "name": "stdout",
     "output_type": "stream",
     "text": [
      "100\n"
     ]
    }
   ],
   "source": [
    "print(t)"
   ]
  },
  {
   "cell_type": "code",
   "execution_count": null,
   "id": "94bb6bb6-01cb-4657-978a-73fb1ce5115d",
   "metadata": {},
   "outputs": [],
   "source": [
    "Assigment :\n",
    "Revise \n",
    "1.interpreter based\n",
    "2.dyanamically typed\n",
    "\n",
    "2.Anaconda Navigator\n",
    "Notebook \n",
    "\n",
    "addition code\n",
    "subtraction\n",
    "division\n",
    "multiplication"
   ]
  },
  {
   "cell_type": "code",
   "execution_count": null,
   "id": "c2723ac9-7bc5-44eb-adc8-de92f3c1c696",
   "metadata": {},
   "outputs": [],
   "source": [
    "3.5 month"
   ]
  },
  {
   "cell_type": "code",
   "execution_count": null,
   "id": "41cf70bc-4c48-4d75-a551-907452cf6ace",
   "metadata": {},
   "outputs": [],
   "source": [
    "Mock Camera : 4 to 5 \n",
    "\n",
    "mon to Sat -- sun"
   ]
  },
  {
   "cell_type": "code",
   "execution_count": null,
   "id": "668d36b5-5988-4cbc-ac8f-26edb0364f6d",
   "metadata": {},
   "outputs": [],
   "source": []
  }
 ],
 "metadata": {
  "kernelspec": {
   "display_name": "Python 3 (ipykernel)",
   "language": "python",
   "name": "python3"
  },
  "language_info": {
   "codemirror_mode": {
    "name": "ipython",
    "version": 3
   },
   "file_extension": ".py",
   "mimetype": "text/x-python",
   "name": "python",
   "nbconvert_exporter": "python",
   "pygments_lexer": "ipython3",
   "version": "3.12.7"
  }
 },
 "nbformat": 4,
 "nbformat_minor": 5
}
