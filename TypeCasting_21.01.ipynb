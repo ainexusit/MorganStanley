{
 "cells": [
  {
   "cell_type": "code",
   "execution_count": null,
   "id": "142daf45-ea20-443a-98f2-4093d44b2c3e",
   "metadata": {},
   "outputs": [],
   "source": [
    "Type Casting:\n",
    "\n",
    "Change Data Type | DS into Another Data /type/DS"
   ]
  },
  {
   "cell_type": "code",
   "execution_count": 1,
   "id": "079d5267-c6ab-415b-a676-7acad3394452",
   "metadata": {},
   "outputs": [],
   "source": [
    "a = 45"
   ]
  },
  {
   "cell_type": "code",
   "execution_count": 3,
   "id": "91c94dbd-1954-40e7-b8e1-b81f2420bb6f",
   "metadata": {},
   "outputs": [],
   "source": [
    "a = str(a)"
   ]
  },
  {
   "cell_type": "code",
   "execution_count": 4,
   "id": "74f3c95d-26d6-41fa-8441-f22e44d3fe85",
   "metadata": {},
   "outputs": [
    {
     "data": {
      "text/plain": [
       "'45'"
      ]
     },
     "execution_count": 4,
     "metadata": {},
     "output_type": "execute_result"
    }
   ],
   "source": [
    "a"
   ]
  },
  {
   "cell_type": "code",
   "execution_count": 5,
   "id": "6b541c73-e42d-4d02-ade3-454cb5d39e47",
   "metadata": {},
   "outputs": [],
   "source": [
    "age  = '30'"
   ]
  },
  {
   "cell_type": "code",
   "execution_count": 7,
   "id": "d828e759-95c9-4510-93bf-f8c26fd40689",
   "metadata": {},
   "outputs": [],
   "source": [
    "age  = int(age)"
   ]
  },
  {
   "cell_type": "code",
   "execution_count": 8,
   "id": "3fc7c954-5793-496c-aee1-96bb39aff3a6",
   "metadata": {},
   "outputs": [
    {
     "data": {
      "text/plain": [
       "30"
      ]
     },
     "execution_count": 8,
     "metadata": {},
     "output_type": "execute_result"
    }
   ],
   "source": [
    "age"
   ]
  },
  {
   "cell_type": "code",
   "execution_count": 9,
   "id": "218c93c9-6a31-4c4c-b9b2-dbf3807e8d0d",
   "metadata": {},
   "outputs": [],
   "source": [
    "sal = 54545.3"
   ]
  },
  {
   "cell_type": "code",
   "execution_count": 11,
   "id": "936b07ee-a0f3-4474-95f4-984d055cddc5",
   "metadata": {},
   "outputs": [],
   "source": [
    "temp = int(sal)"
   ]
  },
  {
   "cell_type": "code",
   "execution_count": 12,
   "id": "debc3746-9c1e-41ce-986e-f368fa17a77c",
   "metadata": {},
   "outputs": [
    {
     "data": {
      "text/plain": [
       "54545"
      ]
     },
     "execution_count": 12,
     "metadata": {},
     "output_type": "execute_result"
    }
   ],
   "source": [
    "temp"
   ]
  },
  {
   "cell_type": "code",
   "execution_count": null,
   "id": "eef94dcd-a87c-46c8-b333-0e64783b9bfa",
   "metadata": {},
   "outputs": [],
   "source": [
    "int - str\n",
    "int - float\n"
   ]
  },
  {
   "cell_type": "code",
   "execution_count": null,
   "id": "e0722017-84f5-4705-ac06-864b44abc960",
   "metadata": {},
   "outputs": [],
   "source": [
    "str - int (numeric)\n",
    "str -- float(numeric)\n",
    "s\n"
   ]
  },
  {
   "cell_type": "code",
   "execution_count": 13,
   "id": "1d59e9b7-6f48-4614-aec8-f910b2496d71",
   "metadata": {},
   "outputs": [],
   "source": [
    "p = '545'"
   ]
  },
  {
   "cell_type": "code",
   "execution_count": 14,
   "id": "c68c04ce-e7c7-4b8e-adad-48eb882881ba",
   "metadata": {},
   "outputs": [
    {
     "data": {
      "text/plain": [
       "545.0"
      ]
     },
     "execution_count": 14,
     "metadata": {},
     "output_type": "execute_result"
    }
   ],
   "source": [
    "float(p)"
   ]
  },
  {
   "cell_type": "code",
   "execution_count": 15,
   "id": "4ba88567-7bcc-4b1a-ba87-ed762749f80c",
   "metadata": {},
   "outputs": [],
   "source": [
    "py = '65.34'"
   ]
  },
  {
   "cell_type": "code",
   "execution_count": 16,
   "id": "8aef7396-3f92-45eb-9417-34089a269b24",
   "metadata": {},
   "outputs": [
    {
     "ename": "ValueError",
     "evalue": "invalid literal for int() with base 10: '65.34'",
     "output_type": "error",
     "traceback": [
      "\u001b[1;31m---------------------------------------------------------------------------\u001b[0m",
      "\u001b[1;31mValueError\u001b[0m                                Traceback (most recent call last)",
      "Cell \u001b[1;32mIn[16], line 1\u001b[0m\n\u001b[1;32m----> 1\u001b[0m \u001b[38;5;28mint\u001b[39m(py)\n",
      "\u001b[1;31mValueError\u001b[0m: invalid literal for int() with base 10: '65.34'"
     ]
    }
   ],
   "source": [
    "int(py)"
   ]
  },
  {
   "cell_type": "code",
   "execution_count": null,
   "id": "c3e36196-25ce-478b-9a2e-4b892ef74587",
   "metadata": {},
   "outputs": [],
   "source": [
    "str -- float -- int"
   ]
  },
  {
   "cell_type": "code",
   "execution_count": 20,
   "id": "d9723dff-688c-4ce1-a63d-634e3772da7d",
   "metadata": {},
   "outputs": [],
   "source": [
    "temp = int(float(py))"
   ]
  },
  {
   "cell_type": "code",
   "execution_count": 21,
   "id": "e719a015-9d82-4624-b4da-a75a66353acb",
   "metadata": {},
   "outputs": [
    {
     "data": {
      "text/plain": [
       "65"
      ]
     },
     "execution_count": 21,
     "metadata": {},
     "output_type": "execute_result"
    }
   ],
   "source": [
    "temp"
   ]
  },
  {
   "cell_type": "code",
   "execution_count": 22,
   "id": "d84c40cd-fb25-4727-a84c-1acc87e387fe",
   "metadata": {},
   "outputs": [],
   "source": [
    "p = 'python'"
   ]
  },
  {
   "cell_type": "code",
   "execution_count": 23,
   "id": "d6014bb9-08a0-4d59-8ef2-6605e77f4fa1",
   "metadata": {},
   "outputs": [
    {
     "ename": "ValueError",
     "evalue": "invalid literal for int() with base 10: 'python'",
     "output_type": "error",
     "traceback": [
      "\u001b[1;31m---------------------------------------------------------------------------\u001b[0m",
      "\u001b[1;31mValueError\u001b[0m                                Traceback (most recent call last)",
      "Cell \u001b[1;32mIn[23], line 1\u001b[0m\n\u001b[1;32m----> 1\u001b[0m \u001b[38;5;28mint\u001b[39m(p)\n",
      "\u001b[1;31mValueError\u001b[0m: invalid literal for int() with base 10: 'python'"
     ]
    }
   ],
   "source": [
    "int(p)"
   ]
  },
  {
   "cell_type": "code",
   "execution_count": null,
   "id": "93ed2cae-1006-45ca-8b0c-5985a69f1a83",
   "metadata": {},
   "outputs": [],
   "source": [
    "Data Type :"
   ]
  },
  {
   "cell_type": "code",
   "execution_count": null,
   "id": "42096da5-6d15-4125-8acc-07038875a9b1",
   "metadata": {},
   "outputs": [],
   "source": [
    "DS : \n"
   ]
  },
  {
   "cell_type": "code",
   "execution_count": 24,
   "id": "c14b7a1a-f77a-4ffe-a0ed-1cca145a6e37",
   "metadata": {},
   "outputs": [],
   "source": [
    "p  = [54,23,6,523,34]"
   ]
  },
  {
   "cell_type": "code",
   "execution_count": 26,
   "id": "8d4e27bf-8520-4929-8ddd-3d283ff70250",
   "metadata": {},
   "outputs": [],
   "source": [
    "p = tuple(p)"
   ]
  },
  {
   "cell_type": "code",
   "execution_count": 27,
   "id": "74d0c7e4-1317-4f12-9356-6efcb35c8f57",
   "metadata": {},
   "outputs": [
    {
     "data": {
      "text/plain": [
       "(54, 23, 6, 523, 34)"
      ]
     },
     "execution_count": 27,
     "metadata": {},
     "output_type": "execute_result"
    }
   ],
   "source": [
    "p"
   ]
  },
  {
   "cell_type": "code",
   "execution_count": null,
   "id": "4f0fe5f7-4a2a-487f-8a1f-161488a910a4",
   "metadata": {},
   "outputs": [],
   "source": [
    "tuple to list"
   ]
  },
  {
   "cell_type": "code",
   "execution_count": null,
   "id": "4e0fb484-57f3-4ba6-b872-5484bb42b90b",
   "metadata": {},
   "outputs": [],
   "source": [
    "Can we insert new element into tuple?\n",
    "No,but we can use type casting "
   ]
  },
  {
   "cell_type": "code",
   "execution_count": null,
   "id": "e0dbb6ed-b587-4cc1-b235-107da368ba12",
   "metadata": {},
   "outputs": [],
   "source": [
    "Interview :\n",
    "    1.can we insert new element into tuple?\n",
    "    Ans: No,but we can use typecasting to insert new element\n",
    "    \n",
    "    2.can we define tuple inside list or vice versa?\n",
    "    Ans: Yes ,we can define ,original propertry remain same\n",
    "        \n",
    "    Data Structure -- > location may be anywhere but property remains same"
   ]
  },
  {
   "cell_type": "code",
   "execution_count": 28,
   "id": "c20860cd-dd0b-4d5e-b106-260b08b2ffb7",
   "metadata": {},
   "outputs": [],
   "source": [
    "p = (4,76,2,36,52,343)"
   ]
  },
  {
   "cell_type": "code",
   "execution_count": 29,
   "id": "157a6ffd-8cc3-43a6-ad14-745581f36e42",
   "metadata": {},
   "outputs": [
    {
     "ename": "AttributeError",
     "evalue": "'tuple' object has no attribute 'insert'",
     "output_type": "error",
     "traceback": [
      "\u001b[1;31m---------------------------------------------------------------------------\u001b[0m",
      "\u001b[1;31mAttributeError\u001b[0m                            Traceback (most recent call last)",
      "Cell \u001b[1;32mIn[29], line 1\u001b[0m\n\u001b[1;32m----> 1\u001b[0m p\u001b[38;5;241m.\u001b[39minsert(\u001b[38;5;241m2\u001b[39m,\u001b[38;5;241m100\u001b[39m)\n",
      "\u001b[1;31mAttributeError\u001b[0m: 'tuple' object has no attribute 'insert'"
     ]
    }
   ],
   "source": [
    "p.insert(2,100)"
   ]
  },
  {
   "cell_type": "code",
   "execution_count": 31,
   "id": "8042b89c-f0d9-4c70-965f-5b0e5fb828c1",
   "metadata": {},
   "outputs": [],
   "source": [
    "p = list(p)"
   ]
  },
  {
   "cell_type": "code",
   "execution_count": 33,
   "id": "2bed247a-00ff-4e5c-9b7e-d9520ea716e7",
   "metadata": {},
   "outputs": [],
   "source": [
    "p.append(100)"
   ]
  },
  {
   "cell_type": "code",
   "execution_count": 35,
   "id": "f95b50eb-4879-4757-b48d-24f8722693d4",
   "metadata": {},
   "outputs": [],
   "source": [
    "p = tuple(p)"
   ]
  },
  {
   "cell_type": "code",
   "execution_count": 36,
   "id": "58339950-87f9-48a1-baaf-fccacaa661f5",
   "metadata": {},
   "outputs": [
    {
     "data": {
      "text/plain": [
       "(4, 76, 2, 36, 52, 343, 100)"
      ]
     },
     "execution_count": 36,
     "metadata": {},
     "output_type": "execute_result"
    }
   ],
   "source": [
    "p"
   ]
  },
  {
   "cell_type": "code",
   "execution_count": 37,
   "id": "9a5903e9-8244-4cf0-a15f-53cecb9fc0f2",
   "metadata": {},
   "outputs": [],
   "source": [
    "cred = ('admin','admin@123')"
   ]
  },
  {
   "cell_type": "code",
   "execution_count": 39,
   "id": "1b58d8cc-edad-43df-bce9-260ea0b67c01",
   "metadata": {},
   "outputs": [],
   "source": [
    "cred = list(cred)"
   ]
  },
  {
   "cell_type": "code",
   "execution_count": 41,
   "id": "2f94b6a6-1f3f-412c-875d-ab7f9eb9d7e8",
   "metadata": {},
   "outputs": [],
   "source": [
    "cred[1] = 'pass@123'"
   ]
  },
  {
   "cell_type": "code",
   "execution_count": 43,
   "id": "e3e145dc-8d2c-4c64-a151-eebb400140d7",
   "metadata": {},
   "outputs": [],
   "source": [
    "cred = tuple(cred)"
   ]
  },
  {
   "cell_type": "code",
   "execution_count": 44,
   "id": "15992e95-ac60-4140-8092-b16cc882f68a",
   "metadata": {},
   "outputs": [
    {
     "data": {
      "text/plain": [
       "('admin', 'pass@123')"
      ]
     },
     "execution_count": 44,
     "metadata": {},
     "output_type": "execute_result"
    }
   ],
   "source": [
    "cred"
   ]
  },
  {
   "cell_type": "code",
   "execution_count": null,
   "id": "062e65d7-2c98-479c-b7ed-33390e5601f4",
   "metadata": {},
   "outputs": [],
   "source": [
    "Interview ?\n",
    "\n",
    "how to remove duplicate elements from list/tuple? - for loop with if -else"
   ]
  },
  {
   "cell_type": "code",
   "execution_count": 45,
   "id": "fa04e2f7-a21c-46a5-b977-ff33673e6d61",
   "metadata": {},
   "outputs": [],
   "source": [
    "p = [65,324,76,3,47,5,34,65,4,4,4,4,4,7,4,5,76]"
   ]
  },
  {
   "cell_type": "code",
   "execution_count": 49,
   "id": "b4f08657-d6d1-4120-b863-5a8eb4b48a4d",
   "metadata": {},
   "outputs": [],
   "source": [
    "p=list(set(p))"
   ]
  },
  {
   "cell_type": "code",
   "execution_count": 50,
   "id": "341d443d-345b-4a5a-9795-59bab7723751",
   "metadata": {},
   "outputs": [
    {
     "data": {
      "text/plain": [
       "[65, 34, 3, 324, 5, 4, 7, 76, 47]"
      ]
     },
     "execution_count": 50,
     "metadata": {},
     "output_type": "execute_result"
    }
   ],
   "source": [
    "p"
   ]
  },
  {
   "cell_type": "code",
   "execution_count": 51,
   "id": "802dde03-9ff1-43e9-a554-f583b4829d53",
   "metadata": {},
   "outputs": [],
   "source": [
    "p = [1,2,3]"
   ]
  },
  {
   "cell_type": "code",
   "execution_count": 53,
   "id": "d6a64f79-0e09-4cad-b8af-956d3c0539ca",
   "metadata": {},
   "outputs": [],
   "source": [
    "t = str(p)"
   ]
  },
  {
   "cell_type": "code",
   "execution_count": 57,
   "id": "8a304b8c-df2a-40f6-969c-2120967f87df",
   "metadata": {},
   "outputs": [],
   "source": [
    "p = 'python'"
   ]
  },
  {
   "cell_type": "code",
   "execution_count": 58,
   "id": "9f98931a-1d23-46ca-a997-d29e1195315e",
   "metadata": {},
   "outputs": [
    {
     "data": {
      "text/plain": [
       "['p', 'y', 't', 'h', 'o', 'n']"
      ]
     },
     "execution_count": 58,
     "metadata": {},
     "output_type": "execute_result"
    }
   ],
   "source": [
    "list(p)"
   ]
  },
  {
   "cell_type": "code",
   "execution_count": 59,
   "id": "87d85076-48d4-46dc-91a2-eb1c06769d99",
   "metadata": {},
   "outputs": [],
   "source": [
    "emp = {'a':1,'b':2,'c':3}"
   ]
  },
  {
   "cell_type": "code",
   "execution_count": 60,
   "id": "52f208d1-0459-4f1a-b553-6388fa560dd6",
   "metadata": {},
   "outputs": [
    {
     "data": {
      "text/plain": [
       "{'a': 1, 'b': 2, 'c': 3}"
      ]
     },
     "execution_count": 60,
     "metadata": {},
     "output_type": "execute_result"
    }
   ],
   "source": [
    "emp"
   ]
  },
  {
   "cell_type": "code",
   "execution_count": 61,
   "id": "426f0636-8a3b-489e-9040-95b8a311eeaa",
   "metadata": {},
   "outputs": [
    {
     "data": {
      "text/plain": [
       "['a', 'b', 'c']"
      ]
     },
     "execution_count": 61,
     "metadata": {},
     "output_type": "execute_result"
    }
   ],
   "source": [
    "list(emp)"
   ]
  },
  {
   "cell_type": "code",
   "execution_count": 62,
   "id": "62f17cd7-b40f-41df-b9d1-0c690f319701",
   "metadata": {},
   "outputs": [
    {
     "data": {
      "text/plain": [
       "[1, 2, 3]"
      ]
     },
     "execution_count": 62,
     "metadata": {},
     "output_type": "execute_result"
    }
   ],
   "source": [
    "list(emp.values())"
   ]
  },
  {
   "cell_type": "code",
   "execution_count": 63,
   "id": "1f8acb83-7212-4fe8-8e83-02ef921f44e3",
   "metadata": {},
   "outputs": [
    {
     "data": {
      "text/plain": [
       "[('a', 1), ('b', 2), ('c', 3)]"
      ]
     },
     "execution_count": 63,
     "metadata": {},
     "output_type": "execute_result"
    }
   ],
   "source": [
    "list(emp.items())"
   ]
  },
  {
   "cell_type": "code",
   "execution_count": 65,
   "id": "d81d5e0e-3cd8-49be-ac91-003055a0791a",
   "metadata": {},
   "outputs": [
    {
     "name": "stdin",
     "output_type": "stream",
     "text": [
      "Enter the number: 45\n",
      "Enter the second number: 45\n"
     ]
    },
    {
     "name": "stdout",
     "output_type": "stream",
     "text": [
      "90\n"
     ]
    }
   ],
   "source": [
    "a = int(input(\"Enter the number:\"))\n",
    "b = int(input(\"Enter the second number:\"))\n",
    "c =a+b\n",
    "print(c)"
   ]
  },
  {
   "cell_type": "code",
   "execution_count": 69,
   "id": "92efbe49-a15e-47b9-b203-3d4de40e3390",
   "metadata": {},
   "outputs": [
    {
     "name": "stdin",
     "output_type": "stream",
     "text": [
      " 100\n"
     ]
    }
   ],
   "source": [
    "temp  = int(input())"
   ]
  },
  {
   "cell_type": "code",
   "execution_count": 70,
   "id": "b7e569d4-8a27-45a2-b0cf-a5c6a1ba000c",
   "metadata": {},
   "outputs": [
    {
     "data": {
      "text/plain": [
       "100"
      ]
     },
     "execution_count": 70,
     "metadata": {},
     "output_type": "execute_result"
    }
   ],
   "source": [
    "temp"
   ]
  },
  {
   "cell_type": "code",
   "execution_count": 71,
   "id": "886eaf52-85ee-41f2-86d5-dffb17bf42b5",
   "metadata": {},
   "outputs": [],
   "source": [
    "a = '45'"
   ]
  },
  {
   "cell_type": "code",
   "execution_count": 72,
   "id": "3b46ecb1-096e-4ebb-80d5-ed1abc759534",
   "metadata": {},
   "outputs": [
    {
     "data": {
      "text/plain": [
       "str"
      ]
     },
     "execution_count": 72,
     "metadata": {},
     "output_type": "execute_result"
    }
   ],
   "source": [
    "type(a)"
   ]
  },
  {
   "cell_type": "code",
   "execution_count": null,
   "id": "0855b683-8595-4740-99f6-ae9dc2a3f440",
   "metadata": {},
   "outputs": [],
   "source": [
    "str a,b,c"
   ]
  },
  {
   "cell_type": "code",
   "execution_count": null,
   "id": "427200c2-6853-4df0-90ec-ca0dab5d05ba",
   "metadata": {},
   "outputs": [],
   "source": [
    "input() # operation -- input return value -- str"
   ]
  },
  {
   "cell_type": "code",
   "execution_count": 73,
   "id": "4a40b13b-deaf-4c4a-ba9b-d3038487ee6c",
   "metadata": {},
   "outputs": [],
   "source": [
    "sal = '753243.65'"
   ]
  },
  {
   "cell_type": "code",
   "execution_count": 74,
   "id": "6651b852-168c-40fd-9afc-7f1eb18e4172",
   "metadata": {},
   "outputs": [
    {
     "ename": "ValueError",
     "evalue": "invalid literal for int() with base 10: '753243.65'",
     "output_type": "error",
     "traceback": [
      "\u001b[1;31m---------------------------------------------------------------------------\u001b[0m",
      "\u001b[1;31mValueError\u001b[0m                                Traceback (most recent call last)",
      "Cell \u001b[1;32mIn[74], line 1\u001b[0m\n\u001b[1;32m----> 1\u001b[0m \u001b[38;5;28mint\u001b[39m(sal)\n",
      "\u001b[1;31mValueError\u001b[0m: invalid literal for int() with base 10: '753243.65'"
     ]
    }
   ],
   "source": [
    "int(sal)"
   ]
  },
  {
   "cell_type": "code",
   "execution_count": null,
   "id": "e18134a0-0a71-46d2-bb34-10816f9ae3cc",
   "metadata": {},
   "outputs": [],
   "source": [
    "str --> float --> int"
   ]
  },
  {
   "cell_type": "code",
   "execution_count": 78,
   "id": "44222ab0-a25d-4bb2-8213-e4757e89fbfa",
   "metadata": {},
   "outputs": [
    {
     "data": {
      "text/plain": [
       "753243"
      ]
     },
     "execution_count": 78,
     "metadata": {},
     "output_type": "execute_result"
    }
   ],
   "source": [
    "int(float(sal))"
   ]
  },
  {
   "cell_type": "code",
   "execution_count": 79,
   "id": "68f04560-a9b5-49d1-9f99-e2662df51b66",
   "metadata": {},
   "outputs": [],
   "source": [
    "p = '.'"
   ]
  },
  {
   "cell_type": "code",
   "execution_count": 80,
   "id": "a3fe12c5-6d8b-4907-9686-7421d187eb73",
   "metadata": {},
   "outputs": [
    {
     "ename": "ValueError",
     "evalue": "invalid literal for int() with base 10: '.'",
     "output_type": "error",
     "traceback": [
      "\u001b[1;31m---------------------------------------------------------------------------\u001b[0m",
      "\u001b[1;31mValueError\u001b[0m                                Traceback (most recent call last)",
      "Cell \u001b[1;32mIn[80], line 1\u001b[0m\n\u001b[1;32m----> 1\u001b[0m \u001b[38;5;28mint\u001b[39m(p)\n",
      "\u001b[1;31mValueError\u001b[0m: invalid literal for int() with base 10: '.'"
     ]
    }
   ],
   "source": [
    "int(p)"
   ]
  },
  {
   "cell_type": "code",
   "execution_count": 83,
   "id": "bd151194-019d-43d8-affc-c9357570c2bb",
   "metadata": {},
   "outputs": [],
   "source": [
    "p = '4.2'"
   ]
  },
  {
   "cell_type": "code",
   "execution_count": 84,
   "id": "6544a824-fcc2-4d85-8cfd-9ead56468eff",
   "metadata": {},
   "outputs": [
    {
     "data": {
      "text/plain": [
       "4"
      ]
     },
     "execution_count": 84,
     "metadata": {},
     "output_type": "execute_result"
    }
   ],
   "source": [
    "int(float((p)))"
   ]
  },
  {
   "cell_type": "code",
   "execution_count": null,
   "id": "7c33fb69-e251-441d-8e64-212965c00e0f",
   "metadata": {},
   "outputs": [],
   "source": []
  }
 ],
 "metadata": {
  "kernelspec": {
   "display_name": "Python 3 (ipykernel)",
   "language": "python",
   "name": "python3"
  },
  "language_info": {
   "codemirror_mode": {
    "name": "ipython",
    "version": 3
   },
   "file_extension": ".py",
   "mimetype": "text/x-python",
   "name": "python",
   "nbconvert_exporter": "python",
   "pygments_lexer": "ipython3",
   "version": "3.12.7"
  }
 },
 "nbformat": 4,
 "nbformat_minor": 5
}
