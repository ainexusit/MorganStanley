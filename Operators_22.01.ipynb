{
 "cells": [
  {
   "cell_type": "code",
   "execution_count": null,
   "id": "bf4884b9-7b83-4883-8c48-9967096e5c94",
   "metadata": {},
   "outputs": [],
   "source": [
    "Arithemetic Operator :\n",
    "+\n",
    "-\n",
    "*\n",
    "/\n",
    "//\n",
    "**\n",
    "%"
   ]
  },
  {
   "cell_type": "code",
   "execution_count": null,
   "id": "b15306ea-3648-4f7f-9c67-31d82b4ebadf",
   "metadata": {},
   "outputs": [],
   "source": [
    "Conditional or Comparision: bool --> True / False\n",
    "> , < ,>=,<= != =="
   ]
  },
  {
   "cell_type": "code",
   "execution_count": 1,
   "id": "5028affd-f962-4f98-a989-6b12b934aa31",
   "metadata": {},
   "outputs": [],
   "source": [
    "a = 100"
   ]
  },
  {
   "cell_type": "code",
   "execution_count": 2,
   "id": "09bfa9ea-a5bc-4e16-bdf9-8f7cd2852ca3",
   "metadata": {},
   "outputs": [],
   "source": [
    "b = 600"
   ]
  },
  {
   "cell_type": "code",
   "execution_count": 3,
   "id": "9c90377e-ac57-4891-94ca-65e5dce39677",
   "metadata": {},
   "outputs": [
    {
     "data": {
      "text/plain": [
       "False"
      ]
     },
     "execution_count": 3,
     "metadata": {},
     "output_type": "execute_result"
    }
   ],
   "source": [
    "a>b"
   ]
  },
  {
   "cell_type": "code",
   "execution_count": 4,
   "id": "6952be45-2ffd-440a-9164-bd63c9ade29b",
   "metadata": {},
   "outputs": [
    {
     "data": {
      "text/plain": [
       "True"
      ]
     },
     "execution_count": 4,
     "metadata": {},
     "output_type": "execute_result"
    }
   ],
   "source": [
    "a<b"
   ]
  },
  {
   "cell_type": "code",
   "execution_count": 5,
   "id": "b25d5a2f-1815-4b82-8026-b7f3cbe069a1",
   "metadata": {},
   "outputs": [
    {
     "data": {
      "text/plain": [
       "True"
      ]
     },
     "execution_count": 5,
     "metadata": {},
     "output_type": "execute_result"
    }
   ],
   "source": [
    "a!=b"
   ]
  },
  {
   "cell_type": "code",
   "execution_count": 6,
   "id": "d448e7d2-9820-4d09-8944-9d20ace3e20a",
   "metadata": {},
   "outputs": [
    {
     "data": {
      "text/plain": [
       "False"
      ]
     },
     "execution_count": 6,
     "metadata": {},
     "output_type": "execute_result"
    }
   ],
   "source": [
    "a>=b"
   ]
  },
  {
   "cell_type": "code",
   "execution_count": 7,
   "id": "e41a4e42-159f-4ce4-8587-dac8057ae840",
   "metadata": {},
   "outputs": [
    {
     "data": {
      "text/plain": [
       "True"
      ]
     },
     "execution_count": 7,
     "metadata": {},
     "output_type": "execute_result"
    }
   ],
   "source": [
    "a<=b"
   ]
  },
  {
   "cell_type": "code",
   "execution_count": 8,
   "id": "67400d51-1e96-41b9-b360-a8c12160bfad",
   "metadata": {},
   "outputs": [
    {
     "data": {
      "text/plain": [
       "False"
      ]
     },
     "execution_count": 8,
     "metadata": {},
     "output_type": "execute_result"
    }
   ],
   "source": [
    "a==b"
   ]
  },
  {
   "cell_type": "code",
   "execution_count": null,
   "id": "4d6375bf-fc21-4a7f-9a9a-10ced11096be",
   "metadata": {},
   "outputs": [],
   "source": [
    "= vs == "
   ]
  },
  {
   "cell_type": "code",
   "execution_count": null,
   "id": "2d0fd154-6470-42c9-b8f4-3432b0773662",
   "metadata": {},
   "outputs": [],
   "source": [
    "= - Assignment operator\n",
    "==  --> comparision operator --> value based comparision"
   ]
  },
  {
   "cell_type": "code",
   "execution_count": 10,
   "id": "a86d5a88-45d7-4bfb-a2dd-be6a4b0429f2",
   "metadata": {},
   "outputs": [
    {
     "data": {
      "text/plain": [
       "100"
      ]
     },
     "execution_count": 10,
     "metadata": {},
     "output_type": "execute_result"
    }
   ],
   "source": [
    "a"
   ]
  },
  {
   "cell_type": "code",
   "execution_count": 11,
   "id": "3b8e737c-de73-4d50-ad18-3829eeb47afd",
   "metadata": {},
   "outputs": [
    {
     "data": {
      "text/plain": [
       "600"
      ]
     },
     "execution_count": 11,
     "metadata": {},
     "output_type": "execute_result"
    }
   ],
   "source": [
    "b"
   ]
  },
  {
   "cell_type": "code",
   "execution_count": null,
   "id": "a005a297-9e4d-4003-9576-ff65c1914e80",
   "metadata": {},
   "outputs": [],
   "source": [
    "a=b  -- b--> a\n",
    "\n",
    "a==b  -- False"
   ]
  },
  {
   "cell_type": "code",
   "execution_count": 12,
   "id": "40dc3905-b3e6-46a3-b6d6-d6fa64b56013",
   "metadata": {},
   "outputs": [
    {
     "data": {
      "text/plain": [
       "100"
      ]
     },
     "execution_count": 12,
     "metadata": {},
     "output_type": "execute_result"
    }
   ],
   "source": [
    "a"
   ]
  },
  {
   "cell_type": "code",
   "execution_count": 13,
   "id": "bbe07c26-33ee-40fd-8df9-0fabcabf07ce",
   "metadata": {},
   "outputs": [
    {
     "data": {
      "text/plain": [
       "600"
      ]
     },
     "execution_count": 13,
     "metadata": {},
     "output_type": "execute_result"
    }
   ],
   "source": [
    "b"
   ]
  },
  {
   "cell_type": "code",
   "execution_count": 14,
   "id": "b6f2931c-c362-4933-a366-5b3258233da9",
   "metadata": {},
   "outputs": [
    {
     "data": {
      "text/plain": [
       "False"
      ]
     },
     "execution_count": 14,
     "metadata": {},
     "output_type": "execute_result"
    }
   ],
   "source": [
    "a>=b  # > or ="
   ]
  },
  {
   "cell_type": "code",
   "execution_count": 15,
   "id": "fdd2fe28-9e73-4dc6-81f2-3cb22aec443b",
   "metadata": {},
   "outputs": [
    {
     "data": {
      "text/plain": [
       "True"
      ]
     },
     "execution_count": 15,
     "metadata": {},
     "output_type": "execute_result"
    }
   ],
   "source": [
    "a<= b # < or ="
   ]
  },
  {
   "cell_type": "code",
   "execution_count": null,
   "id": "40024677-328e-43d0-9764-6390c698fc84",
   "metadata": {},
   "outputs": [],
   "source": [
    "logical operators:\n",
    "1.and\n",
    "2.or\n",
    "3.not"
   ]
  },
  {
   "cell_type": "code",
   "execution_count": 16,
   "id": "e2d92f9c-ede7-47f1-8e1d-c65e53f1bade",
   "metadata": {},
   "outputs": [],
   "source": [
    "file  = 'copper_product_2025.csv'"
   ]
  },
  {
   "cell_type": "code",
   "execution_count": null,
   "id": "6242c3b2-ad79-445f-b477-1e1da24d32b9",
   "metadata": {},
   "outputs": [],
   "source": [
    "file ---> copper\n",
    "contain --> 2025 \n",
    "endswith -->csv  \n",
    "\n",
    "\n",
    "True --> CODE"
   ]
  },
  {
   "cell_type": "code",
   "execution_count": 17,
   "id": "f7ae1aaf-d7f5-4c23-9fdd-c474ab4866c4",
   "metadata": {},
   "outputs": [
    {
     "data": {
      "text/plain": [
       "True"
      ]
     },
     "execution_count": 17,
     "metadata": {},
     "output_type": "execute_result"
    }
   ],
   "source": [
    "file.startswith('copper') and file.find('2025')=-1 and file.endswith('.csv')"
   ]
  },
  {
   "cell_type": "code",
   "execution_count": null,
   "id": "abd027c3-42cb-4fbd-b8b1-02cca6c09999",
   "metadata": {},
   "outputs": [],
   "source": [
    "find('element') :\n",
    "if found --> it will return +index /starting index\n",
    "if not --> it will return -1"
   ]
  },
  {
   "cell_type": "code",
   "execution_count": 19,
   "id": "8e79b7d8-e64a-4d9c-85bc-b644a256a234",
   "metadata": {},
   "outputs": [
    {
     "data": {
      "text/plain": [
       "False"
      ]
     },
     "execution_count": 19,
     "metadata": {},
     "output_type": "execute_result"
    }
   ],
   "source": [
    "True and True and True and True and False"
   ]
  },
  {
   "cell_type": "code",
   "execution_count": 20,
   "id": "b164e743-4220-463a-8c3f-7a74c12ba354",
   "metadata": {},
   "outputs": [],
   "source": [
    "products = ['copper','gold','silver']"
   ]
  },
  {
   "cell_type": "code",
   "execution_count": null,
   "id": "b0dadc98-829e-45ba-a9ee-9582db97725e",
   "metadata": {},
   "outputs": [],
   "source": [
    "gmails -- > "
   ]
  },
  {
   "cell_type": "code",
   "execution_count": 23,
   "id": "1734ebef-8999-4eb7-8251-118676a1d7e1",
   "metadata": {},
   "outputs": [
    {
     "data": {
      "text/plain": [
       "True"
      ]
     },
     "execution_count": 23,
     "metadata": {},
     "output_type": "execute_result"
    }
   ],
   "source": [
    "False or False or False or False or True"
   ]
  },
  {
   "cell_type": "code",
   "execution_count": 24,
   "id": "0bcabcc6-6bee-4115-86c0-b17a23102a4c",
   "metadata": {},
   "outputs": [
    {
     "data": {
      "text/plain": [
       "'copper_product_2025.csv'"
      ]
     },
     "execution_count": 24,
     "metadata": {},
     "output_type": "execute_result"
    }
   ],
   "source": [
    "file "
   ]
  },
  {
   "cell_type": "code",
   "execution_count": null,
   "id": "f2500d31-62ad-461d-a251-6f779a690d9b",
   "metadata": {},
   "outputs": [],
   "source": [
    "and -- ALL True   ----------> True\n",
    "or --> at least on True  ---> True"
   ]
  },
  {
   "cell_type": "code",
   "execution_count": null,
   "id": "d25e142f-5fc9-4015-97f6-299c71536403",
   "metadata": {},
   "outputs": [],
   "source": [
    "client --> pdf or csv or excel"
   ]
  },
  {
   "cell_type": "code",
   "execution_count": 33,
   "id": "71f10a09-2edd-43ef-bed4-046254f91a6b",
   "metadata": {},
   "outputs": [],
   "source": [
    "file = 'test.txt'"
   ]
  },
  {
   "cell_type": "code",
   "execution_count": 34,
   "id": "cbc307ff-1b77-4b62-bac3-40d909ff4e08",
   "metadata": {},
   "outputs": [
    {
     "data": {
      "text/plain": [
       "False"
      ]
     },
     "execution_count": 34,
     "metadata": {},
     "output_type": "execute_result"
    }
   ],
   "source": [
    "file.endswith('.csv') or file.endswith('.pdf') or file.endswith('.xlsx')"
   ]
  },
  {
   "cell_type": "code",
   "execution_count": null,
   "id": "06df86ae-444f-4bb2-8a1c-1ff3fdc75398",
   "metadata": {},
   "outputs": [],
   "source": [
    "not ---> True --> False\n",
    "\n",
    "False or True"
   ]
  },
  {
   "cell_type": "code",
   "execution_count": 35,
   "id": "fd7b9836-b2dc-44b6-ac59-b2825bfa6875",
   "metadata": {},
   "outputs": [
    {
     "data": {
      "text/plain": [
       "False"
      ]
     },
     "execution_count": 35,
     "metadata": {},
     "output_type": "execute_result"
    }
   ],
   "source": [
    " not True"
   ]
  },
  {
   "cell_type": "code",
   "execution_count": 36,
   "id": "ca9b4109-0f68-4d69-b4c4-f84c6c7652a5",
   "metadata": {},
   "outputs": [
    {
     "data": {
      "text/plain": [
       "True"
      ]
     },
     "execution_count": 36,
     "metadata": {},
     "output_type": "execute_result"
    }
   ],
   "source": [
    "not False"
   ]
  },
  {
   "cell_type": "code",
   "execution_count": 37,
   "id": "7fbdfc56-99e4-49bc-8ed7-21b07d7f841f",
   "metadata": {},
   "outputs": [],
   "source": [
    "emails = ['test@gmail.com' ,'sample@yahoo.com','python@gmail.com','ml@rediffmail.com']"
   ]
  },
  {
   "cell_type": "code",
   "execution_count": 39,
   "id": "ce4ffef7-40eb-4a9e-a1a1-7ece4024d775",
   "metadata": {},
   "outputs": [
    {
     "name": "stdout",
     "output_type": "stream",
     "text": [
      "sample@yahoo.com\n",
      "ml@rediffmail.com\n"
     ]
    }
   ],
   "source": [
    "for email in emails:\n",
    "    if not email.endswith('@gmail.com'):\n",
    "        print(email)"
   ]
  },
  {
   "cell_type": "code",
   "execution_count": null,
   "id": "de0ba9d3-73c5-4f1a-b63d-92d40c44741c",
   "metadata": {},
   "outputs": [],
   "source": [
    "True --> not  --> False\n",
    "False --> not --> True"
   ]
  },
  {
   "cell_type": "code",
   "execution_count": null,
   "id": "3a5d9df8-3f36-4ced-8cfa-eaf2bae78fbf",
   "metadata": {},
   "outputs": [],
   "source": [
    "and --> all condition --> "
   ]
  },
  {
   "cell_type": "code",
   "execution_count": null,
   "id": "a0775fa0-db25-4b5f-bd52-59f6acdac1bd",
   "metadata": {},
   "outputs": [],
   "source": [
    "4.Memebership Operator --> True or False\n",
    "in\n",
    "not in"
   ]
  },
  {
   "cell_type": "code",
   "execution_count": null,
   "id": "7bf32bc4-e5ea-4ea9-adb6-1f0d844ca936",
   "metadata": {},
   "outputs": [],
   "source": [
    "Memeber --> Group \n",
    "\n",
    "list \n",
    "tuple\n",
    "set\n",
    "dict\n",
    "str\n",
    "frozenset"
   ]
  },
  {
   "cell_type": "code",
   "execution_count": 40,
   "id": "2234b9d4-509d-4464-9730-ae10bcc51a3c",
   "metadata": {},
   "outputs": [],
   "source": [
    "p = [43,65,23,7,53,4,75,233,67,5]"
   ]
  },
  {
   "cell_type": "code",
   "execution_count": 41,
   "id": "e5b8818e-682e-4db5-acc7-cc4d480890f6",
   "metadata": {},
   "outputs": [
    {
     "data": {
      "text/plain": [
       "False"
      ]
     },
     "execution_count": 41,
     "metadata": {},
     "output_type": "execute_result"
    }
   ],
   "source": [
    "10 in p"
   ]
  },
  {
   "cell_type": "code",
   "execution_count": 42,
   "id": "8643e19d-066c-474c-9bb1-47fc71322359",
   "metadata": {},
   "outputs": [
    {
     "data": {
      "text/plain": [
       "True"
      ]
     },
     "execution_count": 42,
     "metadata": {},
     "output_type": "execute_result"
    }
   ],
   "source": [
    "65 in p"
   ]
  },
  {
   "cell_type": "code",
   "execution_count": 44,
   "id": "c876f3ce-8566-419c-82d1-b906b870cdd6",
   "metadata": {},
   "outputs": [],
   "source": [
    "file  = 'copper_product_2025.csv'"
   ]
  },
  {
   "cell_type": "code",
   "execution_count": 45,
   "id": "f2e23170-2555-4396-8f7b-dd9d2d1c0981",
   "metadata": {},
   "outputs": [
    {
     "data": {
      "text/plain": [
       "True"
      ]
     },
     "execution_count": 45,
     "metadata": {},
     "output_type": "execute_result"
    }
   ],
   "source": [
    "'2025' in file"
   ]
  },
  {
   "cell_type": "code",
   "execution_count": 47,
   "id": "caadf5ff-32c3-40cd-a306-7251f449afdf",
   "metadata": {},
   "outputs": [],
   "source": [
    "p = (43,75,2,3,756,23,6,5,54)"
   ]
  },
  {
   "cell_type": "code",
   "execution_count": 48,
   "id": "2ecf2572-c3dc-46a8-81bd-8b77533be300",
   "metadata": {},
   "outputs": [
    {
     "data": {
      "text/plain": [
       "True"
      ]
     },
     "execution_count": 48,
     "metadata": {},
     "output_type": "execute_result"
    }
   ],
   "source": [
    "756 in p"
   ]
  },
  {
   "cell_type": "code",
   "execution_count": 49,
   "id": "06a14c7b-694b-47fd-ae23-fd77b0280961",
   "metadata": {},
   "outputs": [
    {
     "data": {
      "text/plain": [
       "True"
      ]
     },
     "execution_count": 49,
     "metadata": {},
     "output_type": "execute_result"
    }
   ],
   "source": [
    "75 in p"
   ]
  },
  {
   "cell_type": "code",
   "execution_count": 50,
   "id": "e4354fab-e99e-4bcf-b20a-c7bd1281e8d8",
   "metadata": {},
   "outputs": [
    {
     "data": {
      "text/plain": [
       "(43, 75, 2, 3, 756, 23, 6, 5, 54)"
      ]
     },
     "execution_count": 50,
     "metadata": {},
     "output_type": "execute_result"
    }
   ],
   "source": [
    "p"
   ]
  },
  {
   "cell_type": "code",
   "execution_count": 51,
   "id": "e09539cd-806a-4dca-9a5f-25e2884364f2",
   "metadata": {},
   "outputs": [
    {
     "data": {
      "text/plain": [
       "True"
      ]
     },
     "execution_count": 51,
     "metadata": {},
     "output_type": "execute_result"
    }
   ],
   "source": [
    "500 not in p"
   ]
  },
  {
   "cell_type": "code",
   "execution_count": 52,
   "id": "facefbf6-ac5a-4c24-b218-47b8f7bf604b",
   "metadata": {},
   "outputs": [],
   "source": [
    "p = 'AI and ML are trending now and both are part of Data Science'"
   ]
  },
  {
   "cell_type": "code",
   "execution_count": 53,
   "id": "1f45e0aa-c685-4273-90a0-f6f21b1c20db",
   "metadata": {},
   "outputs": [
    {
     "data": {
      "text/plain": [
       "True"
      ]
     },
     "execution_count": 53,
     "metadata": {},
     "output_type": "execute_result"
    }
   ],
   "source": [
    "'part' in p"
   ]
  },
  {
   "cell_type": "code",
   "execution_count": 54,
   "id": "cab43074-7f92-421f-9696-1a9556fb9208",
   "metadata": {},
   "outputs": [
    {
     "data": {
      "text/plain": [
       "True"
      ]
     },
     "execution_count": 54,
     "metadata": {},
     "output_type": "execute_result"
    }
   ],
   "source": [
    "'Data Science' in p"
   ]
  },
  {
   "cell_type": "code",
   "execution_count": 55,
   "id": "d7a68fcb-76e3-4c55-86d8-ce833e324b0e",
   "metadata": {},
   "outputs": [],
   "source": [
    "emp = {'a':100,'b':200,'c':300}"
   ]
  },
  {
   "cell_type": "code",
   "execution_count": 56,
   "id": "cc1be80c-f954-49eb-9097-5f0e98dd364d",
   "metadata": {},
   "outputs": [
    {
     "data": {
      "text/plain": [
       "True"
      ]
     },
     "execution_count": 56,
     "metadata": {},
     "output_type": "execute_result"
    }
   ],
   "source": [
    "'c' in emp"
   ]
  },
  {
   "cell_type": "code",
   "execution_count": 57,
   "id": "4c761fd7-f692-4aea-9449-149f2750f4ed",
   "metadata": {},
   "outputs": [
    {
     "data": {
      "text/plain": [
       "True"
      ]
     },
     "execution_count": 57,
     "metadata": {},
     "output_type": "execute_result"
    }
   ],
   "source": [
    "200 in emp.values()"
   ]
  },
  {
   "cell_type": "code",
   "execution_count": 61,
   "id": "bf8f01a6-892a-425f-85d4-00af605dda87",
   "metadata": {},
   "outputs": [
    {
     "data": {
      "text/plain": [
       "False"
      ]
     },
     "execution_count": 61,
     "metadata": {},
     "output_type": "execute_result"
    }
   ],
   "source": [
    "('d',500) in emp.items()"
   ]
  },
  {
   "cell_type": "code",
   "execution_count": 58,
   "id": "74176a33-b5c8-4185-8e57-c4296e84b9ac",
   "metadata": {},
   "outputs": [
    {
     "data": {
      "text/plain": [
       "dict_items([('a', 100), ('b', 200), ('c', 300)])"
      ]
     },
     "execution_count": 58,
     "metadata": {},
     "output_type": "execute_result"
    }
   ],
   "source": [
    "emp.items()"
   ]
  },
  {
   "cell_type": "code",
   "execution_count": null,
   "id": "fd30c628-ac0c-4beb-bb0f-d78fa66f5692",
   "metadata": {},
   "outputs": [],
   "source": [
    "dict :\n",
    "keys\n",
    "values\n",
    "items"
   ]
  },
  {
   "cell_type": "code",
   "execution_count": null,
   "id": "c782a78d-9bc7-4b09-93bc-d9b4ff57fea1",
   "metadata": {},
   "outputs": [],
   "source": [
    "comp ---> membership "
   ]
  },
  {
   "cell_type": "code",
   "execution_count": null,
   "id": "dc076c7d-8990-4a1f-8fda-4c38d1234510",
   "metadata": {},
   "outputs": [],
   "source": [
    "DS : Logic \n",
    "\n",
    "Basic Building Blocks \n",
    "\n",
    "python --> a-z"
   ]
  },
  {
   "cell_type": "code",
   "execution_count": null,
   "id": "4bc1d95c-d670-4eba-bf0c-7597dd581952",
   "metadata": {},
   "outputs": [],
   "source": [
    "CODE --> live --> 9 to 10 "
   ]
  },
  {
   "cell_type": "code",
   "execution_count": null,
   "id": "2ceef376-da94-48cb-ac5c-d382b6dbb5fc",
   "metadata": {},
   "outputs": [],
   "source": [
    "real time ---> 4 Years --> 15 LPA 20+\n",
    "\n",
    "    Lerning --> IT --> 99 +1 -->  40+"
   ]
  },
  {
   "cell_type": "code",
   "execution_count": null,
   "id": "cdf5f9aa-d565-4b8e-816c-e17beb050cfe",
   "metadata": {},
   "outputs": [],
   "source": [
    "MOCK -->   5000+ --> AI 5 to 10"
   ]
  },
  {
   "cell_type": "code",
   "execution_count": null,
   "id": "812bfedf-27ac-4f5a-8628-642cc56c6d7f",
   "metadata": {},
   "outputs": [],
   "source": [
    "binary to decimal \n",
    "decimal --> control statement"
   ]
  },
  {
   "cell_type": "code",
   "execution_count": null,
   "id": "c45311b7-5394-4b88-9391-67d44b707def",
   "metadata": {},
   "outputs": [],
   "source": [
    "12 + 54 "
   ]
  }
 ],
 "metadata": {
  "kernelspec": {
   "display_name": "Python 3 (ipykernel)",
   "language": "python",
   "name": "python3"
  },
  "language_info": {
   "codemirror_mode": {
    "name": "ipython",
    "version": 3
   },
   "file_extension": ".py",
   "mimetype": "text/x-python",
   "name": "python",
   "nbconvert_exporter": "python",
   "pygments_lexer": "ipython3",
   "version": "3.12.7"
  }
 },
 "nbformat": 4,
 "nbformat_minor": 5
}
