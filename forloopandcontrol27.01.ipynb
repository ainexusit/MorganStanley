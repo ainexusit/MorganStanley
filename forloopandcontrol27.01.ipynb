{
 "cells": [
  {
   "cell_type": "code",
   "execution_count": null,
   "id": "09cd0cfd-f99c-4856-95df-356af892d0c3",
   "metadata": {},
   "outputs": [],
   "source": [
    "Interview:IMP IMP IMP \n",
    "\n",
    "p= [54,3,65,34,7,6,34,76,34,65]\n",
    "\n",
    "\n",
    "{54 : count ,3:count ,65:count }\n",
    "\n",
    "\n",
    "p = 'sdfjbfbjbfjdsfbvjfvsjhdsfdskjfjnbsdfbsfjjfsbfhba'\n",
    "\n",
    "{'s':count,'d':count,'f':..}\n",
    "\n",
    "\n",
    "p = 'python is use for webdev and ML,its also use for AI'\n",
    "\n",
    "{'python' :count,'is':count}\n"
   ]
  },
  {
   "cell_type": "code",
   "execution_count": 17,
   "id": "1c798da3-efef-4b10-95ad-f59122e6e9cf",
   "metadata": {},
   "outputs": [],
   "source": [
    "p= [54,3,65,34,7,6,34,76,34,65,54]\n",
    "\n",
    "\n",
    "#{54 : count ,3:count ,65:count }\n"
   ]
  },
  {
   "cell_type": "code",
   "execution_count": 28,
   "id": "f2d70861-9b49-4495-8929-556ecc06c270",
   "metadata": {},
   "outputs": [
    {
     "name": "stdout",
     "output_type": "stream",
     "text": [
      "{'s': 8, 'd': 5, 'f': 11, 'j': 9, 'b': 8, 'v': 2, 'h': 2, 'k': 1, 'n': 1, 'a': 1}\n"
     ]
    }
   ],
   "source": [
    "p = 'sdfjbfbjbfjdsfbvjfvsjhdsfdskjfjnbsdfbsfjjfsbfhba'\n",
    "d = {}\n",
    "for element in p:\n",
    "    if element in d:\n",
    "        d[element]+=1\n",
    "    else:\n",
    "        d[element]=1\n",
    "print(d)"
   ]
  },
  {
   "cell_type": "code",
   "execution_count": null,
   "id": "8d1a0d13-41ac-4e7d-bfc5-cea1be19d79a",
   "metadata": {},
   "outputs": [],
   "source": []
  },
  {
   "cell_type": "code",
   "execution_count": 19,
   "id": "edf3b2eb-f178-4d59-96fc-438c888bb6d8",
   "metadata": {},
   "outputs": [],
   "source": [
    "d = {}"
   ]
  },
  {
   "cell_type": "code",
   "execution_count": 20,
   "id": "f659b1f9-bd67-4187-bdf7-e98543be790a",
   "metadata": {},
   "outputs": [
    {
     "data": {
      "text/plain": [
       "{}"
      ]
     },
     "execution_count": 20,
     "metadata": {},
     "output_type": "execute_result"
    }
   ],
   "source": [
    "d"
   ]
  },
  {
   "cell_type": "code",
   "execution_count": 25,
   "id": "857d3abf-4482-46e0-9724-5be76ded5df4",
   "metadata": {},
   "outputs": [],
   "source": [
    "if 70 in d:\n",
    "    d[70]+=1\n",
    "else:\n",
    "    d[70]=1"
   ]
  },
  {
   "cell_type": "code",
   "execution_count": 26,
   "id": "1b99e53b-0b3f-4b87-a948-7d658b346053",
   "metadata": {},
   "outputs": [
    {
     "data": {
      "text/plain": [
       "{70: 2}"
      ]
     },
     "execution_count": 26,
     "metadata": {},
     "output_type": "execute_result"
    }
   ],
   "source": [
    "d"
   ]
  },
  {
   "cell_type": "code",
   "execution_count": null,
   "id": "0cc84e69-af15-42ef-90ca-48ff002dc06e",
   "metadata": {},
   "outputs": [],
   "source": [
    "count - Yes"
   ]
  },
  {
   "cell_type": "code",
   "execution_count": null,
   "id": "a5d6ad6f-8cf2-46a6-989c-128b4d4ca375",
   "metadata": {},
   "outputs": [],
   "source": [
    "inbuilt -- function "
   ]
  },
  {
   "cell_type": "code",
   "execution_count": 29,
   "id": "69c81412-b00d-4733-a1a4-0541247a8cdb",
   "metadata": {},
   "outputs": [],
   "source": [
    "p = 'python is use for webdev and ML,its also use for AI'"
   ]
  },
  {
   "cell_type": "code",
   "execution_count": 31,
   "id": "ea4f2669-898e-4668-a490-ec1ab6a3743b",
   "metadata": {},
   "outputs": [],
   "source": [
    "my_list = p.split()"
   ]
  },
  {
   "cell_type": "code",
   "execution_count": 33,
   "id": "de3ec9fa-57f2-4693-90bb-4fc8d2ca7054",
   "metadata": {},
   "outputs": [
    {
     "name": "stdout",
     "output_type": "stream",
     "text": [
      "{'p': 1, 'y': 1, 't': 2, 'h': 1, 'o': 4, 'n': 2, ' ': 10, 'i': 2, 's': 5, 'u': 2, 'e': 4, 'f': 2, 'r': 2, 'w': 1, 'b': 1, 'd': 2, 'v': 1, 'a': 2, 'M': 1, 'L': 1, ',': 1, 'l': 1, 'A': 1, 'I': 1}\n"
     ]
    }
   ],
   "source": [
    "d = {}\n",
    "for element in p:\n",
    "    if element in d:\n",
    "        d[element]+=1\n",
    "    else:\n",
    "        d[element]=1\n",
    "print(d)"
   ]
  },
  {
   "cell_type": "code",
   "execution_count": 34,
   "id": "53c3fa62-7b33-464d-9746-b7e50d369027",
   "metadata": {},
   "outputs": [],
   "source": [
    "p = '67764345xcvvcvdfgdgddfdgdfdgddfg!@#$%^&*dsfsadfgssadgadsdsag'"
   ]
  },
  {
   "cell_type": "code",
   "execution_count": null,
   "id": "bbe5e664-4532-4c12-b116-37164c1dd9bb",
   "metadata": {},
   "outputs": [],
   "source": [
    "Assigment 1\n",
    "ch = []\n",
    "num = []\n",
    "special = []\n",
    "\n",
    "Assigment 2:\n",
    "ch = {} \n",
    "num = {} \n",
    "spacial = {}\n",
    "\n",
    "Assigment 3:\n",
    "\n",
    "AIEOU \n",
    "\n",
    "chars -- fetch"
   ]
  },
  {
   "cell_type": "code",
   "execution_count": 36,
   "id": "204cb5bc-635c-45aa-8776-7a6d0541a374",
   "metadata": {},
   "outputs": [],
   "source": [
    "p = [5,23,7,23,76,3,65,34,7,76,34]"
   ]
  },
  {
   "cell_type": "code",
   "execution_count": null,
   "id": "b3b7602d-d0d8-482f-9713-4b11f4ccd0cd",
   "metadata": {},
   "outputs": [],
   "source": [
    "remove duplicate element from list?\n",
    "find unique elements in list?\n",
    "find max element from list?\n",
    "find min element from list?\n"
   ]
  },
  {
   "cell_type": "code",
   "execution_count": 37,
   "id": "bd1ab5a5-5d94-46ff-b7db-19bd420bbc46",
   "metadata": {},
   "outputs": [
    {
     "data": {
      "text/plain": [
       "[5, 23, 7, 23, 76, 3, 65, 34, 7, 76, 34]"
      ]
     },
     "execution_count": 37,
     "metadata": {},
     "output_type": "execute_result"
    }
   ],
   "source": [
    "p"
   ]
  },
  {
   "cell_type": "code",
   "execution_count": 38,
   "id": "c37b759f-41ae-498e-b2ea-a9fcfce4d8f6",
   "metadata": {},
   "outputs": [
    {
     "data": {
      "text/plain": [
       "[5, 23, 7, 23, 76, 3, 65, 34, 7, 76, 34]"
      ]
     },
     "execution_count": 38,
     "metadata": {},
     "output_type": "execute_result"
    }
   ],
   "source": [
    "p"
   ]
  },
  {
   "cell_type": "code",
   "execution_count": 39,
   "id": "1dd0e375-29dc-4c5c-a394-8b90a9da02d8",
   "metadata": {},
   "outputs": [
    {
     "name": "stdout",
     "output_type": "stream",
     "text": [
      "[23, 7, 76, 34]\n",
      "[5, 23, 7, 76, 3, 65, 34]\n"
     ]
    }
   ],
   "source": [
    "duplicate  = []\n",
    "unique = []\n",
    "\n",
    "for element in p:\n",
    "    if element in unique:\n",
    "        duplicate.append(element)\n",
    "    else:\n",
    "        unique.append(element)\n",
    "print(duplicate)\n",
    "print(unique)\n"
   ]
  },
  {
   "cell_type": "code",
   "execution_count": 42,
   "id": "df98beac-54d5-41fe-a05b-81b171899cb7",
   "metadata": {},
   "outputs": [],
   "source": [
    "p =  [5, 23, 7, 23, 76, 3, 100,65, 34, 7, 76, 34]"
   ]
  },
  {
   "cell_type": "code",
   "execution_count": 43,
   "id": "d92636c1-9277-4c09-972c-0db76ba1607e",
   "metadata": {},
   "outputs": [
    {
     "name": "stdout",
     "output_type": "stream",
     "text": [
      "100\n"
     ]
    }
   ],
   "source": [
    "max_num = p[0]\n",
    "for num in p:\n",
    "    if num>max_num:\n",
    "        max_num = num\n",
    "print(max_num)"
   ]
  },
  {
   "cell_type": "code",
   "execution_count": null,
   "id": "e72fb1dc-6398-4399-aaa1-b4536101c815",
   "metadata": {},
   "outputs": [],
   "source": [
    "loop control statement\n",
    "\n",
    "break : break execute --> it will terminate the loop\n",
    "continue : continue --> it will jump to next iteration | skip the current iteration"
   ]
  },
  {
   "cell_type": "code",
   "execution_count": 46,
   "id": "3c29fd13-cb2d-4adb-863c-49a8c85f1d16",
   "metadata": {},
   "outputs": [],
   "source": [
    "p = [6545,23,65,65,43,7665,43,45,76,43,677,'dfdsfdsf','fdsfdsf',765,213,5465,54,645]"
   ]
  },
  {
   "cell_type": "code",
   "execution_count": null,
   "id": "6fe90364-41b6-4ae6-b831-2411a916b305",
   "metadata": {},
   "outputs": [],
   "source": [
    "productid -- > invalid data --> terminate"
   ]
  },
  {
   "cell_type": "code",
   "execution_count": 48,
   "id": "82a811a8-e54f-440e-b791-7369e35ba5f2",
   "metadata": {},
   "outputs": [
    {
     "name": "stdout",
     "output_type": "stream",
     "text": [
      "processing 6545\n",
      "processing 23\n",
      "processing 65\n",
      "processing 65\n",
      "processing 43\n",
      "processing 7665\n",
      "processing 43\n",
      "processing 45\n",
      "processing 76\n",
      "processing 43\n",
      "processing 677\n"
     ]
    }
   ],
   "source": [
    "for i in p:\n",
    "    if str(i).isnumeric():\n",
    "        print(\"processing {}\".format(i))\n",
    "    else:\n",
    "        break"
   ]
  },
  {
   "cell_type": "code",
   "execution_count": null,
   "id": "6e5d552d-c426-49dd-8507-6b593f928928",
   "metadata": {},
   "outputs": [],
   "source": [
    "file --> changes --> fetch operation -->Database"
   ]
  },
  {
   "cell_type": "code",
   "execution_count": 49,
   "id": "1a64534e-9220-40e3-9af1-2b637a18acaa",
   "metadata": {},
   "outputs": [],
   "source": [
    "name = ['keshav','madhav','punit',45543643,'rahul']"
   ]
  },
  {
   "cell_type": "code",
   "execution_count": 51,
   "id": "a7b8e986-40fb-4aa0-b90b-60455dc3109b",
   "metadata": {},
   "outputs": [
    {
     "name": "stdout",
     "output_type": "stream",
     "text": [
      "keshav\n",
      "madhav\n",
      "punit\n"
     ]
    }
   ],
   "source": [
    "for nm in name:\n",
    "    if str(nm).isalpha():\n",
    "        print(nm)\n",
    "    else:\n",
    "        break"
   ]
  },
  {
   "cell_type": "code",
   "execution_count": 54,
   "id": "6f82eef9-9419-4ee8-8a6e-4600c6275459",
   "metadata": {},
   "outputs": [],
   "source": [
    "city = ['pune','mumbai',5765676,34,76,65,43,6545,6,'chennai','banglore','delhi']"
   ]
  },
  {
   "cell_type": "code",
   "execution_count": 57,
   "id": "b1fc5cde-e221-45a7-82b5-374fb9ad68b5",
   "metadata": {},
   "outputs": [
    {
     "name": "stdout",
     "output_type": "stream",
     "text": [
      "processing pune\n",
      "processing mumbai\n",
      "processing chennai\n",
      "processing banglore\n",
      "processing delhi\n"
     ]
    }
   ],
   "source": [
    "invalid = []\n",
    "for element in city:\n",
    "    if str(element).isalpha():\n",
    "        print(\"processing {}\".format(element))\n",
    "    else:\n",
    "        invalid.append(element)\n",
    "        continue\n",
    "\n"
   ]
  },
  {
   "cell_type": "code",
   "execution_count": 58,
   "id": "b985e4c2-bcee-4fdd-9591-901bbc48f792",
   "metadata": {},
   "outputs": [
    {
     "data": {
      "text/plain": [
       "[5765676, 34, 76, 65, 43, 6545, 6]"
      ]
     },
     "execution_count": 58,
     "metadata": {},
     "output_type": "execute_result"
    }
   ],
   "source": [
    "invalid"
   ]
  },
  {
   "cell_type": "code",
   "execution_count": null,
   "id": "c9e1b5ed-8903-4edb-b5ee-6560b062f347",
   "metadata": {},
   "outputs": [],
   "source": [
    "by using :\n",
    "1.prime number \n",
    "2.factorial\n",
    "3.fabbonacci\n",
    "4.amstrong number\n",
    "5.palindrom number or chars or string"
   ]
  },
  {
   "cell_type": "code",
   "execution_count": 59,
   "id": "c08ccc74-e67f-4c41-bfdd-a04fabfa8d72",
   "metadata": {},
   "outputs": [
    {
     "ename": "SyntaxError",
     "evalue": "incomplete input (3054301271.py, line 1)",
     "output_type": "error",
     "traceback": [
      "\u001b[1;36m  Cell \u001b[1;32mIn[59], line 1\u001b[1;36m\u001b[0m\n\u001b[1;33m    range(\u001b[0m\n\u001b[1;37m          ^\u001b[0m\n\u001b[1;31mSyntaxError\u001b[0m\u001b[1;31m:\u001b[0m incomplete input\n"
     ]
    }
   ],
   "source": [
    "range() :\n",
    "Data types | Data Stucture\n",
    "it is use to generate sequenece of number"
   ]
  },
  {
   "cell_type": "code",
   "execution_count": null,
   "id": "7f1c5c8c-97fd-4052-9d3d-3c7a74d4ad86",
   "metadata": {},
   "outputs": [],
   "source": [
    "1- 100\n",
    "\n",
    "45 - 780\n",
    "45,46,47,48 --- 780\n",
    "\n",
    "\n",
    "start ---> end --> jump/steps"
   ]
  },
  {
   "cell_type": "code",
   "execution_count": null,
   "id": "e58a5c9e-91bf-4cb4-a39e-cc3ca4122eb4",
   "metadata": {},
   "outputs": [],
   "source": [
    "range(start,stop-1,step)\n",
    "defualt \n",
    "\n",
    "start=0\n",
    "step=1\n",
    "\n",
    "range(1,11,1)  # 1- 10\n",
    "\n",
    "range(5,501,1) # 5 to 500\n",
    "\n",
    "range(10,101) # start =10 stop = 100 by \n",
    "\n",
    "default step =1\n",
    "\n",
    "range(50)\n",
    "default \n",
    "\n",
    "start =0\n",
    "step = 1"
   ]
  },
  {
   "cell_type": "code",
   "execution_count": 60,
   "id": "76a74137-d756-4360-ad36-1b8eb9e3e2db",
   "metadata": {},
   "outputs": [
    {
     "name": "stdout",
     "output_type": "stream",
     "text": [
      "1\n",
      "2\n",
      "3\n",
      "4\n",
      "5\n",
      "6\n",
      "7\n",
      "8\n",
      "9\n",
      "10\n"
     ]
    }
   ],
   "source": [
    "for i in range(1,11,1):\n",
    "    print(i)"
   ]
  },
  {
   "cell_type": "code",
   "execution_count": 61,
   "id": "4a3d56da-51f7-443b-b915-bd74242e7c20",
   "metadata": {},
   "outputs": [
    {
     "name": "stdout",
     "output_type": "stream",
     "text": [
      "5\n",
      "6\n",
      "7\n",
      "8\n",
      "9\n",
      "10\n",
      "11\n",
      "12\n",
      "13\n",
      "14\n",
      "15\n",
      "16\n",
      "17\n",
      "18\n",
      "19\n",
      "20\n",
      "21\n",
      "22\n",
      "23\n",
      "24\n",
      "25\n",
      "26\n",
      "27\n",
      "28\n",
      "29\n",
      "30\n",
      "31\n",
      "32\n",
      "33\n",
      "34\n",
      "35\n",
      "36\n",
      "37\n",
      "38\n",
      "39\n",
      "40\n",
      "41\n",
      "42\n",
      "43\n",
      "44\n",
      "45\n",
      "46\n",
      "47\n",
      "48\n",
      "49\n",
      "50\n",
      "51\n",
      "52\n",
      "53\n",
      "54\n",
      "55\n",
      "56\n",
      "57\n",
      "58\n",
      "59\n",
      "60\n",
      "61\n",
      "62\n",
      "63\n",
      "64\n",
      "65\n",
      "66\n",
      "67\n",
      "68\n",
      "69\n",
      "70\n",
      "71\n",
      "72\n",
      "73\n",
      "74\n",
      "75\n",
      "76\n",
      "77\n",
      "78\n",
      "79\n",
      "80\n",
      "81\n",
      "82\n",
      "83\n",
      "84\n",
      "85\n",
      "86\n",
      "87\n",
      "88\n",
      "89\n",
      "90\n",
      "91\n",
      "92\n",
      "93\n",
      "94\n",
      "95\n",
      "96\n",
      "97\n",
      "98\n",
      "99\n",
      "100\n",
      "101\n",
      "102\n",
      "103\n",
      "104\n",
      "105\n",
      "106\n",
      "107\n",
      "108\n",
      "109\n",
      "110\n",
      "111\n",
      "112\n",
      "113\n",
      "114\n",
      "115\n",
      "116\n",
      "117\n",
      "118\n",
      "119\n",
      "120\n",
      "121\n",
      "122\n",
      "123\n",
      "124\n",
      "125\n",
      "126\n",
      "127\n",
      "128\n",
      "129\n",
      "130\n",
      "131\n",
      "132\n",
      "133\n",
      "134\n",
      "135\n",
      "136\n",
      "137\n",
      "138\n",
      "139\n",
      "140\n",
      "141\n",
      "142\n",
      "143\n",
      "144\n",
      "145\n",
      "146\n",
      "147\n",
      "148\n",
      "149\n",
      "150\n",
      "151\n",
      "152\n",
      "153\n",
      "154\n",
      "155\n",
      "156\n",
      "157\n",
      "158\n",
      "159\n",
      "160\n",
      "161\n",
      "162\n",
      "163\n",
      "164\n",
      "165\n",
      "166\n",
      "167\n",
      "168\n",
      "169\n",
      "170\n",
      "171\n",
      "172\n",
      "173\n",
      "174\n",
      "175\n",
      "176\n",
      "177\n",
      "178\n",
      "179\n",
      "180\n",
      "181\n",
      "182\n",
      "183\n",
      "184\n",
      "185\n",
      "186\n",
      "187\n",
      "188\n",
      "189\n",
      "190\n",
      "191\n",
      "192\n",
      "193\n",
      "194\n",
      "195\n",
      "196\n",
      "197\n",
      "198\n",
      "199\n"
     ]
    }
   ],
   "source": [
    "for i in range(5,200):\n",
    "    print(i)"
   ]
  },
  {
   "cell_type": "code",
   "execution_count": 62,
   "id": "113a90b0-33b6-4348-8b90-ca2a5602545f",
   "metadata": {},
   "outputs": [
    {
     "name": "stdout",
     "output_type": "stream",
     "text": [
      "0\n",
      "1\n",
      "2\n",
      "3\n",
      "4\n",
      "5\n",
      "6\n",
      "7\n",
      "8\n",
      "9\n",
      "10\n",
      "11\n",
      "12\n",
      "13\n",
      "14\n"
     ]
    }
   ],
   "source": [
    "for i in range(15):\n",
    "    print(i)"
   ]
  },
  {
   "cell_type": "code",
   "execution_count": null,
   "id": "9a8945bf-b21b-4006-8636-648373f4ae83",
   "metadata": {},
   "outputs": [],
   "source": [
    "interview:\n",
    "\n",
    "python --> reverse nohtyp"
   ]
  },
  {
   "cell_type": "code",
   "execution_count": null,
   "id": "85fd35e2-6502-41de-afbc-c0379791a58c",
   "metadata": {},
   "outputs": [],
   "source": [
    "kadak  -- kadak -- same -- palindrom \n",
    "\n",
    "121 -- 121 -- palindrom"
   ]
  },
  {
   "cell_type": "code",
   "execution_count": null,
   "id": "a0b22249-ef64-46c1-b31d-44050aba16f1",
   "metadata": {},
   "outputs": [],
   "source": [
    "-6 -5 -4 -3 -2 -1\n",
    "p  y  t  h  o  n\n",
    "0  1  2  3  4  5\n"
   ]
  },
  {
   "cell_type": "code",
   "execution_count": null,
   "id": "5af8d644-5ed0-4d22-b496-846f778ba9d4",
   "metadata": {},
   "outputs": [],
   "source": [
    "543210\n",
    "\n",
    "-1-2-3-4-5-6"
   ]
  },
  {
   "cell_type": "code",
   "execution_count": null,
   "id": "38fa88d3-66a6-45bd-bae4-75e107825099",
   "metadata": {},
   "outputs": [],
   "source": [
    "Practice:\n",
    "\n",
    "for loop\n",
    "range\n",
    "break\n",
    "continue\n"
   ]
  }
 ],
 "metadata": {
  "kernelspec": {
   "display_name": "Python 3 (ipykernel)",
   "language": "python",
   "name": "python3"
  },
  "language_info": {
   "codemirror_mode": {
    "name": "ipython",
    "version": 3
   },
   "file_extension": ".py",
   "mimetype": "text/x-python",
   "name": "python",
   "nbconvert_exporter": "python",
   "pygments_lexer": "ipython3",
   "version": "3.12.7"
  }
 },
 "nbformat": 4,
 "nbformat_minor": 5
}
