{
 "cells": [
  {
   "cell_type": "code",
   "execution_count": 1,
   "id": "def7280b-61c6-4a11-ad77-9bff9dde9352",
   "metadata": {},
   "outputs": [],
   "source": [
    "def sample():\n",
    "    print(\"in sample\")"
   ]
  },
  {
   "cell_type": "code",
   "execution_count": 2,
   "id": "87284eda-992d-462d-b6c1-3df91bedf5e6",
   "metadata": {},
   "outputs": [],
   "source": [
    "m1 =  sample"
   ]
  },
  {
   "cell_type": "code",
   "execution_count": 3,
   "id": "be31ed4d-007e-4f09-bece-a377f51b3ef5",
   "metadata": {},
   "outputs": [
    {
     "name": "stdout",
     "output_type": "stream",
     "text": [
      "in sample\n"
     ]
    }
   ],
   "source": [
    "m1()"
   ]
  },
  {
   "cell_type": "code",
   "execution_count": 4,
   "id": "02562c05-36d0-4e67-b0b8-caad7512478e",
   "metadata": {},
   "outputs": [],
   "source": [
    "test = sample"
   ]
  },
  {
   "cell_type": "code",
   "execution_count": 5,
   "id": "3344aa81-d61c-44ab-8678-ce360166c928",
   "metadata": {},
   "outputs": [
    {
     "name": "stdout",
     "output_type": "stream",
     "text": [
      "in sample\n"
     ]
    }
   ],
   "source": [
    "test()"
   ]
  },
  {
   "cell_type": "code",
   "execution_count": 10,
   "id": "cf788b98-e759-4a77-bade-55cd06d66c9a",
   "metadata": {},
   "outputs": [],
   "source": [
    "def email_create(fname,lname):\n",
    "    email = fname+\".\"+lname+\"@gmail.com\"\n",
    "    return email"
   ]
  },
  {
   "cell_type": "code",
   "execution_count": 11,
   "id": "c0149c27-f7c3-4cb9-8d90-13bf0e71ef66",
   "metadata": {},
   "outputs": [],
   "source": [
    "complete_email = email_create(\"admin\",\"ibm\")"
   ]
  },
  {
   "cell_type": "code",
   "execution_count": 12,
   "id": "c7271f94-498c-4e57-a385-366f81f70b43",
   "metadata": {},
   "outputs": [
    {
     "data": {
      "text/plain": [
       "'admin.ibm@gmail.com'"
      ]
     },
     "execution_count": 12,
     "metadata": {},
     "output_type": "execute_result"
    }
   ],
   "source": [
    "complete_email"
   ]
  },
  {
   "cell_type": "code",
   "execution_count": 13,
   "id": "e1238665-7acb-4d20-96ec-9376b2521b47",
   "metadata": {},
   "outputs": [],
   "source": [
    "temp_name = email_create"
   ]
  },
  {
   "cell_type": "code",
   "execution_count": 15,
   "id": "2b49d307-d7b4-48c6-b79a-1fff265b7d16",
   "metadata": {},
   "outputs": [],
   "source": [
    "result  = temp_name('test','python')"
   ]
  },
  {
   "cell_type": "code",
   "execution_count": 16,
   "id": "99aa6a1c-6c0b-4de0-b23a-361c39d8a238",
   "metadata": {},
   "outputs": [
    {
     "data": {
      "text/plain": [
       "'test.python@gmail.com'"
      ]
     },
     "execution_count": 16,
     "metadata": {},
     "output_type": "execute_result"
    }
   ],
   "source": [
    "result"
   ]
  },
  {
   "cell_type": "code",
   "execution_count": 22,
   "id": "96ac27f0-205e-40d3-ae8b-809413d30bce",
   "metadata": {},
   "outputs": [],
   "source": [
    "def outer():\n",
    "    def inner():\n",
    "        print(\"in inner\")\n",
    " "
   ]
  },
  {
   "cell_type": "code",
   "execution_count": 19,
   "id": "608ae4e8-b3c6-4e00-af35-6798a666c33d",
   "metadata": {},
   "outputs": [],
   "source": [
    "temp = outer()"
   ]
  },
  {
   "cell_type": "code",
   "execution_count": 21,
   "id": "7f3d7e66-75f8-4e85-aa06-b5e5584cd0ce",
   "metadata": {},
   "outputs": [
    {
     "name": "stdout",
     "output_type": "stream",
     "text": [
      "in inner\n"
     ]
    }
   ],
   "source": [
    "temp()"
   ]
  },
  {
   "cell_type": "code",
   "execution_count": 23,
   "id": "64c51b0c-4625-40ab-97ea-5492fb3e990a",
   "metadata": {},
   "outputs": [],
   "source": [
    "def temp():\n",
    "    a = 100\n",
    "    b =200"
   ]
  },
  {
   "cell_type": "code",
   "execution_count": 25,
   "id": "c5bb917c-b540-473c-80d8-c1bcab6fb506",
   "metadata": {},
   "outputs": [],
   "source": [
    "# Note :\n",
    "\n",
    "# function  --> variable | function  | anything inside function is local\n",
    "# we cann access from outside\n",
    "\n",
    "Encapsulation --> wrapping data | other members into single unit"
   ]
  },
  {
   "cell_type": "code",
   "execution_count": null,
   "id": "f4065c8e-52a6-44d3-8620-bc551f1d1699",
   "metadata": {},
   "outputs": [],
   "source": [
    "function alicing\n",
    "how to access nested function from outside"
   ]
  },
  {
   "cell_type": "code",
   "execution_count": null,
   "id": "55d08924-4967-4ca2-8d62-5ed470328cf2",
   "metadata": {},
   "outputs": [],
   "source": [
    "decorator:\n",
    "it is function which enhance the functionality of another function without changing its \n",
    "original structure"
   ]
  },
  {
   "cell_type": "code",
   "execution_count": 27,
   "id": "41fe8756-c529-45cc-bb5a-ac5e55a70e5b",
   "metadata": {},
   "outputs": [],
   "source": [
    "def show():\n",
    "    print(\"Hello,Welcome to AI Nexus IT\")"
   ]
  },
  {
   "cell_type": "code",
   "execution_count": null,
   "id": "b78fc753-7c04-4b30-866a-d876e50d6dcc",
   "metadata": {},
   "outputs": [],
   "source": [
    "********************************  before\n",
    "Hello,Welcome to AI Nexus IT\n",
    "******************************** after"
   ]
  },
  {
   "cell_type": "code",
   "execution_count": 45,
   "id": "e08c9e0c-5656-4799-8208-4ec6d8b286b8",
   "metadata": {},
   "outputs": [],
   "source": [
    "def decor_show(funct):\n",
    "    def inner(a,b):\n",
    "        print(\"*\"*30)\n",
    "        funct(a,b)\n",
    "        print(\"*\"*30)\n",
    "    return inner\n",
    "\n",
    "def show():\n",
    "    print(\"Hello,Welcome to AI Nexus IT\")"
   ]
  },
  {
   "cell_type": "code",
   "execution_count": 32,
   "id": "e3510e50-c8c7-4393-a19f-27da46b6a78e",
   "metadata": {},
   "outputs": [
    {
     "name": "stdout",
     "output_type": "stream",
     "text": [
      "******************************\n",
      "Hello,Welcome to AI Nexus IT\n",
      "******************************\n"
     ]
    }
   ],
   "source": [
    "result = decor_show(show)\n",
    "result()"
   ]
  },
  {
   "cell_type": "code",
   "execution_count": 33,
   "id": "67ebcd76-ef30-4d5d-a0a4-d67d5e7405be",
   "metadata": {},
   "outputs": [],
   "source": [
    "@decor_show\n",
    "def show():\n",
    "    print(\"Hello,Welcome to AI Nexus IT\")"
   ]
  },
  {
   "cell_type": "code",
   "execution_count": 34,
   "id": "e7458fcf-f635-452f-bb94-a1241b7fb374",
   "metadata": {},
   "outputs": [
    {
     "name": "stdout",
     "output_type": "stream",
     "text": [
      "******************************\n",
      "Hello,Welcome to AI Nexus IT\n",
      "******************************\n"
     ]
    }
   ],
   "source": [
    "show()"
   ]
  },
  {
   "cell_type": "code",
   "execution_count": 36,
   "id": "91d71103-48fe-471c-a9ef-7d2760405d11",
   "metadata": {},
   "outputs": [],
   "source": [
    "@decor_show\n",
    "def welcome():\n",
    "    print(\"Welcome ,python Data Science\")"
   ]
  },
  {
   "cell_type": "code",
   "execution_count": 37,
   "id": "37920134-83f6-4c54-88f2-14fde325e960",
   "metadata": {},
   "outputs": [
    {
     "name": "stdout",
     "output_type": "stream",
     "text": [
      "******************************\n",
      "Welcome ,python Data Science\n",
      "******************************\n"
     ]
    }
   ],
   "source": [
    "welcome()"
   ]
  },
  {
   "cell_type": "code",
   "execution_count": 47,
   "id": "1dc1ecd9-929e-473f-b6f1-7c69655be809",
   "metadata": {},
   "outputs": [],
   "source": [
    "@decor_show\n",
    "def add(a,b):    \n",
    "    print(\"Additiion of {} and {} is {}\".format(a,b,a+b))"
   ]
  },
  {
   "cell_type": "code",
   "execution_count": 48,
   "id": "09e3ce39-7a68-4b42-b135-e90aeeee9016",
   "metadata": {},
   "outputs": [
    {
     "name": "stdout",
     "output_type": "stream",
     "text": [
      "******************************\n",
      "Additiion of 100 and 200 is 300\n",
      "******************************\n"
     ]
    }
   ],
   "source": [
    "add(100,200)"
   ]
  },
  {
   "cell_type": "code",
   "execution_count": 50,
   "id": "fb3ca7fe-1395-4124-b3ee-b525ab13e30c",
   "metadata": {},
   "outputs": [],
   "source": [
    "def copper_data_transfer():\n",
    "    print(\"connection establishmene code\")\n",
    "    print(\"data transfer for Copper\")\n",
    "    print(\"connection Termination\")\n",
    "def silver_data_transfer():\n",
    "    print(\"connection establishmene code\")\n",
    "    print(\"data transfer for silver\")\n",
    "    print(\"connection Termination\")\n",
    "def gold_data_transfer():\n",
    "    print(\"connection establishmene code\")\n",
    "    print(\"data transfer for gold\")\n",
    "    print(\"connection Termination\")\n",
    "def al_data_transfer():\n",
    "    print(\"connection establishment code\")\n",
    "    print(\"data transfer for al\")\n",
    "    print(\"connection Termination\")"
   ]
  },
  {
   "cell_type": "code",
   "execution_count": 51,
   "id": "4c2ff512-b746-40b0-9c5d-334ca4491c53",
   "metadata": {},
   "outputs": [
    {
     "name": "stdout",
     "output_type": "stream",
     "text": [
      "connection establishmene code\n",
      "data transfer for Copper\n",
      "connection Termination\n",
      "connection establishmene code\n",
      "data transfer for silver\n",
      "connection Termination\n",
      "connection establishmene code\n",
      "data transfer for gold\n",
      "connection Termination\n",
      "connection establishment code\n",
      "data transfer for al\n",
      "connection Termination\n"
     ]
    }
   ],
   "source": [
    "copper_data_transfer()\n",
    "silver_data_transfer()\n",
    "gold_data_transfer()\n",
    "al_data_transfer()"
   ]
  },
  {
   "cell_type": "code",
   "execution_count": 52,
   "id": "e6b074b6-96b6-4a1d-871c-c8178a512449",
   "metadata": {},
   "outputs": [],
   "source": [
    "def db_decor(funct):\n",
    "    def inner():\n",
    "        print(\"connection establishment code\")\n",
    "        funct()\n",
    "        print(\"connection termination\")\n",
    "    return inner"
   ]
  },
  {
   "cell_type": "code",
   "execution_count": 53,
   "id": "78e112e4-64df-47e9-9b62-85faba3a1680",
   "metadata": {},
   "outputs": [],
   "source": [
    "@db_decor\n",
    "def copper_data_transfer():   \n",
    "    print(\"data transfer for Copper\")\n",
    "@db_decor    \n",
    "def silver_data_transfer():    \n",
    "    print(\"data transfer for silver\")\n",
    "@db_decor  \n",
    "def gold_data_transfer():    \n",
    "    print(\"data transfer for gold\")\n",
    "@db_decor\n",
    "def al_data_transfer():  \n",
    "    print(\"data transfer for al\")"
   ]
  },
  {
   "cell_type": "code",
   "execution_count": 54,
   "id": "2182f4d4-5ec7-4e8c-bc0e-03ea54e71673",
   "metadata": {},
   "outputs": [
    {
     "name": "stdout",
     "output_type": "stream",
     "text": [
      "connection establishment code\n",
      "data transfer for Copper\n",
      "connection termination\n",
      "connection establishment code\n",
      "data transfer for silver\n",
      "connection termination\n",
      "connection establishment code\n",
      "data transfer for gold\n",
      "connection termination\n",
      "connection establishment code\n",
      "data transfer for al\n",
      "connection termination\n"
     ]
    }
   ],
   "source": [
    "copper_data_transfer()\n",
    "silver_data_transfer()\n",
    "gold_data_transfer()\n",
    "al_data_transfer()"
   ]
  },
  {
   "cell_type": "code",
   "execution_count": null,
   "id": "8cec20af-8631-497b-8f4f-eadc342cd601",
   "metadata": {},
   "outputs": [],
   "source": [
    "before\n",
    "function\n",
    "after "
   ]
  },
  {
   "cell_type": "code",
   "execution_count": null,
   "id": "ec42832e-0f3a-454a-be10-1ec39cfd723e",
   "metadata": {},
   "outputs": [],
   "source": [
    "Authentication:\n",
    "\n",
    "\n"
   ]
  },
  {
   "cell_type": "code",
   "execution_count": 60,
   "id": "9b55e032-0615-4174-8f3e-5bfc93a226af",
   "metadata": {},
   "outputs": [],
   "source": [
    "def authentication(funct):\n",
    "    username = 'admin'\n",
    "    password = 'admin@123'\n",
    "    def inner():\n",
    "        u = input(\"Enter the username:\")        \n",
    "        if username==u:\n",
    "            p = input(\"Enter the password:\")\n",
    "            if password==p:\n",
    "                print(\"login successfully\")\n",
    "                funct()\n",
    "                print(\"logout successfully\")                \n",
    "            else:\n",
    "                print(\"Password wrong,login failed\")\n",
    "        else:\n",
    "            print(\"Username wrong,login failed\")\n",
    "    return inner\n",
    "                \n",
    "\n",
    "@authentication\n",
    "def conf_data():\n",
    "    print(\"Product Details\")\n",
    "    print(\"Copper,4343,5353535\")"
   ]
  },
  {
   "cell_type": "code",
   "execution_count": 61,
   "id": "8bead355-0d6b-46a8-8b47-1c9c123cb639",
   "metadata": {},
   "outputs": [
    {
     "ename": "SyntaxError",
     "evalue": "invalid syntax (2629068953.py, line 1)",
     "output_type": "error",
     "traceback": [
      "\u001b[1;36m  Cell \u001b[1;32mIn[61], line 1\u001b[1;36m\u001b[0m\n\u001b[1;33m    before --> authectication -- using username and password\u001b[0m\n\u001b[1;37m            ^\u001b[0m\n\u001b[1;31mSyntaxError\u001b[0m\u001b[1;31m:\u001b[0m invalid syntax\n"
     ]
    }
   ],
   "source": [
    "before --> authectication -- using username and password\n",
    "\n",
    "if itsok conf_data  else: denied"
   ]
  },
  {
   "cell_type": "code",
   "execution_count": 64,
   "id": "e7e549cc-17fa-49e6-8a58-19456f533ffd",
   "metadata": {},
   "outputs": [
    {
     "name": "stdin",
     "output_type": "stream",
     "text": [
      "Enter the username: admin\n",
      "Enter the password: admin@123\n"
     ]
    },
    {
     "name": "stdout",
     "output_type": "stream",
     "text": [
      "login successfully\n",
      "Product Details\n",
      "Copper,4343,5353535\n",
      "logout successfully\n"
     ]
    }
   ],
   "source": [
    "conf_data()"
   ]
  },
  {
   "cell_type": "code",
   "execution_count": 66,
   "id": "ea7bf62c-393d-452b-9eef-b3021eb6d51d",
   "metadata": {},
   "outputs": [],
   "source": [
    "@authentication\n",
    "def data_gold():\n",
    "    print(\"gold 5464445 43543\")"
   ]
  },
  {
   "cell_type": "code",
   "execution_count": 68,
   "id": "63569b4b-616f-4c08-8bc3-d1617aa39d84",
   "metadata": {},
   "outputs": [
    {
     "name": "stdin",
     "output_type": "stream",
     "text": [
      "Enter the username: admin\n",
      "Enter the password: admin@123\n"
     ]
    },
    {
     "name": "stdout",
     "output_type": "stream",
     "text": [
      "login successfully\n",
      "gold 5464445 43543\n",
      "logout successfully\n"
     ]
    }
   ],
   "source": [
    "data_gold()"
   ]
  },
  {
   "cell_type": "code",
   "execution_count": null,
   "id": "1dcfd1d0-5ae4-446c-ab63-44fa6fde78a8",
   "metadata": {},
   "outputs": [],
   "source": [
    "API call\n",
    "Authorization"
   ]
  },
  {
   "cell_type": "code",
   "execution_count": null,
   "id": "cb1fe5a1-fc9e-485b-b161-df6bd6770483",
   "metadata": {},
   "outputs": [],
   "source": [
    "Assigment :\n",
    "\n",
    "decorator -- create decorator authentication\n",
    "\n"
   ]
  }
 ],
 "metadata": {
  "kernelspec": {
   "display_name": "Python 3 (ipykernel)",
   "language": "python",
   "name": "python3"
  },
  "language_info": {
   "codemirror_mode": {
    "name": "ipython",
    "version": 3
   },
   "file_extension": ".py",
   "mimetype": "text/x-python",
   "name": "python",
   "nbconvert_exporter": "python",
   "pygments_lexer": "ipython3",
   "version": "3.12.7"
  }
 },
 "nbformat": 4,
 "nbformat_minor": 5
}
