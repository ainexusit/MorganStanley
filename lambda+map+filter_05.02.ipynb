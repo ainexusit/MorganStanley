{
 "cells": [
  {
   "cell_type": "code",
   "execution_count": null,
   "id": "1b50e76a-7270-4d10-a6d8-6040267b43ea",
   "metadata": {},
   "outputs": [],
   "source": [
    "Code Optimization Technique\n",
    "\n",
    "lambda expression:\n",
    "anoynoumous function -- no name\n",
    "inline function/one line\n",
    "temporary function\n",
    "just in time\n"
   ]
  },
  {
   "cell_type": "code",
   "execution_count": null,
   "id": "09afaa60-c0d8-409e-812c-c5bdc17bb080",
   "metadata": {},
   "outputs": [],
   "source": [
    "normal function\n",
    "\n",
    "code organize\n",
    "security\n"
   ]
  },
  {
   "cell_type": "code",
   "execution_count": null,
   "id": "143a088f-9fa8-47b9-a7a4-937335f29ebd",
   "metadata": {},
   "outputs": [],
   "source": [
    "task -->\n",
    "\n",
    "def add(x,y):\n",
    "    return x+y"
   ]
  },
  {
   "cell_type": "code",
   "execution_count": null,
   "id": "7ba10e4e-8451-49d6-aebd-97bcc9f42099",
   "metadata": {},
   "outputs": [],
   "source": [
    "lambda inputs : output expression"
   ]
  },
  {
   "cell_type": "code",
   "execution_count": 2,
   "id": "91d2a09e-5a5c-45d9-a486-a439652dd14c",
   "metadata": {},
   "outputs": [],
   "source": [
    "result  = (lambda x,y : x+y)(45,70)"
   ]
  },
  {
   "cell_type": "code",
   "execution_count": 3,
   "id": "4c7958e3-c7a3-476e-8920-3ba0375e138c",
   "metadata": {},
   "outputs": [
    {
     "data": {
      "text/plain": [
       "115"
      ]
     },
     "execution_count": 3,
     "metadata": {},
     "output_type": "execute_result"
    }
   ],
   "source": [
    "result"
   ]
  },
  {
   "cell_type": "code",
   "execution_count": null,
   "id": "8fb07244-a75c-49c8-b188-afd936be56fd",
   "metadata": {},
   "outputs": [],
   "source": [
    "function - "
   ]
  },
  {
   "cell_type": "code",
   "execution_count": 4,
   "id": "b723f02c-36bf-4227-92f4-609e4a0c89ee",
   "metadata": {},
   "outputs": [
    {
     "data": {
      "text/plain": [
       "'ainexusit.Pune@gmail.com'"
      ]
     },
     "execution_count": 4,
     "metadata": {},
     "output_type": "execute_result"
    }
   ],
   "source": [
    "(lambda fname,lname : fname+\".\"+lname+\"@gmail.com\")(\"ainexusit\",\"Pune\")"
   ]
  },
  {
   "cell_type": "code",
   "execution_count": 5,
   "id": "6a5b5d57-11aa-4bb3-8238-44667ce14c77",
   "metadata": {},
   "outputs": [
    {
     "data": {
      "text/plain": [
       "'test'"
      ]
     },
     "execution_count": 5,
     "metadata": {},
     "output_type": "execute_result"
    }
   ],
   "source": [
    "(lambda x : x.split('@')[0])('test@gmail.com')"
   ]
  },
  {
   "cell_type": "code",
   "execution_count": null,
   "id": "60850632-8085-4e56-92d8-8320e51ffb81",
   "metadata": {},
   "outputs": [],
   "source": [
    "map\n",
    "filter\n",
    "reduce"
   ]
  },
  {
   "cell_type": "code",
   "execution_count": null,
   "id": "514084c6-1d37-44fd-a16a-ad30ceb69eec",
   "metadata": {},
   "outputs": [],
   "source": [
    "map : function which takes function as argument and apply on each element of DS/iterable"
   ]
  },
  {
   "cell_type": "code",
   "execution_count": null,
   "id": "ec959624-9983-42b7-b813-7d5f809620ba",
   "metadata": {},
   "outputs": [],
   "source": [
    "map(function,DS)"
   ]
  },
  {
   "cell_type": "code",
   "execution_count": 6,
   "id": "0941fc5b-dbd6-4a16-9a63-690bb6b18c9e",
   "metadata": {},
   "outputs": [],
   "source": [
    "emails = ['test@gmail.com','sample@yahoo.com','ml@gmail.com',]\n"
   ]
  },
  {
   "cell_type": "code",
   "execution_count": 7,
   "id": "e20d2c8a-d3d5-4815-92ef-4a7d0d40c930",
   "metadata": {},
   "outputs": [
    {
     "name": "stdout",
     "output_type": "stream",
     "text": [
      "['test', 'sample', 'ml']\n"
     ]
    }
   ],
   "source": [
    "username = []\n",
    "for e in emails:\n",
    "    username.append(e.split('@')[0])\n",
    "print(username)"
   ]
  },
  {
   "cell_type": "code",
   "execution_count": 8,
   "id": "9a21e0dc-cd9e-48f4-a72e-467f3825ee9c",
   "metadata": {},
   "outputs": [],
   "source": [
    "def username_fetch(e):\n",
    "    username = e.split('@')[0]\n",
    "    return username"
   ]
  },
  {
   "cell_type": "code",
   "execution_count": 9,
   "id": "eb6720ad-60d4-4bb1-afe7-9cf68052432b",
   "metadata": {},
   "outputs": [
    {
     "data": {
      "text/plain": [
       "'test'"
      ]
     },
     "execution_count": 9,
     "metadata": {},
     "output_type": "execute_result"
    }
   ],
   "source": [
    "username_fetch('test@gmail.com')"
   ]
  },
  {
   "cell_type": "code",
   "execution_count": null,
   "id": "1844612b-e6ea-4270-b94b-e5d7142dbb27",
   "metadata": {},
   "outputs": [],
   "source": [
    "emails = ['test@gmail.com','sample@yahoo.com','ml@gmail.com',]"
   ]
  },
  {
   "cell_type": "code",
   "execution_count": 14,
   "id": "870fadd2-5ce7-454d-9b9e-bd16707a5a92",
   "metadata": {},
   "outputs": [
    {
     "data": {
      "text/plain": [
       "['test', 'sample', 'ml']"
      ]
     },
     "execution_count": 14,
     "metadata": {},
     "output_type": "execute_result"
    }
   ],
   "source": [
    "list(map(username_fetch,emails))"
   ]
  },
  {
   "cell_type": "code",
   "execution_count": 16,
   "id": "8682a6d7-d66d-44a5-81b9-73878c276659",
   "metadata": {},
   "outputs": [],
   "source": [
    "username = list(map(lambda x : x.split('@')[0],emails))"
   ]
  },
  {
   "cell_type": "code",
   "execution_count": 18,
   "id": "8a536143-7b52-44e2-8110-a34fbebffd47",
   "metadata": {},
   "outputs": [
    {
     "data": {
      "text/plain": [
       "['test', 'sample', 'ml']"
      ]
     },
     "execution_count": 18,
     "metadata": {},
     "output_type": "execute_result"
    }
   ],
   "source": [
    "username"
   ]
  },
  {
   "cell_type": "code",
   "execution_count": 19,
   "id": "35f37a2f-c196-43c6-8765-17c15e22fa8d",
   "metadata": {},
   "outputs": [],
   "source": [
    "gen = ['m','f','m','f','f','f','m']"
   ]
  },
  {
   "cell_type": "code",
   "execution_count": null,
   "id": "7acf00a0-a1f2-4809-a436-7bbbdd3839e8",
   "metadata": {},
   "outputs": [],
   "source": [
    "[1,0,1,0,0,0,1]"
   ]
  },
  {
   "cell_type": "code",
   "execution_count": 20,
   "id": "a779f9ed-a1b2-41a7-a893-d7d6320b4e80",
   "metadata": {},
   "outputs": [
    {
     "data": {
      "text/plain": [
       "[1, 0, 1, 0, 0, 0, 1]"
      ]
     },
     "execution_count": 20,
     "metadata": {},
     "output_type": "execute_result"
    }
   ],
   "source": [
    "list(map(lambda x : 1 if x=='m' else 0,gen))"
   ]
  },
  {
   "cell_type": "code",
   "execution_count": 21,
   "id": "36229b3a-dcbf-40a4-a308-6a0446062031",
   "metadata": {},
   "outputs": [],
   "source": [
    "date  = ['01-12-2024','04-11-2023','07-07-2025']"
   ]
  },
  {
   "cell_type": "code",
   "execution_count": 22,
   "id": "9ebeb10c-fec8-40c4-9842-e351d89d84dd",
   "metadata": {},
   "outputs": [],
   "source": [
    "day,month,year = list(map(lambda x: x.split('-')[0],date)),list(map(lambda x: x.split('-')[1],date)),list(map(lambda x: x.split('-')[2],date))"
   ]
  },
  {
   "cell_type": "code",
   "execution_count": 23,
   "id": "c901b9e4-dd58-4da2-8565-dd52e34f9d0b",
   "metadata": {},
   "outputs": [
    {
     "data": {
      "text/plain": [
       "['01', '04', '07']"
      ]
     },
     "execution_count": 23,
     "metadata": {},
     "output_type": "execute_result"
    }
   ],
   "source": [
    "day"
   ]
  },
  {
   "cell_type": "code",
   "execution_count": 24,
   "id": "ca94a687-311d-41b4-baee-9cc35cd6b6ed",
   "metadata": {},
   "outputs": [
    {
     "data": {
      "text/plain": [
       "['12', '11', '07']"
      ]
     },
     "execution_count": 24,
     "metadata": {},
     "output_type": "execute_result"
    }
   ],
   "source": [
    "month"
   ]
  },
  {
   "cell_type": "code",
   "execution_count": 25,
   "id": "4de58d71-6c30-4a28-9fff-7156ea3a386e",
   "metadata": {},
   "outputs": [
    {
     "data": {
      "text/plain": [
       "['2024', '2023', '2025']"
      ]
     },
     "execution_count": 25,
     "metadata": {},
     "output_type": "execute_result"
    }
   ],
   "source": [
    "year"
   ]
  },
  {
   "cell_type": "code",
   "execution_count": null,
   "id": "83fae1c9-e5a5-42b9-ad0a-c3853b3cdf69",
   "metadata": {},
   "outputs": [],
   "source": [
    "city \n",
    "\n",
    "pune    - 100\n",
    "mumbai  -200\n",
    "banglore - 300\n",
    "chennai  - 400\n",
    "delhi -  500\n"
   ]
  },
  {
   "cell_type": "code",
   "execution_count": 41,
   "id": "b3bae7c7-b783-4ba6-b946-0d9dab12da40",
   "metadata": {},
   "outputs": [],
   "source": [
    "city = ['pune','mumnbai','chennai','delhi','delhi','banglore','banglore','pune','pune','mumbai']"
   ]
  },
  {
   "cell_type": "code",
   "execution_count": 31,
   "id": "7720e199-9b50-4363-84cf-11dc93b15c19",
   "metadata": {},
   "outputs": [
    {
     "data": {
      "text/plain": [
       "[100, 200, 400, 300, 300, 100, 100, 200]"
      ]
     },
     "execution_count": 31,
     "metadata": {},
     "output_type": "execute_result"
    }
   ],
   "source": [
    "[100,200,400,300,300,100,100,200]"
   ]
  },
  {
   "cell_type": "code",
   "execution_count": null,
   "id": "a2ecef60-805d-4372-a960-2603b0a5e56c",
   "metadata": {},
   "outputs": [],
   "source": [
    "map with :\n",
    "1.normal function \n",
    "2.lambda function"
   ]
  },
  {
   "cell_type": "code",
   "execution_count": 27,
   "id": "974d00a6-4efd-4858-99c3-3e195b653f2d",
   "metadata": {},
   "outputs": [],
   "source": [
    "gen = ['m','f','m','f','f','f','m','sadfd','sdadfdsf','m']"
   ]
  },
  {
   "cell_type": "code",
   "execution_count": null,
   "id": "3fe48f0f-8f00-4739-80cc-1461bd670aee",
   "metadata": {},
   "outputs": [],
   "source": [
    "[1,0,1,0,0,0,1,'invalid','invalid',1]"
   ]
  },
  {
   "cell_type": "code",
   "execution_count": 29,
   "id": "f4695c93-950f-4cb0-8a0f-9f0d02b3ddf3",
   "metadata": {},
   "outputs": [
    {
     "data": {
      "text/plain": [
       "[1, 0, 1, 0, 0, 0, 1, 'invalid', 'invalid', 1]"
      ]
     },
     "execution_count": 29,
     "metadata": {},
     "output_type": "execute_result"
    }
   ],
   "source": [
    "list(map(lambda x: 1 if x=='m' else 0 if x=='f' else 'invalid',gen))"
   ]
  },
  {
   "cell_type": "code",
   "execution_count": 32,
   "id": "b27e4619-d8f7-458b-9f86-4fd90041a75e",
   "metadata": {},
   "outputs": [],
   "source": [
    "p = [5,76,3,4,3]"
   ]
  },
  {
   "cell_type": "code",
   "execution_count": null,
   "id": "8d8d1629-1e32-4794-9dd8-8500db5af9c8",
   "metadata": {},
   "outputs": [],
   "source": [
    "filter:\n",
    "Based on condition element get filter"
   ]
  },
  {
   "cell_type": "code",
   "execution_count": 33,
   "id": "3dbea7fb-accf-4f95-9e5d-c68f6064ddba",
   "metadata": {},
   "outputs": [],
   "source": [
    "p = [76,34,86,43,76,34,87,45,8,4,5,65,6]"
   ]
  },
  {
   "cell_type": "code",
   "execution_count": 34,
   "id": "977c2999-da2b-470e-a9c9-74c304620a7a",
   "metadata": {},
   "outputs": [
    {
     "data": {
      "text/plain": [
       "[76, 34, 86, 76, 34, 8, 4, 6]"
      ]
     },
     "execution_count": 34,
     "metadata": {},
     "output_type": "execute_result"
    }
   ],
   "source": [
    "list(filter(lambda x : x%2==0 , p))"
   ]
  },
  {
   "cell_type": "code",
   "execution_count": 35,
   "id": "639d9522-902a-4264-a68a-8abd1214c9a4",
   "metadata": {},
   "outputs": [
    {
     "data": {
      "text/plain": [
       "['test@gmail.com', 'sample@yahoo.com', 'ml@gmail.com']"
      ]
     },
     "execution_count": 35,
     "metadata": {},
     "output_type": "execute_result"
    }
   ],
   "source": [
    "emails"
   ]
  },
  {
   "cell_type": "code",
   "execution_count": 36,
   "id": "6c1c050d-5cb2-4c7f-9ee8-1455fee1d447",
   "metadata": {},
   "outputs": [
    {
     "data": {
      "text/plain": [
       "['sample@yahoo.com']"
      ]
     },
     "execution_count": 36,
     "metadata": {},
     "output_type": "execute_result"
    }
   ],
   "source": [
    "list(filter(lambda x: x.endswith('@yahoo.com'),emails))"
   ]
  },
  {
   "cell_type": "code",
   "execution_count": 37,
   "id": "81c5be92-6b80-4351-bc2e-d0e441c15d26",
   "metadata": {},
   "outputs": [],
   "source": [
    "files = ['test.csv','sample.pdf','python.xlsx','hadoop.csv','ml.pdf']"
   ]
  },
  {
   "cell_type": "code",
   "execution_count": 39,
   "id": "64738041-2d45-40e8-b141-2ea417ff9218",
   "metadata": {},
   "outputs": [
    {
     "data": {
      "text/plain": [
       "['test.csv', 'sample.pdf', 'hadoop.csv', 'ml.pdf']"
      ]
     },
     "execution_count": 39,
     "metadata": {},
     "output_type": "execute_result"
    }
   ],
   "source": [
    "\n",
    "list(filter(lambda x: x.endswith('.csv') or x.endswith('.pdf'),files))"
   ]
  },
  {
   "cell_type": "code",
   "execution_count": 40,
   "id": "3b010563-e016-4f5f-bf1a-b8771e3475fb",
   "metadata": {},
   "outputs": [
    {
     "data": {
      "text/plain": [
       "[True, True, False, True, True]"
      ]
     },
     "execution_count": 40,
     "metadata": {},
     "output_type": "execute_result"
    }
   ],
   "source": [
    "list(map(lambda x: x.endswith('.csv') or x.endswith('.pdf'),files))"
   ]
  },
  {
   "cell_type": "code",
   "execution_count": null,
   "id": "beea10c4-d250-4e3d-bbb1-81acbbd92a6a",
   "metadata": {},
   "outputs": [],
   "source": [
    "True --> filter --> output -- filter"
   ]
  },
  {
   "cell_type": "code",
   "execution_count": 42,
   "id": "2673ac71-41f6-418a-8f2d-a1663f781468",
   "metadata": {},
   "outputs": [
    {
     "data": {
      "text/plain": [
       "['pune',\n",
       " 'mumnbai',\n",
       " 'chennai',\n",
       " 'delhi',\n",
       " 'delhi',\n",
       " 'banglore',\n",
       " 'banglore',\n",
       " 'pune',\n",
       " 'pune',\n",
       " 'mumbai']"
      ]
     },
     "execution_count": 42,
     "metadata": {},
     "output_type": "execute_result"
    }
   ],
   "source": [
    "city"
   ]
  },
  {
   "cell_type": "code",
   "execution_count": 43,
   "id": "47061c3e-9246-414e-af6c-0bc2b24d1d33",
   "metadata": {},
   "outputs": [
    {
     "data": {
      "text/plain": [
       "[76, 34, 86, 43, 76, 34, 87, 45, 8, 4, 5, 65, 6]"
      ]
     },
     "execution_count": 43,
     "metadata": {},
     "output_type": "execute_result"
    }
   ],
   "source": [
    "p"
   ]
  },
  {
   "cell_type": "code",
   "execution_count": 44,
   "id": "fff34aaa-627b-4734-8b71-f5fa5df717fd",
   "metadata": {},
   "outputs": [
    {
     "data": {
      "text/plain": [
       "569"
      ]
     },
     "execution_count": 44,
     "metadata": {},
     "output_type": "execute_result"
    }
   ],
   "source": [
    "sum(p)"
   ]
  },
  {
   "cell_type": "code",
   "execution_count": 45,
   "id": "3872628e-a90c-4188-9789-7960ce397509",
   "metadata": {},
   "outputs": [],
   "source": [
    "from functools import reduce"
   ]
  },
  {
   "cell_type": "code",
   "execution_count": 46,
   "id": "d8060073-5de8-4fcd-b251-65b11f8077dc",
   "metadata": {},
   "outputs": [
    {
     "ename": "SyntaxError",
     "evalue": "invalid syntax (2248117441.py, line 1)",
     "output_type": "error",
     "traceback": [
      "\u001b[1;36m  Cell \u001b[1;32mIn[46], line 1\u001b[1;36m\u001b[0m\n\u001b[1;33m    list(reduce(x,y) :  x+y,p)\u001b[0m\n\u001b[1;37m                     ^\u001b[0m\n\u001b[1;31mSyntaxError\u001b[0m\u001b[1;31m:\u001b[0m invalid syntax\n"
     ]
    }
   ],
   "source": [
    "list(reduce(x,y) :  x+y,p)"
   ]
  },
  {
   "cell_type": "code",
   "execution_count": 47,
   "id": "fe331f02-8560-4de5-b0f9-5e146b717694",
   "metadata": {},
   "outputs": [
    {
     "name": "stdout",
     "output_type": "stream",
     "text": [
      "15\n"
     ]
    }
   ],
   "source": [
    "from functools import reduce\n",
    "\n",
    "# Summing numbers with reduce and lambda\n",
    "a = [1, 2, 3, 4, 5]\n",
    "res = reduce(lambda x, y: x + y, a)\n",
    "\n",
    "print(res)"
   ]
  },
  {
   "cell_type": "code",
   "execution_count": 48,
   "id": "56497ead-c81b-4abe-95de-f59956dd1605",
   "metadata": {},
   "outputs": [
    {
     "data": {
      "text/plain": [
       "15"
      ]
     },
     "execution_count": 48,
     "metadata": {},
     "output_type": "execute_result"
    }
   ],
   "source": [
    "sum(a)"
   ]
  },
  {
   "cell_type": "code",
   "execution_count": null,
   "id": "83495ee6-5be3-40b0-82bf-6fe58ca8703c",
   "metadata": {},
   "outputs": [],
   "source": [
    "map\n",
    "filter"
   ]
  },
  {
   "cell_type": "code",
   "execution_count": 49,
   "id": "53f81f48-d2a4-4045-b9d9-82aadc7714b1",
   "metadata": {},
   "outputs": [],
   "source": [
    "p = ['656','4545','45545','645','4545','5454','45464']"
   ]
  },
  {
   "cell_type": "code",
   "execution_count": 50,
   "id": "d4e02600-c279-4e76-b809-ba34e5cd7163",
   "metadata": {},
   "outputs": [],
   "source": [
    "p = [66,35,75,78,9643]\n",
    "\n",
    "even -- squre"
   ]
  },
  {
   "cell_type": "code",
   "execution_count": null,
   "id": "853a5eb4-d87f-4f21-a8d2-110cd2c3a04a",
   "metadata": {},
   "outputs": [],
   "source": []
  }
 ],
 "metadata": {
  "kernelspec": {
   "display_name": "Python 3 (ipykernel)",
   "language": "python",
   "name": "python3"
  },
  "language_info": {
   "codemirror_mode": {
    "name": "ipython",
    "version": 3
   },
   "file_extension": ".py",
   "mimetype": "text/x-python",
   "name": "python",
   "nbconvert_exporter": "python",
   "pygments_lexer": "ipython3",
   "version": "3.12.7"
  }
 },
 "nbformat": 4,
 "nbformat_minor": 5
}
