{
 "cells": [
  {
   "cell_type": "code",
   "execution_count": null,
   "id": "8930e598-879f-4ecb-9a61-8304de3203cf",
   "metadata": {},
   "outputs": [],
   "source": [
    "Operators in Python:\n",
    "\n",
    "1.Arithemetic Operators\n",
    "2.Comparision /Conditional Operators\n",
    "3.Logical Operators\n",
    "4.Membership operators\n",
    "5.Assigment Operators\n",
    "6.Identity Operators\n",
    "7.Bitwise Operators\n",
    "8.Ternary Operators"
   ]
  },
  {
   "cell_type": "code",
   "execution_count": null,
   "id": "acaa4e1c-300e-45cd-96dd-8b06877b99b0",
   "metadata": {},
   "outputs": [],
   "source": [
    "Operators:\n",
    "\n",
    "a + b \n",
    "\n",
    "+ -- > symbol which define operation on operands\n",
    "a,b --> operands"
   ]
  },
  {
   "cell_type": "code",
   "execution_count": null,
   "id": "6c1d7b10-5b7f-4963-81ce-82cd43490fb3",
   "metadata": {},
   "outputs": [],
   "source": [
    "Artithemtic :\n",
    "\n",
    "+ - addition\n",
    "- - substraction\n",
    "* - multiplication\n",
    "/   - division\n",
    "    \n",
    "// --floor division\n",
    "**  -- exponent\n",
    "% -- modulous"
   ]
  },
  {
   "cell_type": "code",
   "execution_count": null,
   "id": "35100376-176d-407b-a7de-6bbab76e111d",
   "metadata": {},
   "outputs": [],
   "source": [
    "+ --\n",
    "\n",
    "int/float + int/float -- arithmetic addition\n",
    "\n",
    "list + list = concat\n",
    "str + str =  concat\n",
    "tuple + tuple =  concat\n",
    "====================================================\n",
    "*\n",
    "int/float * int/float -- arithemetic multiplication\n",
    "\n",
    "list * int -- repeatation /duplicate\n",
    "tuple * int\n",
    "str * int \n"
   ]
  },
  {
   "cell_type": "code",
   "execution_count": 1,
   "id": "3776a17d-1f4d-4d79-99c7-631771ec52ac",
   "metadata": {},
   "outputs": [
    {
     "data": {
      "text/plain": [
       "87"
      ]
     },
     "execution_count": 1,
     "metadata": {},
     "output_type": "execute_result"
    }
   ],
   "source": [
    "34 + 53"
   ]
  },
  {
   "cell_type": "code",
   "execution_count": 2,
   "id": "cce87f82-3685-437c-8aa5-7270f33bf097",
   "metadata": {},
   "outputs": [
    {
     "data": {
      "text/plain": [
       "9.8"
      ]
     },
     "execution_count": 2,
     "metadata": {},
     "output_type": "execute_result"
    }
   ],
   "source": [
    "3.5+6.3"
   ]
  },
  {
   "cell_type": "code",
   "execution_count": 3,
   "id": "0871415b-5a5f-4cb6-ae4c-99705c04b946",
   "metadata": {},
   "outputs": [
    {
     "data": {
      "text/plain": [
       "63.5"
      ]
     },
     "execution_count": 3,
     "metadata": {},
     "output_type": "execute_result"
    }
   ],
   "source": [
    "3.5 +60"
   ]
  },
  {
   "cell_type": "code",
   "execution_count": 4,
   "id": "cba4ab11-a1a1-411b-94f8-313997486a13",
   "metadata": {},
   "outputs": [
    {
     "data": {
      "text/plain": [
       "[1, 2, 3, 5, 6, 7]"
      ]
     },
     "execution_count": 4,
     "metadata": {},
     "output_type": "execute_result"
    }
   ],
   "source": [
    "[1,2,3] +[5,6,7]"
   ]
  },
  {
   "cell_type": "code",
   "execution_count": 5,
   "id": "c5ca650a-b2f0-4ad1-934b-238920a73532",
   "metadata": {},
   "outputs": [
    {
     "data": {
      "text/plain": [
       "(1, 5, 6, 5, 3, 65)"
      ]
     },
     "execution_count": 5,
     "metadata": {},
     "output_type": "execute_result"
    }
   ],
   "source": [
    "(1,5,6) + (5,3,65)"
   ]
  },
  {
   "cell_type": "code",
   "execution_count": 6,
   "id": "a73b327a-8fec-46f8-9b13-a37837feb709",
   "metadata": {},
   "outputs": [
    {
     "data": {
      "text/plain": [
       "'pythonjava'"
      ]
     },
     "execution_count": 6,
     "metadata": {},
     "output_type": "execute_result"
    }
   ],
   "source": [
    "'python' + 'java'"
   ]
  },
  {
   "cell_type": "code",
   "execution_count": 7,
   "id": "7e514d11-d9e3-46b0-acd0-3853a5afe6d9",
   "metadata": {},
   "outputs": [
    {
     "ename": "TypeError",
     "evalue": "can only concatenate list (not \"tuple\") to list",
     "output_type": "error",
     "traceback": [
      "\u001b[1;31m---------------------------------------------------------------------------\u001b[0m",
      "\u001b[1;31mTypeError\u001b[0m                                 Traceback (most recent call last)",
      "Cell \u001b[1;32mIn[7], line 1\u001b[0m\n\u001b[1;32m----> 1\u001b[0m [\u001b[38;5;241m1\u001b[39m,\u001b[38;5;241m2\u001b[39m,\u001b[38;5;241m3\u001b[39m] \u001b[38;5;241m+\u001b[39m (\u001b[38;5;241m4\u001b[39m,\u001b[38;5;241m5\u001b[39m,\u001b[38;5;241m6\u001b[39m)\n",
      "\u001b[1;31mTypeError\u001b[0m: can only concatenate list (not \"tuple\") to list"
     ]
    }
   ],
   "source": [
    "[1,2,3] + (4,5,6)"
   ]
  },
  {
   "cell_type": "code",
   "execution_count": 8,
   "id": "0221986c-2e08-46ee-bb87-c2e4b022ea5d",
   "metadata": {},
   "outputs": [],
   "source": [
    "p = [1,2,3]"
   ]
  },
  {
   "cell_type": "code",
   "execution_count": 10,
   "id": "fc1603a2-6ce5-4291-b244-611260c5b693",
   "metadata": {},
   "outputs": [
    {
     "ename": "TypeError",
     "evalue": "can't multiply sequence by non-int of type 'float'",
     "output_type": "error",
     "traceback": [
      "\u001b[1;31m---------------------------------------------------------------------------\u001b[0m",
      "\u001b[1;31mTypeError\u001b[0m                                 Traceback (most recent call last)",
      "Cell \u001b[1;32mIn[10], line 1\u001b[0m\n\u001b[1;32m----> 1\u001b[0m p\u001b[38;5;241m*\u001b[39m\u001b[38;5;241m3.5\u001b[39m\n",
      "\u001b[1;31mTypeError\u001b[0m: can't multiply sequence by non-int of type 'float'"
     ]
    }
   ],
   "source": [
    "p*3.5"
   ]
  },
  {
   "cell_type": "code",
   "execution_count": 12,
   "id": "62007f9a-47d6-4e96-ac1b-a09500bb607a",
   "metadata": {},
   "outputs": [
    {
     "ename": "TypeError",
     "evalue": "unsupported operand type(s) for *: 'set' and 'int'",
     "output_type": "error",
     "traceback": [
      "\u001b[1;31m---------------------------------------------------------------------------\u001b[0m",
      "\u001b[1;31mTypeError\u001b[0m                                 Traceback (most recent call last)",
      "Cell \u001b[1;32mIn[12], line 1\u001b[0m\n\u001b[1;32m----> 1\u001b[0m {\u001b[38;5;241m1\u001b[39m,\u001b[38;5;241m2\u001b[39m,\u001b[38;5;241m3\u001b[39m}\u001b[38;5;241m*\u001b[39m\u001b[38;5;241m3\u001b[39m\n",
      "\u001b[1;31mTypeError\u001b[0m: unsupported operand type(s) for *: 'set' and 'int'"
     ]
    }
   ],
   "source": [
    "{1,2,3}*3"
   ]
  },
  {
   "cell_type": "code",
   "execution_count": null,
   "id": "8e89ef86-3ab7-492d-ac7a-6a940235580c",
   "metadata": {},
   "outputs": [],
   "source": [
    "//-  floor division"
   ]
  },
  {
   "cell_type": "code",
   "execution_count": null,
   "id": "e251c7e4-10a2-4d65-8862-82a22eaaa593",
   "metadata": {},
   "outputs": [],
   "source": [
    "normal "
   ]
  },
  {
   "cell_type": "code",
   "execution_count": 14,
   "id": "b4db07cc-529e-45f9-88e9-0f165acadde3",
   "metadata": {},
   "outputs": [
    {
     "data": {
      "text/plain": [
       "22.5"
      ]
     },
     "execution_count": 14,
     "metadata": {},
     "output_type": "execute_result"
    }
   ],
   "source": [
    "45/2"
   ]
  },
  {
   "cell_type": "code",
   "execution_count": 15,
   "id": "0a090e0b-1bf2-464c-81d5-33adf58ada70",
   "metadata": {},
   "outputs": [
    {
     "data": {
      "text/plain": [
       "22"
      ]
     },
     "execution_count": 15,
     "metadata": {},
     "output_type": "execute_result"
    }
   ],
   "source": [
    "45//2"
   ]
  },
  {
   "cell_type": "code",
   "execution_count": 16,
   "id": "451ac482-fcc6-4a3c-979f-808a187d84ed",
   "metadata": {},
   "outputs": [
    {
     "data": {
      "text/plain": [
       "23"
      ]
     },
     "execution_count": 16,
     "metadata": {},
     "output_type": "execute_result"
    }
   ],
   "source": [
    "import math\n",
    "math.ceil(45/2)"
   ]
  },
  {
   "cell_type": "code",
   "execution_count": null,
   "id": "d5542851-d380-480c-bc28-9bc67778de64",
   "metadata": {},
   "outputs": [],
   "source": [
    "46 -- ceil\n",
    "45.7 - normal\n",
    "45 - floor"
   ]
  },
  {
   "cell_type": "code",
   "execution_count": null,
   "id": "75bd20f2-f269-4914-b13f-58007276c847",
   "metadata": {},
   "outputs": [],
   "source": [
    "**"
   ]
  },
  {
   "cell_type": "code",
   "execution_count": 17,
   "id": "8d008b1d-7eb7-4270-89b9-a8c2ce6384cb",
   "metadata": {},
   "outputs": [],
   "source": [
    "no = 4**3"
   ]
  },
  {
   "cell_type": "code",
   "execution_count": 18,
   "id": "e28bf5fe-ef0f-4d51-9625-36f443f0e1c4",
   "metadata": {},
   "outputs": [
    {
     "data": {
      "text/plain": [
       "64"
      ]
     },
     "execution_count": 18,
     "metadata": {},
     "output_type": "execute_result"
    }
   ],
   "source": [
    "no"
   ]
  },
  {
   "cell_type": "code",
   "execution_count": 19,
   "id": "dff4b57f-8ad1-4677-bb2e-70b9c125cdec",
   "metadata": {},
   "outputs": [
    {
     "data": {
      "text/plain": [
       "625"
      ]
     },
     "execution_count": 19,
     "metadata": {},
     "output_type": "execute_result"
    }
   ],
   "source": [
    "5**4"
   ]
  },
  {
   "cell_type": "code",
   "execution_count": null,
   "id": "d4ea7e5d-4a10-48c6-b621-0c0e9f8f7ce4",
   "metadata": {},
   "outputs": [],
   "source": [
    "% modulos"
   ]
  },
  {
   "cell_type": "code",
   "execution_count": 20,
   "id": "9ab62421-c820-4226-8f33-94484df517f8",
   "metadata": {},
   "outputs": [
    {
     "data": {
      "text/plain": [
       "1"
      ]
     },
     "execution_count": 20,
     "metadata": {},
     "output_type": "execute_result"
    }
   ],
   "source": [
    "5%2"
   ]
  },
  {
   "cell_type": "code",
   "execution_count": 21,
   "id": "1dc49d93-7355-4f47-828c-7e5702a15a19",
   "metadata": {},
   "outputs": [
    {
     "data": {
      "text/plain": [
       "0"
      ]
     },
     "execution_count": 21,
     "metadata": {},
     "output_type": "execute_result"
    }
   ],
   "source": [
    "10%2"
   ]
  },
  {
   "cell_type": "code",
   "execution_count": null,
   "id": "23c3139d-7a2c-4bbe-930d-682cd5a62457",
   "metadata": {},
   "outputs": [],
   "source": [
    "Number system:\n",
    "\n",
    "binary\n",
    "octal\n",
    "decimal\n",
    "hexadecimal\n",
    "\n",
    "======================\n",
    "decimal to binary\n",
    "binary to decimal"
   ]
  }
 ],
 "metadata": {
  "kernelspec": {
   "display_name": "Python 3 (ipykernel)",
   "language": "python",
   "name": "python3"
  },
  "language_info": {
   "codemirror_mode": {
    "name": "ipython",
    "version": 3
   },
   "file_extension": ".py",
   "mimetype": "text/x-python",
   "name": "python",
   "nbconvert_exporter": "python",
   "pygments_lexer": "ipython3",
   "version": "3.12.7"
  }
 },
 "nbformat": 4,
 "nbformat_minor": 5
}
