{
 "cells": [
  {
   "cell_type": "code",
   "execution_count": null,
   "id": "35a7ea84-dea9-403f-a514-4892999b5ed5",
   "metadata": {},
   "outputs": [],
   "source": [
    "Types of Variable in Function?\n",
    "\n",
    "1.local variable : scope within the function only\n",
    "2.global variable : throught the program /script or in another script also"
   ]
  },
  {
   "cell_type": "code",
   "execution_count": 7,
   "id": "b1f44093-f319-4fb2-aa90-865a6901bb2d",
   "metadata": {},
   "outputs": [],
   "source": [
    "t = 500\n",
    "def test():\n",
    "    a = 100\n",
    "    print(a)\n",
    "    "
   ]
  },
  {
   "cell_type": "code",
   "execution_count": 6,
   "id": "c341f718-6043-4f15-85d4-0954316ba614",
   "metadata": {},
   "outputs": [
    {
     "name": "stdout",
     "output_type": "stream",
     "text": [
      "100\n"
     ]
    }
   ],
   "source": [
    "test()"
   ]
  },
  {
   "cell_type": "code",
   "execution_count": 14,
   "id": "635d72a0-d126-499d-b6da-9691348c6b19",
   "metadata": {},
   "outputs": [],
   "source": [
    "python1 = 'Data Science'\n",
    "\n",
    "def test():\n",
    "    python = 'Machine Learning'\n",
    "    print(python)\n",
    "    print(python1)"
   ]
  },
  {
   "cell_type": "code",
   "execution_count": 15,
   "id": "9d4a3a61-07d6-48a0-8c8b-749f8582e316",
   "metadata": {},
   "outputs": [
    {
     "name": "stdout",
     "output_type": "stream",
     "text": [
      "Machine Learning\n",
      "Data Science\n"
     ]
    }
   ],
   "source": [
    "test()"
   ]
  },
  {
   "cell_type": "code",
   "execution_count": null,
   "id": "114f1493-02b0-4317-a900-db7baca6960b",
   "metadata": {},
   "outputs": [],
   "source": [
    "local variable > Global variable"
   ]
  },
  {
   "cell_type": "code",
   "execution_count": null,
   "id": "b159c0be-5442-4f4c-8a4a-fec68a04f9be",
   "metadata": {},
   "outputs": [],
   "source": [
    "Interview :\n",
    "what is the use of global keyword?"
   ]
  },
  {
   "cell_type": "code",
   "execution_count": null,
   "id": "7e6f64b7-3883-4093-af00-ab147e74c245",
   "metadata": {},
   "outputs": [],
   "source": [
    "1.to modify global variable value using function\n",
    "2.to make local variable as global"
   ]
  },
  {
   "cell_type": "code",
   "execution_count": 19,
   "id": "66e811b1-88aa-4ba0-9488-638dc98a4974",
   "metadata": {},
   "outputs": [],
   "source": [
    "course  = 'Python Data Science'\n",
    "def m1():\n",
    "    print(course)\n",
    "def m2():\n",
    "    course = 'Machine Learning'\n",
    "    print(course)\n",
    "def m3():\n",
    "    print(course)\n",
    "def m4():\n",
    "    global course\n",
    "    course = 'AI with Python'"
   ]
  },
  {
   "cell_type": "code",
   "execution_count": 24,
   "id": "e66c16e6-80ad-4324-85ac-d91ff2a2d6e6",
   "metadata": {},
   "outputs": [
    {
     "name": "stdout",
     "output_type": "stream",
     "text": [
      "AI with Python\n",
      "Machine Learning\n",
      "AI with Python\n"
     ]
    }
   ],
   "source": [
    "m1()\n",
    "m2()\n",
    "m3()"
   ]
  },
  {
   "cell_type": "code",
   "execution_count": 21,
   "id": "acd51d72-35d7-4ac1-af02-702b62d6e2f2",
   "metadata": {},
   "outputs": [
    {
     "data": {
      "text/plain": [
       "'Python Data Science'"
      ]
     },
     "execution_count": 21,
     "metadata": {},
     "output_type": "execute_result"
    }
   ],
   "source": [
    "course"
   ]
  },
  {
   "cell_type": "code",
   "execution_count": 22,
   "id": "2c7adb87-9fd3-47d4-8087-eff23bad10d0",
   "metadata": {},
   "outputs": [],
   "source": [
    "m4()"
   ]
  },
  {
   "cell_type": "code",
   "execution_count": 23,
   "id": "d09b3bce-44e6-4fdf-9bd1-dd9bccf55845",
   "metadata": {},
   "outputs": [
    {
     "data": {
      "text/plain": [
       "'AI with Python'"
      ]
     },
     "execution_count": 23,
     "metadata": {},
     "output_type": "execute_result"
    }
   ],
   "source": [
    "course"
   ]
  },
  {
   "cell_type": "code",
   "execution_count": null,
   "id": "f76813bc-bd15-43b5-9f58-5433da884fa0",
   "metadata": {},
   "outputs": [],
   "source": [
    "m1()\n",
    "m2()\n",
    "m3()"
   ]
  },
  {
   "cell_type": "code",
   "execution_count": 28,
   "id": "a2b2f302-2298-4671-b07a-dd46d7daf4e5",
   "metadata": {},
   "outputs": [],
   "source": [
    "def python_program():\n",
    "    global c2,c4\n",
    "    c1 = 'pandas'\n",
    "    c2 = 'pyspark'\n",
    "    c3 = 'hadoop'\n",
    "    c4 = 'AWS'\n",
    "\n",
    "def course_process():\n",
    "    print(c2)\n",
    "    print(c4)"
   ]
  },
  {
   "cell_type": "code",
   "execution_count": 29,
   "id": "1c494dda-b400-4c7c-bef9-fa31b75db98a",
   "metadata": {},
   "outputs": [
    {
     "name": "stdout",
     "output_type": "stream",
     "text": [
      "pyspark\n",
      "AWS\n"
     ]
    }
   ],
   "source": [
    "python_program()\n",
    "course_process()"
   ]
  },
  {
   "cell_type": "code",
   "execution_count": null,
   "id": "06135725-971f-487f-8870-4797569be0a7",
   "metadata": {},
   "outputs": [],
   "source": [
    "real time :"
   ]
  },
  {
   "cell_type": "code",
   "execution_count": 30,
   "id": "e8067f4d-8aed-43a2-a7dd-398e4be2c77b",
   "metadata": {},
   "outputs": [],
   "source": [
    "def db_cred():\n",
    "    username = 'admin'\n",
    "    password = 'admin@123'"
   ]
  },
  {
   "cell_type": "code",
   "execution_count": null,
   "id": "0e4579ce-4b4d-4240-8915-945c10f01609",
   "metadata": {},
   "outputs": [],
   "source": [
    "file -- > username ,password"
   ]
  },
  {
   "cell_type": "code",
   "execution_count": 37,
   "id": "06bb75ef-3a4a-4384-a833-f033764c68a1",
   "metadata": {},
   "outputs": [],
   "source": [
    "import json\n",
    "def fetch_cred(fname):\n",
    "    fp = open(fname)\n",
    "    cred = json.load(fp)\n",
    "    global username,password\n",
    "    username = cred['username']\n",
    "    password = cred['password']\n",
    "    \n",
    "def db_connect():\n",
    "    print(\"connecting... using {} and {}\".format(username,password))\n",
    "\n",
    "def main():\n",
    "    filename = \"config.json\"\n",
    "    fetch_cred(filename)\n",
    "    db_connect()"
   ]
  },
  {
   "cell_type": "code",
   "execution_count": 38,
   "id": "135b77d9-2b48-4e18-824d-5d1f8efc1238",
   "metadata": {},
   "outputs": [
    {
     "name": "stdout",
     "output_type": "stream",
     "text": [
      "connecting... using root and root\n"
     ]
    }
   ],
   "source": [
    "main()"
   ]
  },
  {
   "cell_type": "code",
   "execution_count": 39,
   "id": "7e8ba33b-f923-4c53-8e06-50f3b7384056",
   "metadata": {},
   "outputs": [
    {
     "data": {
      "text/plain": [
       "'root'"
      ]
     },
     "execution_count": 39,
     "metadata": {},
     "output_type": "execute_result"
    }
   ],
   "source": [
    "username"
   ]
  },
  {
   "cell_type": "code",
   "execution_count": 40,
   "id": "b8ec81b7-a3c5-4f94-b347-b6f2d8e9606b",
   "metadata": {},
   "outputs": [
    {
     "data": {
      "text/plain": [
       "'root'"
      ]
     },
     "execution_count": 40,
     "metadata": {},
     "output_type": "execute_result"
    }
   ],
   "source": [
    "password"
   ]
  },
  {
   "cell_type": "code",
   "execution_count": null,
   "id": "452c2c40-af10-4f9c-8fee-762ff4dd7c98",
   "metadata": {},
   "outputs": [],
   "source": [
    "1.modify global variable\n",
    "2.local variable as global"
   ]
  },
  {
   "cell_type": "code",
   "execution_count": null,
   "id": "fd3d98b1-7fc0-42ce-be4b-6df8099a6b26",
   "metadata": {},
   "outputs": [],
   "source": []
  },
  {
   "cell_type": "code",
   "execution_count": null,
   "id": "c0320565-1576-4e2a-8e5d-298157cfd58d",
   "metadata": {},
   "outputs": [],
   "source": [
    "Crash : AWS 25 Services Offline"
   ]
  },
  {
   "cell_type": "code",
   "execution_count": null,
   "id": "c23bfe06-4476-4a5c-b18a-a0e4e2823c1a",
   "metadata": {},
   "outputs": [],
   "source": []
  }
 ],
 "metadata": {
  "kernelspec": {
   "display_name": "Python 3 (ipykernel)",
   "language": "python",
   "name": "python3"
  },
  "language_info": {
   "codemirror_mode": {
    "name": "ipython",
    "version": 3
   },
   "file_extension": ".py",
   "mimetype": "text/x-python",
   "name": "python",
   "nbconvert_exporter": "python",
   "pygments_lexer": "ipython3",
   "version": "3.12.7"
  }
 },
 "nbformat": 4,
 "nbformat_minor": 5
}
