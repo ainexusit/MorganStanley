{
 "cells": [
  {
   "cell_type": "code",
   "execution_count": 1,
   "id": "c7bb5679-4291-456a-82c3-7bd074c74ad8",
   "metadata": {},
   "outputs": [],
   "source": [
    "p = [65,23,7,6,34,76,34,86,34]"
   ]
  },
  {
   "cell_type": "code",
   "execution_count": 2,
   "id": "2b18a913-0f83-4904-a478-9215b224ae36",
   "metadata": {},
   "outputs": [],
   "source": [
    "def filter_even_number(my_list):\n",
    "    even = []\n",
    "    odd = []\n",
    "    for i in my_list:\n",
    "        if i%2==0:\n",
    "            even.append(i)\n",
    "        else:\n",
    "            odd.append(i)\n",
    "    return even,odd"
   ]
  },
  {
   "cell_type": "code",
   "execution_count": 3,
   "id": "9c97f7eb-dc29-4a92-8edb-6c77f8ecf48d",
   "metadata": {},
   "outputs": [],
   "source": [
    "e,o = filter_even_number(p)"
   ]
  },
  {
   "cell_type": "code",
   "execution_count": 4,
   "id": "39dc400e-535b-4549-b516-56965fec7c71",
   "metadata": {},
   "outputs": [
    {
     "data": {
      "text/plain": [
       "[6, 34, 76, 34, 86, 34]"
      ]
     },
     "execution_count": 4,
     "metadata": {},
     "output_type": "execute_result"
    }
   ],
   "source": [
    "e"
   ]
  },
  {
   "cell_type": "code",
   "execution_count": 5,
   "id": "151283e9-dc94-48e9-a6ec-2ff7d025d6eb",
   "metadata": {},
   "outputs": [
    {
     "data": {
      "text/plain": [
       "[65, 23, 7]"
      ]
     },
     "execution_count": 5,
     "metadata": {},
     "output_type": "execute_result"
    }
   ],
   "source": [
    "o"
   ]
  },
  {
   "cell_type": "code",
   "execution_count": 28,
   "id": "43d425a1-9e6f-45dc-b563-ede9061505bb",
   "metadata": {},
   "outputs": [],
   "source": [
    "p = \"hello world ,python welcome\""
   ]
  },
  {
   "cell_type": "code",
   "execution_count": null,
   "id": "5a68b353-c8bd-44e5-a358-803dd5f50493",
   "metadata": {},
   "outputs": [],
   "source": [
    "output 1 : \"world hello,welcome python\""
   ]
  },
  {
   "cell_type": "code",
   "execution_count": null,
   "id": "3a6dba69-7641-4c89-be75-80995116cdd9",
   "metadata": {},
   "outputs": [],
   "source": [
    "output2 : \"welcome python,world hello\""
   ]
  },
  {
   "cell_type": "code",
   "execution_count": 12,
   "id": "5bead898-a91a-4bcf-a7aa-9c3d2d0ae8de",
   "metadata": {},
   "outputs": [
    {
     "data": {
      "text/plain": [
       "['world', 'hello']"
      ]
     },
     "execution_count": 12,
     "metadata": {},
     "output_type": "execute_result"
    }
   ],
   "source": [
    "p.split(',')[0].split()[::-1]"
   ]
  },
  {
   "cell_type": "code",
   "execution_count": 14,
   "id": "c9856104-0491-49ca-948b-6ce9636cda07",
   "metadata": {},
   "outputs": [
    {
     "data": {
      "text/plain": [
       "['welcome', 'python']"
      ]
     },
     "execution_count": 14,
     "metadata": {},
     "output_type": "execute_result"
    }
   ],
   "source": [
    "p.split(',')[1].split()[::-1]"
   ]
  },
  {
   "cell_type": "code",
   "execution_count": null,
   "id": "502e663b-e415-4e5b-8f6d-55203ab634c7",
   "metadata": {},
   "outputs": [],
   "source": [
    "def str_reverse(my_str):\n",
    "    "
   ]
  },
  {
   "cell_type": "code",
   "execution_count": 15,
   "id": "4831d16a-ee0f-4788-997f-faaf8a905e44",
   "metadata": {},
   "outputs": [],
   "source": [
    "     -6-5-4-3-2-1\n",
    "p = 'p y t h o n'\n",
    "     0 1 2 3 4 5 "
   ]
  },
  {
   "cell_type": "code",
   "execution_count": 23,
   "id": "ca74da16-6594-47dc-a155-127fba39ac8b",
   "metadata": {},
   "outputs": [],
   "source": [
    "p = 'data science'"
   ]
  },
  {
   "cell_type": "code",
   "execution_count": 26,
   "id": "7a66f6fe-7867-4080-816d-1d26a1f596b7",
   "metadata": {},
   "outputs": [
    {
     "name": "stdout",
     "output_type": "stream",
     "text": [
      "ecneics atad"
     ]
    }
   ],
   "source": [
    "for i in range(len(p)-1,-1,-1):\n",
    "    print(p[i],end='')"
   ]
  },
  {
   "cell_type": "code",
   "execution_count": 27,
   "id": "cdb7dd61-ec66-4cf2-88d2-b46e0abd6f73",
   "metadata": {},
   "outputs": [
    {
     "name": "stdout",
     "output_type": "stream",
     "text": [
      "ecneics atad"
     ]
    }
   ],
   "source": [
    "for i in range(-1,-len(p)-1,-1):\n",
    "    print(p[i],end='')"
   ]
  },
  {
   "cell_type": "code",
   "execution_count": null,
   "id": "3af17234-ae5f-4819-8dd0-5cf05e90dc41",
   "metadata": {},
   "outputs": [],
   "source": [
    "5 4 3 2 1 0 \n",
    "\n",
    "start =5 \n",
    "stop = -1"
   ]
  },
  {
   "cell_type": "code",
   "execution_count": null,
   "id": "4ef827e6-6171-4453-bf09-924c35788b09",
   "metadata": {},
   "outputs": [],
   "source": [
    "interview :\n",
    "\n",
    "given string is palindrom or not"
   ]
  },
  {
   "cell_type": "code",
   "execution_count": null,
   "id": "6d4c8a39-cc53-4896-ab5f-ee4cafc448e3",
   "metadata": {},
   "outputs": [],
   "source": [
    "121 --> 121 -- palindrom"
   ]
  },
  {
   "cell_type": "code",
   "execution_count": 30,
   "id": "977b751b-be1e-453b-8a81-d0e2c2015d35",
   "metadata": {},
   "outputs": [],
   "source": [
    "p = '121'"
   ]
  },
  {
   "cell_type": "code",
   "execution_count": 31,
   "id": "8d408139-d012-4040-9a09-302f050d7ae5",
   "metadata": {},
   "outputs": [
    {
     "name": "stdout",
     "output_type": "stream",
     "text": [
      "121"
     ]
    }
   ],
   "source": [
    "for i in range(-1,-len(p)-1,-1):\n",
    "    print(p[i],end='')"
   ]
  },
  {
   "cell_type": "code",
   "execution_count": null,
   "id": "a905231d-c21a-4d21-8b9a-9b161eaef181",
   "metadata": {},
   "outputs": [],
   "source": [
    "p = \"hello world ,python welcome\"\n",
    "\n",
    "\n",
    "\n",
    "function --> split , [hello world,python welcome]\n",
    "\n",
    "hello world --> [::-1]"
   ]
  },
  {
   "cell_type": "code",
   "execution_count": 32,
   "id": "597ef58d-82e5-4935-850d-565d46dd5b11",
   "metadata": {},
   "outputs": [
    {
     "data": {
      "text/plain": [
       "['121']"
      ]
     },
     "execution_count": 32,
     "metadata": {},
     "output_type": "execute_result"
    }
   ],
   "source": [
    "p.split(',')"
   ]
  },
  {
   "cell_type": "code",
   "execution_count": 33,
   "id": "95f61f8b-fe21-47f8-a45b-51a1adce47bd",
   "metadata": {},
   "outputs": [],
   "source": [
    "p = \"hello world ,python welcome\""
   ]
  },
  {
   "cell_type": "code",
   "execution_count": 45,
   "id": "592d1662-2ea9-461c-a299-35fe651076b7",
   "metadata": {},
   "outputs": [
    {
     "data": {
      "text/plain": [
       "'world hello,welcome python'"
      ]
     },
     "execution_count": 45,
     "metadata": {},
     "output_type": "execute_result"
    }
   ],
   "source": [
    "\" \".join(p.split(',')[0].split()[::-1])+\",\" + \" \".join(p.split(',')[1].split()[::-1])"
   ]
  },
  {
   "cell_type": "code",
   "execution_count": null,
   "id": "5f5706af-042a-4b03-8cf2-77763b2c1498",
   "metadata": {},
   "outputs": [],
   "source": [
    "Types of arugmnets\n",
    "1.positional arguments\n",
    "2.default arguements"
   ]
  },
  {
   "cell_type": "code",
   "execution_count": 49,
   "id": "b4c7c95e-eeff-493f-947f-ab885853f575",
   "metadata": {},
   "outputs": [],
   "source": [
    "def personal_details(id,name,city,passport=\"No Passport Available\"):\n",
    "    print(\"id:\",id)\n",
    "    print(\"name:\",name)\n",
    "    print(\"city:\",city)\n",
    "    print(\"passport:\",passport)"
   ]
  },
  {
   "cell_type": "code",
   "execution_count": 50,
   "id": "0f464167-b26f-4e31-bc05-e33a9ea4700f",
   "metadata": {},
   "outputs": [
    {
     "name": "stdout",
     "output_type": "stream",
     "text": [
      "id: 101\n",
      "name: Keshav\n",
      "city: Pune\n",
      "passport: U4543543\n"
     ]
    }
   ],
   "source": [
    "personal_details(101,'Keshav','Pune','U4543543')"
   ]
  },
  {
   "cell_type": "code",
   "execution_count": 51,
   "id": "81998cb2-5a9a-4268-ab2d-913d8d62aafc",
   "metadata": {},
   "outputs": [
    {
     "name": "stdout",
     "output_type": "stream",
     "text": [
      "id: 101\n",
      "name: Keshav\n",
      "city: Pune\n",
      "passport: No Passport Available\n"
     ]
    }
   ],
   "source": [
    "personal_details(101,'Keshav','Pune')"
   ]
  },
  {
   "cell_type": "code",
   "execution_count": null,
   "id": "4a022553-822d-4b5f-80b0-95ef959d45eb",
   "metadata": {},
   "outputs": [],
   "source": [
    "statement :\n",
    "\n",
    "3 month\n",
    "6 month\n",
    "last year\n"
   ]
  },
  {
   "cell_type": "code",
   "execution_count": 52,
   "id": "5e64e6a4-f08a-4234-9b93-18241ddac063",
   "metadata": {},
   "outputs": [],
   "source": [
    "def statement_download(start='01-04-2023',end='31-03-2024'):\n",
    "    print(\"downloading statement from {} to {} \".format(start,end))"
   ]
  },
  {
   "cell_type": "code",
   "execution_count": 54,
   "id": "dad6b358-3bad-41e0-80c8-5e2e1018e174",
   "metadata": {},
   "outputs": [
    {
     "name": "stdout",
     "output_type": "stream",
     "text": [
      "downloading statement from 10-09-2023 to 12-12-2023 \n"
     ]
    }
   ],
   "source": [
    "statement_download('10-09-2023','12-12-2023')"
   ]
  },
  {
   "cell_type": "code",
   "execution_count": null,
   "id": "be919db8-ca35-4110-90f3-5b04b3f39006",
   "metadata": {},
   "outputs": [],
   "source": [
    "interivew:\n",
    "\n",
    "addition --> 3 -- \n",
    "\n",
    "3 -- add\n",
    "2  add\n",
    "1  add\n",
    "0 add"
   ]
  },
  {
   "cell_type": "code",
   "execution_count": 55,
   "id": "2290bc77-84c6-4254-91ca-a27924ec1e58",
   "metadata": {},
   "outputs": [],
   "source": [
    "def add(a=0,b=0,c=0):\n",
    "    print(a+b+c)"
   ]
  },
  {
   "cell_type": "code",
   "execution_count": 59,
   "id": "271c45cf-5140-4ff8-9622-dd0afdedf65e",
   "metadata": {},
   "outputs": [
    {
     "name": "stdout",
     "output_type": "stream",
     "text": [
      "812\n"
     ]
    }
   ],
   "source": [
    "add(102,54,656)"
   ]
  },
  {
   "cell_type": "code",
   "execution_count": 64,
   "id": "8db91d37-189b-495d-b76f-52ee6f05e10c",
   "metadata": {},
   "outputs": [],
   "source": [
    "def test(id,name,city='pune'):\n",
    "    print(id)\n",
    "    print(name)\n",
    "    print(city)"
   ]
  },
  {
   "cell_type": "code",
   "execution_count": 62,
   "id": "01ae1765-790c-46d1-958e-b3ad137646e5",
   "metadata": {},
   "outputs": [
    {
     "name": "stdout",
     "output_type": "stream",
     "text": [
      "5435\n",
      "sdfdf\n",
      "pune\n"
     ]
    }
   ],
   "source": [
    "test(5435,'sdfdf')"
   ]
  },
  {
   "cell_type": "code",
   "execution_count": null,
   "id": "fb0d7d28-6081-4565-8680-931e77429c3c",
   "metadata": {},
   "outputs": [],
   "source": [
    "positional > defualt arguments"
   ]
  },
  {
   "cell_type": "code",
   "execution_count": null,
   "id": "7a8e0bdf-6364-4592-a827-f3ad0733804b",
   "metadata": {},
   "outputs": [],
   "source": [
    "3.variable length arguments"
   ]
  },
  {
   "cell_type": "code",
   "execution_count": null,
   "id": "279076d3-3f6e-4bdf-9fde-0fd3306a2ca5",
   "metadata": {},
   "outputs": [],
   "source": [
    "arguments --> length not fixed\n",
    "              variable "
   ]
  },
  {
   "cell_type": "code",
   "execution_count": 66,
   "id": "2874a869-f4c7-4194-84fe-fec436e3310b",
   "metadata": {},
   "outputs": [],
   "source": [
    "def add(*t):\n",
    "    print(t)"
   ]
  },
  {
   "cell_type": "code",
   "execution_count": 67,
   "id": "67167509-ddeb-4d7a-b00c-019d6d7fac71",
   "metadata": {},
   "outputs": [
    {
     "name": "stdout",
     "output_type": "stream",
     "text": [
      "(10, 43, 65, 34)\n"
     ]
    }
   ],
   "source": [
    "add(10,43,65,34)"
   ]
  },
  {
   "cell_type": "code",
   "execution_count": null,
   "id": "0dbe701c-de91-4a47-b274-45cf6774a3e6",
   "metadata": {},
   "outputs": [],
   "source": [
    "PEP8 documentation --> \n",
    "*args -- argument type -- tuple\n",
    "\n",
    "**kwargs"
   ]
  },
  {
   "cell_type": "code",
   "execution_count": null,
   "id": "f1d9c2ee-e608-42ad-a5d8-3dc17c8e261e",
   "metadata": {},
   "outputs": [],
   "source": [
    "line  = \n",
    "\n",
    "y = mx+c\n",
    "\n",
    "y  = m1x1 + m2x2 + m3x3 + m4x4 + c"
   ]
  },
  {
   "cell_type": "code",
   "execution_count": 68,
   "id": "ef97329e-11a7-4047-9e56-68c5d3ac4e96",
   "metadata": {},
   "outputs": [],
   "source": [
    "def add(*args):\n",
    "    total = 0\n",
    "    for i in args:\n",
    "        total+=i\n",
    "    return total"
   ]
  },
  {
   "cell_type": "code",
   "execution_count": 73,
   "id": "8bfb7574-47fd-4931-a8d5-77ac72839706",
   "metadata": {},
   "outputs": [
    {
     "name": "stdout",
     "output_type": "stream",
     "text": [
      "5864\n"
     ]
    }
   ],
   "source": [
    "result = add(5645,34,64,23,64,34,)\n",
    "print(result)"
   ]
  },
  {
   "cell_type": "code",
   "execution_count": 77,
   "id": "300a5e69-7a39-41ab-9a05-322caa3362ef",
   "metadata": {},
   "outputs": [],
   "source": [
    "#y  = m1x1 + m2x2 + m3x3 + c\n",
    "p = [(3,56),(6,54),(2,76)]\n",
    "c = 45.75"
   ]
  },
  {
   "cell_type": "code",
   "execution_count": 79,
   "id": "65456a1e-b466-46db-a4ce-93cbb9cc2a6a",
   "metadata": {},
   "outputs": [],
   "source": [
    "# x = function(56,54,76)\n",
    "# m = 5\n",
    "# c = 45.75"
   ]
  },
  {
   "cell_type": "code",
   "execution_count": 81,
   "id": "b92d6539-14c1-4c53-832c-fd8605c08104",
   "metadata": {},
   "outputs": [],
   "source": [
    "def line_equation(m,c,*args):\n",
    "    print(m)\n",
    "    print(c)\n",
    "    print(args)"
   ]
  },
  {
   "cell_type": "code",
   "execution_count": 82,
   "id": "e98dc28b-9424-4a9e-8302-c268a23499c2",
   "metadata": {},
   "outputs": [
    {
     "name": "stdout",
     "output_type": "stream",
     "text": [
      "5\n",
      "45.75\n",
      "(56, 54, 76)\n"
     ]
    }
   ],
   "source": [
    "line_equation(5,45.75,56,54,76)"
   ]
  },
  {
   "cell_type": "code",
   "execution_count": 83,
   "id": "275057f8-827c-40f6-8767-55101abcccae",
   "metadata": {},
   "outputs": [],
   "source": [
    "def cal(value1,value2):\n",
    "    print(value1)\n",
    "    print(value2)"
   ]
  },
  {
   "cell_type": "code",
   "execution_count": 84,
   "id": "143c72c8-55d9-4a44-805a-17c3c9f12baf",
   "metadata": {},
   "outputs": [
    {
     "name": "stdout",
     "output_type": "stream",
     "text": [
      "[(3, 56), (6, 54), (2, 76)]\n",
      "45.75\n"
     ]
    }
   ],
   "source": [
    "p = [(3,56),(6,54),(2,76)]\n",
    "c = 45.75\n",
    "cal(p,c)"
   ]
  },
  {
   "cell_type": "code",
   "execution_count": null,
   "id": "2e0822bd-0808-400b-9110-1d22c27a38ee",
   "metadata": {},
   "outputs": [],
   "source": [
    "4.keyword arguments"
   ]
  },
  {
   "cell_type": "code",
   "execution_count": 85,
   "id": "b1779202-94ad-4c3a-9f38-d8dd1c449dd5",
   "metadata": {},
   "outputs": [],
   "source": [
    "def personal_details(id,name,city,passport):\n",
    "    print(\"id:\",id)\n",
    "    print(\"name:\",name)\n",
    "    print(\"city:\",city)\n",
    "    print(\"passport:\",passport)"
   ]
  },
  {
   "cell_type": "code",
   "execution_count": 86,
   "id": "359f469f-253f-497b-afe6-7cd05aa6e687",
   "metadata": {},
   "outputs": [
    {
     "name": "stdout",
     "output_type": "stream",
     "text": [
      "id: 500\n",
      "name: Rahul\n",
      "city: pune\n",
      "passport: U4345435\n"
     ]
    }
   ],
   "source": [
    "personal_details(city='pune',id=500,passport='U4345435',name='Rahul')"
   ]
  },
  {
   "cell_type": "code",
   "execution_count": 87,
   "id": "db04d8cf-8cd8-414c-9837-5ed9719fcb4e",
   "metadata": {},
   "outputs": [],
   "source": [
    "def personal_details(**kwargs):\n",
    "    print(kwargs)"
   ]
  },
  {
   "cell_type": "code",
   "execution_count": 88,
   "id": "673e78aa-bd22-4026-9697-da5f61c83a1b",
   "metadata": {},
   "outputs": [
    {
     "name": "stdout",
     "output_type": "stream",
     "text": [
      "{'id': 656, 'name': 'ketan', 'sal': 464646}\n"
     ]
    }
   ],
   "source": [
    "personal_details(id=656,name='ketan',sal=464646)"
   ]
  },
  {
   "cell_type": "code",
   "execution_count": 90,
   "id": "f2558001-07b6-46e3-a173-701b1cfc0626",
   "metadata": {},
   "outputs": [
    {
     "name": "stdout",
     "output_type": "stream",
     "text": [
      "{'dept': 'it'}\n"
     ]
    }
   ],
   "source": [
    "personal_details(dept='it')"
   ]
  },
  {
   "cell_type": "code",
   "execution_count": null,
   "id": "12c7d955-5d22-49bd-a922-7499062f12b2",
   "metadata": {},
   "outputs": [],
   "source": [
    "Data type :\n",
    "1.strcture format\n",
    "\n",
    "table : row * col\n",
    "\n",
    "2.semi structure \n",
    "\n",
    "JSON\n",
    "\n",
    "3.Unstructured\n",
    "\n",
    "Docouments"
   ]
  },
  {
   "cell_type": "code",
   "execution_count": 91,
   "id": "42286488-7cb7-4cd4-b34c-68e140b18e69",
   "metadata": {},
   "outputs": [],
   "source": [
    "def test(id,name,city='pune',*args,**kwargs):\n",
    "    print(id)\n",
    "    print(name)\n",
    "    print(city)\n",
    "    print(args)\n",
    "    print(kwargs)"
   ]
  },
  {
   "cell_type": "code",
   "execution_count": 92,
   "id": "b1b774a1-53b3-41e4-9230-73f1aa9d8695",
   "metadata": {},
   "outputs": [
    {
     "name": "stdout",
     "output_type": "stream",
     "text": [
      "43\n",
      "rahul\n",
      "mumbai\n",
      "(54, 34, 76)\n",
      "{'loc': 'pune', 'dept': 'it'}\n"
     ]
    }
   ],
   "source": [
    "test(43,'rahul','mumbai',54,34,76,loc='pune',dept='it')"
   ]
  },
  {
   "cell_type": "code",
   "execution_count": null,
   "id": "305fa97a-a1d7-4f33-ae5e-47247362bad7",
   "metadata": {},
   "outputs": [],
   "source": [
    "Practice :\n"
   ]
  }
 ],
 "metadata": {
  "kernelspec": {
   "display_name": "Python 3 (ipykernel)",
   "language": "python",
   "name": "python3"
  },
  "language_info": {
   "codemirror_mode": {
    "name": "ipython",
    "version": 3
   },
   "file_extension": ".py",
   "mimetype": "text/x-python",
   "name": "python",
   "nbconvert_exporter": "python",
   "pygments_lexer": "ipython3",
   "version": "3.12.7"
  }
 },
 "nbformat": 4,
 "nbformat_minor": 5
}
