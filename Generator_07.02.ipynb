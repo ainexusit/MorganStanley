{
 "cells": [
  {
   "cell_type": "code",
   "execution_count": null,
   "id": "f84d40e5-3b75-41a4-8075-5996f18cd37e",
   "metadata": {},
   "outputs": [],
   "source": [
    "Generator:\n",
    "\n",
    "it is use to generate seq of number"
   ]
  },
  {
   "cell_type": "code",
   "execution_count": null,
   "id": "569c6ca9-1229-41b3-900f-2d86e5764160",
   "metadata": {},
   "outputs": [],
   "source": [
    "range:\n",
    "\n",
    "it is use to generate seq of number "
   ]
  },
  {
   "cell_type": "code",
   "execution_count": null,
   "id": "bedb373c-5c47-456a-a2c9-a3ca2b3b4219",
   "metadata": {},
   "outputs": [],
   "source": [
    "data =  [(101,'keshav','pune',546464),(   ) , () records from files - 10m]"
   ]
  },
  {
   "cell_type": "code",
   "execution_count": null,
   "id": "ac03592b-12d0-4165-9526-369a72e9df93",
   "metadata": {},
   "outputs": [],
   "source": [
    "list(range(1,1000000000000000)) --> consume memory"
   ]
  },
  {
   "cell_type": "code",
   "execution_count": null,
   "id": "224c2cad-81d0-4556-9cc7-90cc9f27d96e",
   "metadata": {},
   "outputs": [],
   "source": [
    "grocery --> month -- > 5 year \n",
    "\n",
    "storage \n",
    "\n",
    "month -- grocery"
   ]
  },
  {
   "cell_type": "code",
   "execution_count": null,
   "id": "9b40c081-f29e-4a5f-94af-e7bbb6d12f8a",
   "metadata": {},
   "outputs": [],
   "source": [
    "Generator"
   ]
  },
  {
   "cell_type": "code",
   "execution_count": null,
   "id": "e11d66d3-70bd-48b1-b881-a8bb764b35fc",
   "metadata": {},
   "outputs": [],
   "source": [
    "Generator -- function + yield keyword"
   ]
  },
  {
   "cell_type": "code",
   "execution_count": 7,
   "id": "59007b42-3d40-4346-a8c0-1c52d537904c",
   "metadata": {},
   "outputs": [],
   "source": [
    "def test1():\n",
    "    return 100\n",
    "    print(\"Hello\")\n",
    "    "
   ]
  },
  {
   "cell_type": "code",
   "execution_count": 9,
   "id": "126a094a-fc8b-4ada-b44b-0cb6c10cb308",
   "metadata": {},
   "outputs": [],
   "source": [
    "def test2():\n",
    "    yield 100\n",
    "    yield 200\n",
    "    yield 300\n",
    "    yield 400"
   ]
  },
  {
   "cell_type": "code",
   "execution_count": 5,
   "id": "f1f9ce06-9c5f-4af9-b5cd-09e8faaa97af",
   "metadata": {},
   "outputs": [
    {
     "data": {
      "text/plain": [
       "100"
      ]
     },
     "execution_count": 5,
     "metadata": {},
     "output_type": "execute_result"
    }
   ],
   "source": [
    "test1()"
   ]
  },
  {
   "cell_type": "code",
   "execution_count": 6,
   "id": "4912bb0a-1163-458a-a1aa-e6bb60294ae1",
   "metadata": {},
   "outputs": [
    {
     "data": {
      "text/plain": [
       "<generator object test2 at 0x0000015DA420A610>"
      ]
     },
     "execution_count": 6,
     "metadata": {},
     "output_type": "execute_result"
    }
   ],
   "source": [
    "test2()"
   ]
  },
  {
   "cell_type": "code",
   "execution_count": null,
   "id": "edea1096-82e9-437e-8c58-88fc90d2c5ce",
   "metadata": {},
   "outputs": [],
   "source": [
    "yield --> Generete with return "
   ]
  },
  {
   "cell_type": "code",
   "execution_count": 8,
   "id": "fcfd4474-0982-43ec-a199-4839e926c0ed",
   "metadata": {},
   "outputs": [
    {
     "data": {
      "text/plain": [
       "100"
      ]
     },
     "execution_count": 8,
     "metadata": {},
     "output_type": "execute_result"
    }
   ],
   "source": [
    "test1()"
   ]
  },
  {
   "cell_type": "code",
   "execution_count": 10,
   "id": "03f18c9e-bb04-4a79-a622-893f721fb6ff",
   "metadata": {},
   "outputs": [],
   "source": [
    "result  = test2()"
   ]
  },
  {
   "cell_type": "code",
   "execution_count": 11,
   "id": "753b260a-04f7-4330-894d-fdc4feb1a007",
   "metadata": {},
   "outputs": [
    {
     "data": {
      "text/plain": [
       "<generator object test2 at 0x0000015DA420A1F0>"
      ]
     },
     "execution_count": 11,
     "metadata": {},
     "output_type": "execute_result"
    }
   ],
   "source": [
    "result"
   ]
  },
  {
   "cell_type": "code",
   "execution_count": 12,
   "id": "35f83ece-06b0-449d-b1bf-cb8b66b19db3",
   "metadata": {},
   "outputs": [
    {
     "data": {
      "text/plain": [
       "100"
      ]
     },
     "execution_count": 12,
     "metadata": {},
     "output_type": "execute_result"
    }
   ],
   "source": [
    "next(result)"
   ]
  },
  {
   "cell_type": "code",
   "execution_count": 13,
   "id": "6f0b2357-1c69-4b25-8519-97bbd2420282",
   "metadata": {},
   "outputs": [
    {
     "data": {
      "text/plain": [
       "200"
      ]
     },
     "execution_count": 13,
     "metadata": {},
     "output_type": "execute_result"
    }
   ],
   "source": [
    "next(result)"
   ]
  },
  {
   "cell_type": "code",
   "execution_count": 14,
   "id": "072f4fda-42f1-459d-87b5-b22b8dc97076",
   "metadata": {},
   "outputs": [
    {
     "data": {
      "text/plain": [
       "300"
      ]
     },
     "execution_count": 14,
     "metadata": {},
     "output_type": "execute_result"
    }
   ],
   "source": [
    "next(result)"
   ]
  },
  {
   "cell_type": "code",
   "execution_count": 15,
   "id": "aea74f61-c1ef-4848-acd8-05eead10bc9d",
   "metadata": {},
   "outputs": [
    {
     "data": {
      "text/plain": [
       "400"
      ]
     },
     "execution_count": 15,
     "metadata": {},
     "output_type": "execute_result"
    }
   ],
   "source": [
    "next(result)"
   ]
  },
  {
   "cell_type": "code",
   "execution_count": 16,
   "id": "194978e9-a128-4590-b25e-403222ffa91e",
   "metadata": {},
   "outputs": [
    {
     "ename": "StopIteration",
     "evalue": "",
     "output_type": "error",
     "traceback": [
      "\u001b[1;31m---------------------------------------------------------------------------\u001b[0m",
      "\u001b[1;31mStopIteration\u001b[0m                             Traceback (most recent call last)",
      "Cell \u001b[1;32mIn[16], line 1\u001b[0m\n\u001b[1;32m----> 1\u001b[0m \u001b[38;5;28mnext\u001b[39m(result)\n",
      "\u001b[1;31mStopIteration\u001b[0m: "
     ]
    }
   ],
   "source": [
    "next(result)"
   ]
  },
  {
   "cell_type": "code",
   "execution_count": null,
   "id": "f7c985b3-00ec-48a2-aa8b-186054336974",
   "metadata": {},
   "outputs": [],
   "source": [
    "1- 1000"
   ]
  },
  {
   "cell_type": "code",
   "execution_count": 17,
   "id": "8a53a40d-e890-4115-890d-89ba0577b7b5",
   "metadata": {},
   "outputs": [],
   "source": [
    "def mygen(num):\n",
    "    i=1\n",
    "    while i<=num:\n",
    "        yield i\n",
    "        i+=1"
   ]
  },
  {
   "cell_type": "code",
   "execution_count": 18,
   "id": "1b7b8722-3b90-4955-8e1c-f24590c1ecf8",
   "metadata": {},
   "outputs": [],
   "source": [
    "obj = mygen(1000)"
   ]
  },
  {
   "cell_type": "code",
   "execution_count": 19,
   "id": "b3208125-8029-4d52-b6cf-af72a0b7957f",
   "metadata": {},
   "outputs": [
    {
     "data": {
      "text/plain": [
       "1"
      ]
     },
     "execution_count": 19,
     "metadata": {},
     "output_type": "execute_result"
    }
   ],
   "source": [
    "next(obj)"
   ]
  },
  {
   "cell_type": "code",
   "execution_count": 20,
   "id": "b4dd4c84-2378-468f-a11f-66ab8a2c4783",
   "metadata": {},
   "outputs": [
    {
     "data": {
      "text/plain": [
       "2"
      ]
     },
     "execution_count": 20,
     "metadata": {},
     "output_type": "execute_result"
    }
   ],
   "source": [
    "next(obj)"
   ]
  },
  {
   "cell_type": "code",
   "execution_count": 21,
   "id": "e60de0ce-8497-4d8b-b9e9-c2af00afde6c",
   "metadata": {},
   "outputs": [
    {
     "name": "stdout",
     "output_type": "stream",
     "text": [
      "3\n",
      "4\n",
      "5\n",
      "6\n",
      "7\n",
      "8\n",
      "9\n",
      "10\n",
      "11\n",
      "12\n",
      "13\n",
      "14\n",
      "15\n",
      "16\n",
      "17\n",
      "18\n",
      "19\n",
      "20\n",
      "21\n",
      "22\n",
      "23\n",
      "24\n",
      "25\n",
      "26\n",
      "27\n",
      "28\n",
      "29\n",
      "30\n",
      "31\n",
      "32\n",
      "33\n",
      "34\n",
      "35\n",
      "36\n",
      "37\n",
      "38\n",
      "39\n",
      "40\n",
      "41\n",
      "42\n",
      "43\n",
      "44\n",
      "45\n",
      "46\n",
      "47\n",
      "48\n",
      "49\n",
      "50\n",
      "51\n",
      "52\n",
      "53\n",
      "54\n",
      "55\n",
      "56\n",
      "57\n",
      "58\n",
      "59\n",
      "60\n",
      "61\n",
      "62\n",
      "63\n",
      "64\n",
      "65\n",
      "66\n",
      "67\n",
      "68\n",
      "69\n",
      "70\n",
      "71\n",
      "72\n",
      "73\n",
      "74\n",
      "75\n",
      "76\n",
      "77\n",
      "78\n",
      "79\n",
      "80\n",
      "81\n",
      "82\n",
      "83\n",
      "84\n",
      "85\n",
      "86\n",
      "87\n",
      "88\n",
      "89\n",
      "90\n",
      "91\n",
      "92\n",
      "93\n",
      "94\n",
      "95\n",
      "96\n",
      "97\n",
      "98\n",
      "99\n",
      "100\n",
      "101\n",
      "102\n",
      "103\n",
      "104\n",
      "105\n",
      "106\n",
      "107\n",
      "108\n",
      "109\n",
      "110\n",
      "111\n",
      "112\n",
      "113\n",
      "114\n",
      "115\n",
      "116\n",
      "117\n",
      "118\n",
      "119\n",
      "120\n",
      "121\n",
      "122\n",
      "123\n",
      "124\n",
      "125\n",
      "126\n",
      "127\n",
      "128\n",
      "129\n",
      "130\n",
      "131\n",
      "132\n",
      "133\n",
      "134\n",
      "135\n",
      "136\n",
      "137\n",
      "138\n",
      "139\n",
      "140\n",
      "141\n",
      "142\n",
      "143\n",
      "144\n",
      "145\n",
      "146\n",
      "147\n",
      "148\n",
      "149\n",
      "150\n",
      "151\n",
      "152\n",
      "153\n",
      "154\n",
      "155\n",
      "156\n",
      "157\n",
      "158\n",
      "159\n",
      "160\n",
      "161\n",
      "162\n",
      "163\n",
      "164\n",
      "165\n",
      "166\n",
      "167\n",
      "168\n",
      "169\n",
      "170\n",
      "171\n",
      "172\n",
      "173\n",
      "174\n",
      "175\n",
      "176\n",
      "177\n",
      "178\n",
      "179\n",
      "180\n",
      "181\n",
      "182\n",
      "183\n",
      "184\n",
      "185\n",
      "186\n",
      "187\n",
      "188\n",
      "189\n",
      "190\n",
      "191\n",
      "192\n",
      "193\n",
      "194\n",
      "195\n",
      "196\n",
      "197\n",
      "198\n",
      "199\n",
      "200\n",
      "201\n",
      "202\n",
      "203\n",
      "204\n",
      "205\n",
      "206\n",
      "207\n",
      "208\n",
      "209\n",
      "210\n",
      "211\n",
      "212\n",
      "213\n",
      "214\n",
      "215\n",
      "216\n",
      "217\n",
      "218\n",
      "219\n",
      "220\n",
      "221\n",
      "222\n",
      "223\n",
      "224\n",
      "225\n",
      "226\n",
      "227\n",
      "228\n",
      "229\n",
      "230\n",
      "231\n",
      "232\n",
      "233\n",
      "234\n",
      "235\n",
      "236\n",
      "237\n",
      "238\n",
      "239\n",
      "240\n",
      "241\n",
      "242\n",
      "243\n",
      "244\n",
      "245\n",
      "246\n",
      "247\n",
      "248\n",
      "249\n",
      "250\n",
      "251\n",
      "252\n",
      "253\n",
      "254\n",
      "255\n",
      "256\n",
      "257\n",
      "258\n",
      "259\n",
      "260\n",
      "261\n",
      "262\n",
      "263\n",
      "264\n",
      "265\n",
      "266\n",
      "267\n",
      "268\n",
      "269\n",
      "270\n",
      "271\n",
      "272\n",
      "273\n",
      "274\n",
      "275\n",
      "276\n",
      "277\n",
      "278\n",
      "279\n",
      "280\n",
      "281\n",
      "282\n",
      "283\n",
      "284\n",
      "285\n",
      "286\n",
      "287\n",
      "288\n",
      "289\n",
      "290\n",
      "291\n",
      "292\n",
      "293\n",
      "294\n",
      "295\n",
      "296\n",
      "297\n",
      "298\n",
      "299\n",
      "300\n",
      "301\n",
      "302\n",
      "303\n",
      "304\n",
      "305\n",
      "306\n",
      "307\n",
      "308\n",
      "309\n",
      "310\n",
      "311\n",
      "312\n",
      "313\n",
      "314\n",
      "315\n",
      "316\n",
      "317\n",
      "318\n",
      "319\n",
      "320\n",
      "321\n",
      "322\n",
      "323\n",
      "324\n",
      "325\n",
      "326\n",
      "327\n",
      "328\n",
      "329\n",
      "330\n",
      "331\n",
      "332\n",
      "333\n",
      "334\n",
      "335\n",
      "336\n",
      "337\n",
      "338\n",
      "339\n",
      "340\n",
      "341\n",
      "342\n",
      "343\n",
      "344\n",
      "345\n",
      "346\n",
      "347\n",
      "348\n",
      "349\n",
      "350\n",
      "351\n",
      "352\n",
      "353\n",
      "354\n",
      "355\n",
      "356\n",
      "357\n",
      "358\n",
      "359\n",
      "360\n",
      "361\n",
      "362\n",
      "363\n",
      "364\n",
      "365\n",
      "366\n",
      "367\n",
      "368\n",
      "369\n",
      "370\n",
      "371\n",
      "372\n",
      "373\n",
      "374\n",
      "375\n",
      "376\n",
      "377\n",
      "378\n",
      "379\n",
      "380\n",
      "381\n",
      "382\n",
      "383\n",
      "384\n",
      "385\n",
      "386\n",
      "387\n",
      "388\n",
      "389\n",
      "390\n",
      "391\n",
      "392\n",
      "393\n",
      "394\n",
      "395\n",
      "396\n",
      "397\n",
      "398\n",
      "399\n",
      "400\n",
      "401\n",
      "402\n",
      "403\n",
      "404\n",
      "405\n",
      "406\n",
      "407\n",
      "408\n",
      "409\n",
      "410\n",
      "411\n",
      "412\n",
      "413\n",
      "414\n",
      "415\n",
      "416\n",
      "417\n",
      "418\n",
      "419\n",
      "420\n",
      "421\n",
      "422\n",
      "423\n",
      "424\n",
      "425\n",
      "426\n",
      "427\n",
      "428\n",
      "429\n",
      "430\n",
      "431\n",
      "432\n",
      "433\n",
      "434\n",
      "435\n",
      "436\n",
      "437\n",
      "438\n",
      "439\n",
      "440\n",
      "441\n",
      "442\n",
      "443\n",
      "444\n",
      "445\n",
      "446\n",
      "447\n",
      "448\n",
      "449\n",
      "450\n",
      "451\n",
      "452\n",
      "453\n",
      "454\n",
      "455\n",
      "456\n",
      "457\n",
      "458\n",
      "459\n",
      "460\n",
      "461\n",
      "462\n",
      "463\n",
      "464\n",
      "465\n",
      "466\n",
      "467\n",
      "468\n",
      "469\n",
      "470\n",
      "471\n",
      "472\n",
      "473\n",
      "474\n",
      "475\n",
      "476\n",
      "477\n",
      "478\n",
      "479\n",
      "480\n",
      "481\n",
      "482\n",
      "483\n",
      "484\n",
      "485\n",
      "486\n",
      "487\n",
      "488\n",
      "489\n",
      "490\n",
      "491\n",
      "492\n",
      "493\n",
      "494\n",
      "495\n",
      "496\n",
      "497\n",
      "498\n",
      "499\n",
      "500\n",
      "501\n",
      "502\n",
      "503\n",
      "504\n",
      "505\n",
      "506\n",
      "507\n",
      "508\n",
      "509\n",
      "510\n",
      "511\n",
      "512\n",
      "513\n",
      "514\n",
      "515\n",
      "516\n",
      "517\n",
      "518\n",
      "519\n",
      "520\n",
      "521\n",
      "522\n",
      "523\n",
      "524\n",
      "525\n",
      "526\n",
      "527\n",
      "528\n",
      "529\n",
      "530\n",
      "531\n",
      "532\n",
      "533\n",
      "534\n",
      "535\n",
      "536\n",
      "537\n",
      "538\n",
      "539\n",
      "540\n",
      "541\n",
      "542\n",
      "543\n",
      "544\n",
      "545\n",
      "546\n",
      "547\n",
      "548\n",
      "549\n",
      "550\n",
      "551\n",
      "552\n",
      "553\n",
      "554\n",
      "555\n",
      "556\n",
      "557\n",
      "558\n",
      "559\n",
      "560\n",
      "561\n",
      "562\n",
      "563\n",
      "564\n",
      "565\n",
      "566\n",
      "567\n",
      "568\n",
      "569\n",
      "570\n",
      "571\n",
      "572\n",
      "573\n",
      "574\n",
      "575\n",
      "576\n",
      "577\n",
      "578\n",
      "579\n",
      "580\n",
      "581\n",
      "582\n",
      "583\n",
      "584\n",
      "585\n",
      "586\n",
      "587\n",
      "588\n",
      "589\n",
      "590\n",
      "591\n",
      "592\n",
      "593\n",
      "594\n",
      "595\n",
      "596\n",
      "597\n",
      "598\n",
      "599\n",
      "600\n",
      "601\n",
      "602\n",
      "603\n",
      "604\n",
      "605\n",
      "606\n",
      "607\n",
      "608\n",
      "609\n",
      "610\n",
      "611\n",
      "612\n",
      "613\n",
      "614\n",
      "615\n",
      "616\n",
      "617\n",
      "618\n",
      "619\n",
      "620\n",
      "621\n",
      "622\n",
      "623\n",
      "624\n",
      "625\n",
      "626\n",
      "627\n",
      "628\n",
      "629\n",
      "630\n",
      "631\n",
      "632\n",
      "633\n",
      "634\n",
      "635\n",
      "636\n",
      "637\n",
      "638\n",
      "639\n",
      "640\n",
      "641\n",
      "642\n",
      "643\n",
      "644\n",
      "645\n",
      "646\n",
      "647\n",
      "648\n",
      "649\n",
      "650\n",
      "651\n",
      "652\n",
      "653\n",
      "654\n",
      "655\n",
      "656\n",
      "657\n",
      "658\n",
      "659\n",
      "660\n",
      "661\n",
      "662\n",
      "663\n",
      "664\n",
      "665\n",
      "666\n",
      "667\n",
      "668\n",
      "669\n",
      "670\n",
      "671\n",
      "672\n",
      "673\n",
      "674\n",
      "675\n",
      "676\n",
      "677\n",
      "678\n",
      "679\n",
      "680\n",
      "681\n",
      "682\n",
      "683\n",
      "684\n",
      "685\n",
      "686\n",
      "687\n",
      "688\n",
      "689\n",
      "690\n",
      "691\n",
      "692\n",
      "693\n",
      "694\n",
      "695\n",
      "696\n",
      "697\n",
      "698\n",
      "699\n",
      "700\n",
      "701\n",
      "702\n",
      "703\n",
      "704\n",
      "705\n",
      "706\n",
      "707\n",
      "708\n",
      "709\n",
      "710\n",
      "711\n",
      "712\n",
      "713\n",
      "714\n",
      "715\n",
      "716\n",
      "717\n",
      "718\n",
      "719\n",
      "720\n",
      "721\n",
      "722\n",
      "723\n",
      "724\n",
      "725\n",
      "726\n",
      "727\n",
      "728\n",
      "729\n",
      "730\n",
      "731\n",
      "732\n",
      "733\n",
      "734\n",
      "735\n",
      "736\n",
      "737\n",
      "738\n",
      "739\n",
      "740\n",
      "741\n",
      "742\n",
      "743\n",
      "744\n",
      "745\n",
      "746\n",
      "747\n",
      "748\n",
      "749\n",
      "750\n",
      "751\n",
      "752\n",
      "753\n",
      "754\n",
      "755\n",
      "756\n",
      "757\n",
      "758\n",
      "759\n",
      "760\n",
      "761\n",
      "762\n",
      "763\n",
      "764\n",
      "765\n",
      "766\n",
      "767\n",
      "768\n",
      "769\n",
      "770\n",
      "771\n",
      "772\n",
      "773\n",
      "774\n",
      "775\n",
      "776\n",
      "777\n",
      "778\n",
      "779\n",
      "780\n",
      "781\n",
      "782\n",
      "783\n",
      "784\n",
      "785\n",
      "786\n",
      "787\n",
      "788\n",
      "789\n",
      "790\n",
      "791\n",
      "792\n",
      "793\n",
      "794\n",
      "795\n",
      "796\n",
      "797\n",
      "798\n",
      "799\n",
      "800\n",
      "801\n",
      "802\n",
      "803\n",
      "804\n",
      "805\n",
      "806\n",
      "807\n",
      "808\n",
      "809\n",
      "810\n",
      "811\n",
      "812\n",
      "813\n",
      "814\n",
      "815\n",
      "816\n",
      "817\n",
      "818\n",
      "819\n",
      "820\n",
      "821\n",
      "822\n",
      "823\n",
      "824\n",
      "825\n",
      "826\n",
      "827\n",
      "828\n",
      "829\n",
      "830\n",
      "831\n",
      "832\n",
      "833\n",
      "834\n",
      "835\n",
      "836\n",
      "837\n",
      "838\n",
      "839\n",
      "840\n",
      "841\n",
      "842\n",
      "843\n",
      "844\n",
      "845\n",
      "846\n",
      "847\n",
      "848\n",
      "849\n",
      "850\n",
      "851\n",
      "852\n",
      "853\n",
      "854\n",
      "855\n",
      "856\n",
      "857\n",
      "858\n",
      "859\n",
      "860\n",
      "861\n",
      "862\n",
      "863\n",
      "864\n",
      "865\n",
      "866\n",
      "867\n",
      "868\n",
      "869\n",
      "870\n",
      "871\n",
      "872\n",
      "873\n",
      "874\n",
      "875\n",
      "876\n",
      "877\n",
      "878\n",
      "879\n",
      "880\n",
      "881\n",
      "882\n",
      "883\n",
      "884\n",
      "885\n",
      "886\n",
      "887\n",
      "888\n",
      "889\n",
      "890\n",
      "891\n",
      "892\n",
      "893\n",
      "894\n",
      "895\n",
      "896\n",
      "897\n",
      "898\n",
      "899\n",
      "900\n",
      "901\n",
      "902\n",
      "903\n",
      "904\n",
      "905\n",
      "906\n",
      "907\n",
      "908\n",
      "909\n",
      "910\n",
      "911\n",
      "912\n",
      "913\n",
      "914\n",
      "915\n",
      "916\n",
      "917\n",
      "918\n",
      "919\n",
      "920\n",
      "921\n",
      "922\n",
      "923\n",
      "924\n",
      "925\n",
      "926\n",
      "927\n",
      "928\n",
      "929\n",
      "930\n",
      "931\n",
      "932\n",
      "933\n",
      "934\n",
      "935\n",
      "936\n",
      "937\n",
      "938\n",
      "939\n",
      "940\n",
      "941\n",
      "942\n",
      "943\n",
      "944\n",
      "945\n",
      "946\n",
      "947\n",
      "948\n",
      "949\n",
      "950\n",
      "951\n",
      "952\n",
      "953\n",
      "954\n",
      "955\n",
      "956\n",
      "957\n",
      "958\n",
      "959\n",
      "960\n",
      "961\n",
      "962\n",
      "963\n",
      "964\n",
      "965\n",
      "966\n",
      "967\n",
      "968\n",
      "969\n",
      "970\n",
      "971\n",
      "972\n",
      "973\n",
      "974\n",
      "975\n",
      "976\n",
      "977\n",
      "978\n",
      "979\n",
      "980\n",
      "981\n",
      "982\n",
      "983\n",
      "984\n",
      "985\n",
      "986\n",
      "987\n",
      "988\n",
      "989\n",
      "990\n",
      "991\n",
      "992\n",
      "993\n",
      "994\n",
      "995\n",
      "996\n",
      "997\n",
      "998\n",
      "999\n",
      "1000\n"
     ]
    }
   ],
   "source": [
    "for i in obj:\n",
    "    print(i)"
   ]
  },
  {
   "cell_type": "code",
   "execution_count": null,
   "id": "2d305ecf-c33b-4711-9ff4-daba1bf8e468",
   "metadata": {},
   "outputs": [],
   "source": [
    "Start --- > end -- number \n",
    "\n",
    "range -- memory occupied\n",
    "generate --> only one number generate at a time"
   ]
  },
  {
   "cell_type": "code",
   "execution_count": null,
   "id": "9ca4578f-6f67-492b-9362-a6e1c896700e",
   "metadata": {},
   "outputs": [],
   "source": [
    "fabbonacci series\n"
   ]
  },
  {
   "cell_type": "code",
   "execution_count": 24,
   "id": "b7817ac3-09ed-4777-99be-24b8d1d4bace",
   "metadata": {},
   "outputs": [],
   "source": [
    "#important Interviews\n",
    "\n",
    "def fabbo_series(num):\n",
    "    a,b = 0,1\n",
    "    while a<=num:\n",
    "        yield a\n",
    "        a,b = b,a+b"
   ]
  },
  {
   "cell_type": "code",
   "execution_count": 25,
   "id": "88bbe91e-5625-47de-81dc-cb0f10fba1d2",
   "metadata": {},
   "outputs": [],
   "source": [
    "obj = fabbo_series(100)"
   ]
  },
  {
   "cell_type": "code",
   "execution_count": 26,
   "id": "9893acc9-5a3f-4ec2-94f6-346fef60a635",
   "metadata": {},
   "outputs": [
    {
     "name": "stdout",
     "output_type": "stream",
     "text": [
      "0\n",
      "1\n",
      "1\n",
      "2\n",
      "3\n",
      "5\n",
      "8\n",
      "13\n",
      "21\n",
      "34\n",
      "55\n",
      "89\n"
     ]
    }
   ],
   "source": [
    "for i in obj:\n",
    "    print(i)"
   ]
  },
  {
   "cell_type": "code",
   "execution_count": null,
   "id": "4e23a84c-6329-4ebb-be23-878a7793f90d",
   "metadata": {},
   "outputs": [],
   "source": [
    "Iterator:\n",
    "\n",
    "iterate --> DS"
   ]
  },
  {
   "cell_type": "code",
   "execution_count": 27,
   "id": "181f3f35-2837-4637-8369-ea18b727cb65",
   "metadata": {},
   "outputs": [],
   "source": [
    "p = [45,23,7,6,34,78,6,34,76,3,4,76,34,78,6,34,786,45,7,5,45,75,45]"
   ]
  },
  {
   "cell_type": "code",
   "execution_count": 29,
   "id": "a27d76db-034a-40b0-8f2a-04a9cf636918",
   "metadata": {},
   "outputs": [
    {
     "name": "stdout",
     "output_type": "stream",
     "text": [
      "45\n",
      "23\n",
      "7\n",
      "6\n",
      "34\n",
      "78\n",
      "6\n",
      "34\n",
      "76\n",
      "3\n",
      "4\n",
      "76\n",
      "34\n",
      "78\n",
      "6\n",
      "34\n",
      "786\n",
      "45\n",
      "7\n",
      "5\n",
      "45\n",
      "75\n",
      "45\n"
     ]
    }
   ],
   "source": [
    "for i in p:\n",
    "    print(i)"
   ]
  },
  {
   "cell_type": "code",
   "execution_count": null,
   "id": "fcb899ad-c022-4b52-8ce1-0a386335a8ab",
   "metadata": {},
   "outputs": [],
   "source": [
    "iter -- DS --> iterate -- list --> list_iterator --> tuple --> tuple_iterator\n",
    "next"
   ]
  },
  {
   "cell_type": "code",
   "execution_count": 31,
   "id": "e1b9936a-9313-4e15-9419-d360e2d1a2ba",
   "metadata": {},
   "outputs": [],
   "source": [
    "p1 = iter(p)"
   ]
  },
  {
   "cell_type": "code",
   "execution_count": 32,
   "id": "b743d78a-111c-4c83-87bc-738a8d9f0b4d",
   "metadata": {},
   "outputs": [
    {
     "data": {
      "text/plain": [
       "<list_iterator at 0x15da66efac0>"
      ]
     },
     "execution_count": 32,
     "metadata": {},
     "output_type": "execute_result"
    }
   ],
   "source": [
    "p1"
   ]
  },
  {
   "cell_type": "code",
   "execution_count": 33,
   "id": "bc6afa5e-655f-435e-91ee-7360fbb2ebe1",
   "metadata": {},
   "outputs": [
    {
     "data": {
      "text/plain": [
       "45"
      ]
     },
     "execution_count": 33,
     "metadata": {},
     "output_type": "execute_result"
    }
   ],
   "source": [
    "next(p1)"
   ]
  },
  {
   "cell_type": "code",
   "execution_count": 34,
   "id": "4a367603-1278-4de5-a9b6-d00f8d9e5d23",
   "metadata": {},
   "outputs": [
    {
     "data": {
      "text/plain": [
       "23"
      ]
     },
     "execution_count": 34,
     "metadata": {},
     "output_type": "execute_result"
    }
   ],
   "source": [
    "next(p1)"
   ]
  },
  {
   "cell_type": "code",
   "execution_count": 35,
   "id": "c0864522-6603-49a0-a1cc-fd63bc694c8d",
   "metadata": {},
   "outputs": [
    {
     "data": {
      "text/plain": [
       "7"
      ]
     },
     "execution_count": 35,
     "metadata": {},
     "output_type": "execute_result"
    }
   ],
   "source": [
    "next(p1)"
   ]
  },
  {
   "cell_type": "code",
   "execution_count": 36,
   "id": "e8fd07f2-6ee3-47bf-a89c-72a431ff4ec8",
   "metadata": {},
   "outputs": [
    {
     "name": "stdout",
     "output_type": "stream",
     "text": [
      "6\n",
      "34\n",
      "78\n",
      "6\n",
      "34\n",
      "76\n",
      "3\n",
      "4\n",
      "76\n",
      "34\n",
      "78\n",
      "6\n",
      "34\n",
      "786\n",
      "45\n",
      "7\n",
      "5\n",
      "45\n",
      "75\n",
      "45\n"
     ]
    }
   ],
   "source": [
    "for i in p1:\n",
    "    print(i)"
   ]
  },
  {
   "cell_type": "code",
   "execution_count": 37,
   "id": "644e510b-fb9e-4685-bf5d-7f4a738a6b02",
   "metadata": {},
   "outputs": [
    {
     "ename": "SyntaxError",
     "evalue": "invalid syntax (1381947510.py, line 2)",
     "output_type": "error",
     "traceback": [
      "\u001b[1;36m  Cell \u001b[1;32mIn[37], line 2\u001b[1;36m\u001b[0m\n\u001b[1;33m    copy module:\u001b[0m\n\u001b[1;37m         ^\u001b[0m\n\u001b[1;31mSyntaxError\u001b[0m\u001b[1;31m:\u001b[0m invalid syntax\n"
     ]
    }
   ],
   "source": [
    "#Interview \n",
    "copy module:\n",
    "\n",
    "1.shallow copy :\n",
    "\n",
    "\n",
    "2.deep copy"
   ]
  },
  {
   "cell_type": "code",
   "execution_count": 39,
   "id": "49c2624a-ec63-4410-8608-a1bad9f90ab4",
   "metadata": {},
   "outputs": [],
   "source": [
    "p1= [34,654,34]"
   ]
  },
  {
   "cell_type": "code",
   "execution_count": 40,
   "id": "82b60021-4208-4167-b8e3-7e1069207751",
   "metadata": {},
   "outputs": [],
   "source": [
    "p2 = p1"
   ]
  },
  {
   "cell_type": "code",
   "execution_count": 41,
   "id": "59158926-b814-44f9-bafc-f5c16f940d84",
   "metadata": {},
   "outputs": [
    {
     "data": {
      "text/plain": [
       "[34, 654, 34]"
      ]
     },
     "execution_count": 41,
     "metadata": {},
     "output_type": "execute_result"
    }
   ],
   "source": [
    "p2"
   ]
  },
  {
   "cell_type": "code",
   "execution_count": 43,
   "id": "a9f7362a-93fa-4933-bf09-46f7f21ce1dc",
   "metadata": {},
   "outputs": [
    {
     "data": {
      "text/plain": [
       "[34, 654, 34]"
      ]
     },
     "execution_count": 43,
     "metadata": {},
     "output_type": "execute_result"
    }
   ],
   "source": [
    "p1"
   ]
  },
  {
   "cell_type": "code",
   "execution_count": 44,
   "id": "71224211-00bd-4950-9b86-a5e6a223f068",
   "metadata": {},
   "outputs": [],
   "source": [
    "p1.append(100)"
   ]
  },
  {
   "cell_type": "code",
   "execution_count": 45,
   "id": "8098b244-ba76-4374-bec7-8e9e1f7b3831",
   "metadata": {},
   "outputs": [
    {
     "data": {
      "text/plain": [
       "[34, 654, 34, 100]"
      ]
     },
     "execution_count": 45,
     "metadata": {},
     "output_type": "execute_result"
    }
   ],
   "source": [
    "p1"
   ]
  },
  {
   "cell_type": "code",
   "execution_count": 46,
   "id": "d449097e-a131-4397-b956-84261e863165",
   "metadata": {},
   "outputs": [
    {
     "data": {
      "text/plain": [
       "[34, 654, 34, 100]"
      ]
     },
     "execution_count": 46,
     "metadata": {},
     "output_type": "execute_result"
    }
   ],
   "source": [
    "p2"
   ]
  },
  {
   "cell_type": "code",
   "execution_count": null,
   "id": "1f59d014-c7d6-4dc9-a216-0ce3d93afa14",
   "metadata": {},
   "outputs": [],
   "source": [
    "deep copy\n",
    "\n",
    "new object created but there is no refernce between them"
   ]
  },
  {
   "cell_type": "code",
   "execution_count": 47,
   "id": "3e3f2037-5441-47ab-84dc-cd9a3a9d2166",
   "metadata": {},
   "outputs": [],
   "source": [
    "import copy"
   ]
  },
  {
   "cell_type": "code",
   "execution_count": 48,
   "id": "ec02887c-4035-43ba-8d5a-544d2612b260",
   "metadata": {},
   "outputs": [],
   "source": [
    "p = [[1,2,3],[4,5,6]]"
   ]
  },
  {
   "cell_type": "code",
   "execution_count": 51,
   "id": "129687e5-40ca-42d4-88a2-88a3211b5e80",
   "metadata": {},
   "outputs": [],
   "source": [
    "p11 = copy.copy(p) "
   ]
  },
  {
   "cell_type": "code",
   "execution_count": 52,
   "id": "d83c7daf-1f32-4e41-b81b-818ee2cd75d0",
   "metadata": {},
   "outputs": [
    {
     "data": {
      "text/plain": [
       "[[1, 2, 3], [4, 5, 6]]"
      ]
     },
     "execution_count": 52,
     "metadata": {},
     "output_type": "execute_result"
    }
   ],
   "source": [
    "p11"
   ]
  },
  {
   "cell_type": "code",
   "execution_count": 53,
   "id": "074923a6-4e70-42c4-b978-255bc2c0a04d",
   "metadata": {},
   "outputs": [
    {
     "data": {
      "text/plain": [
       "[[1, 2, 3], [4, 5, 6]]"
      ]
     },
     "execution_count": 53,
     "metadata": {},
     "output_type": "execute_result"
    }
   ],
   "source": [
    "p"
   ]
  },
  {
   "cell_type": "code",
   "execution_count": 54,
   "id": "2edee31a-8ce6-4885-afe9-7a9abf26470e",
   "metadata": {},
   "outputs": [],
   "source": [
    "p11[0][-1]=500"
   ]
  },
  {
   "cell_type": "code",
   "execution_count": 55,
   "id": "aaa10a5a-c38a-4616-8fbd-ab23b59f0394",
   "metadata": {},
   "outputs": [
    {
     "data": {
      "text/plain": [
       "[[1, 2, 500], [4, 5, 6]]"
      ]
     },
     "execution_count": 55,
     "metadata": {},
     "output_type": "execute_result"
    }
   ],
   "source": [
    "p11"
   ]
  },
  {
   "cell_type": "code",
   "execution_count": 56,
   "id": "6e03d6a4-81f1-4bdb-b231-79ea57f9b6b7",
   "metadata": {},
   "outputs": [
    {
     "data": {
      "text/plain": [
       "[[1, 2, 500], [4, 5, 6]]"
      ]
     },
     "execution_count": 56,
     "metadata": {},
     "output_type": "execute_result"
    }
   ],
   "source": [
    "p"
   ]
  },
  {
   "cell_type": "code",
   "execution_count": null,
   "id": "024fa23a-d8f3-4085-a801-ffcd8eb13776",
   "metadata": {},
   "outputs": [],
   "source": [
    "shallo copy --\n",
    "\n",
    "object copy referece \n",
    "even nested object is also having same reference"
   ]
  },
  {
   "cell_type": "code",
   "execution_count": 57,
   "id": "7597ad18-6401-4e09-8430-bdde25caf308",
   "metadata": {},
   "outputs": [
    {
     "data": {
      "text/plain": [
       "[[1, 2, 500], [4, 5, 6]]"
      ]
     },
     "execution_count": 57,
     "metadata": {},
     "output_type": "execute_result"
    }
   ],
   "source": [
    "p"
   ]
  },
  {
   "cell_type": "code",
   "execution_count": 58,
   "id": "b99415c1-1858-4607-b2a1-25d8a679fc08",
   "metadata": {},
   "outputs": [],
   "source": [
    "p12 = copy.deepcopy(p)"
   ]
  },
  {
   "cell_type": "code",
   "execution_count": 59,
   "id": "83b96d5c-f894-4145-a950-1e7471148e62",
   "metadata": {},
   "outputs": [
    {
     "data": {
      "text/plain": [
       "[[1, 2, 500], [4, 5, 6]]"
      ]
     },
     "execution_count": 59,
     "metadata": {},
     "output_type": "execute_result"
    }
   ],
   "source": [
    "p12"
   ]
  },
  {
   "cell_type": "code",
   "execution_count": 60,
   "id": "055b21b1-50ff-4562-9785-1f94273eb02d",
   "metadata": {},
   "outputs": [
    {
     "data": {
      "text/plain": [
       "[[1, 2, 500], [4, 5, 6]]"
      ]
     },
     "execution_count": 60,
     "metadata": {},
     "output_type": "execute_result"
    }
   ],
   "source": [
    "p"
   ]
  },
  {
   "cell_type": "code",
   "execution_count": 61,
   "id": "1f6f07ec-788c-4c7b-9317-d19f6e1f1035",
   "metadata": {},
   "outputs": [],
   "source": [
    "p[0][0]=100"
   ]
  },
  {
   "cell_type": "code",
   "execution_count": 62,
   "id": "fb8bf352-ee39-4441-a042-6aba6b8acafc",
   "metadata": {},
   "outputs": [
    {
     "data": {
      "text/plain": [
       "[[100, 2, 500], [4, 5, 6]]"
      ]
     },
     "execution_count": 62,
     "metadata": {},
     "output_type": "execute_result"
    }
   ],
   "source": [
    "p"
   ]
  },
  {
   "cell_type": "code",
   "execution_count": 63,
   "id": "12a04f49-1c74-46d2-a4a2-ab68b4ce412e",
   "metadata": {},
   "outputs": [
    {
     "data": {
      "text/plain": [
       "[[1, 2, 500], [4, 5, 6]]"
      ]
     },
     "execution_count": 63,
     "metadata": {},
     "output_type": "execute_result"
    }
   ],
   "source": [
    "p12"
   ]
  },
  {
   "cell_type": "code",
   "execution_count": null,
   "id": "cb94eb40-604c-4f64-a117-42855fab4205",
   "metadata": {},
   "outputs": [],
   "source": [
    "object :\n",
    "\n",
    "shallow  and deep copy  --> create new object\n",
    "nested object : shallow refernce copied but in deep completly new copied\n",
    "modify :  shallo changes reflect on both but in deep only on one object"
   ]
  },
  {
   "cell_type": "code",
   "execution_count": 64,
   "id": "05ed75a0-5efc-4b4a-bfcb-7c66632a8c4e",
   "metadata": {},
   "outputs": [],
   "source": [
    "p = [1,2,3]"
   ]
  },
  {
   "cell_type": "code",
   "execution_count": null,
   "id": "7f3eb559-1728-4122-81ba-69de5ba692f6",
   "metadata": {},
   "outputs": [],
   "source": [
    "problem statement :\n",
    "\n",
    "DS\n",
    "for\n",
    "control\n",
    "operator"
   ]
  },
  {
   "cell_type": "code",
   "execution_count": null,
   "id": "60fbd50b-6a24-4c5a-bc4e-c605fc27bc5d",
   "metadata": {},
   "outputs": [],
   "source": [
    "function --> \n",
    "\n",
    "file handling --> csv --> data fetch --"
   ]
  },
  {
   "cell_type": "code",
   "execution_count": null,
   "id": "924a1a92-e14d-4172-a1a5-daea2af4fcb0",
   "metadata": {},
   "outputs": [],
   "source": [
    "logic -- pen \n",
    "\n"
   ]
  },
  {
   "cell_type": "code",
   "execution_count": null,
   "id": "a834702d-250c-4f74-b29c-48fa7d58ed84",
   "metadata": {},
   "outputs": [],
   "source": [
    "p = 'sdfdsffg5656545!@#$%^'\n",
    "\n",
    "\n",
    "parar -"
   ]
  },
  {
   "cell_type": "code",
   "execution_count": null,
   "id": "896380a2-d3c2-4dca-a8c1-4d0ef8a493ba",
   "metadata": {},
   "outputs": [],
   "source": []
  }
 ],
 "metadata": {
  "kernelspec": {
   "display_name": "Python 3 (ipykernel)",
   "language": "python",
   "name": "python3"
  },
  "language_info": {
   "codemirror_mode": {
    "name": "ipython",
    "version": 3
   },
   "file_extension": ".py",
   "mimetype": "text/x-python",
   "name": "python",
   "nbconvert_exporter": "python",
   "pygments_lexer": "ipython3",
   "version": "3.12.7"
  }
 },
 "nbformat": 4,
 "nbformat_minor": 5
}
