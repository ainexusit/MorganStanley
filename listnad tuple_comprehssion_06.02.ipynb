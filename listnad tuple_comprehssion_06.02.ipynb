{
 "cells": [
  {
   "cell_type": "code",
   "execution_count": null,
   "id": "76303fdc-43e5-4636-a2cb-38529f866ee6",
   "metadata": {},
   "outputs": [],
   "source": [
    "Comprehssion Techqniue:\n",
    "\n",
    "when we have loop with single condition"
   ]
  },
  {
   "cell_type": "code",
   "execution_count": null,
   "id": "883b36ea-2634-460d-9554-43d0ee715f41",
   "metadata": {},
   "outputs": [],
   "source": [
    "1.list comprehssion\n",
    "2.dict comprehssion\n",
    "3.tuple comprehssion"
   ]
  },
  {
   "cell_type": "code",
   "execution_count": null,
   "id": "8174f177-1d0d-4df0-be78-9f44d3dba18a",
   "metadata": {},
   "outputs": [],
   "source": [
    "list comphenssion ---> output --> list only"
   ]
  },
  {
   "cell_type": "code",
   "execution_count": null,
   "id": "37c883b0-7341-4fc2-b32a-bb8d9f2b079a",
   "metadata": {},
   "outputs": [],
   "source": [
    "[var for var in DS if condition]"
   ]
  },
  {
   "cell_type": "code",
   "execution_count": 1,
   "id": "f8f00014-b05e-4fb4-b0b0-64d501fc7b5b",
   "metadata": {},
   "outputs": [],
   "source": [
    "p = [5,7665,3,47,763,47,54,75,657,34,75,657,4665,7565,7565]"
   ]
  },
  {
   "cell_type": "code",
   "execution_count": 3,
   "id": "64cd7b64-7a4a-461e-90fa-418111a3de70",
   "metadata": {},
   "outputs": [
    {
     "data": {
      "text/plain": [
       "[54, 34]"
      ]
     },
     "execution_count": 3,
     "metadata": {},
     "output_type": "execute_result"
    }
   ],
   "source": [
    "[i for i in p if i%2==0]"
   ]
  },
  {
   "cell_type": "code",
   "execution_count": 4,
   "id": "6b2b1317-86a1-4874-8042-f586318bfbc9",
   "metadata": {},
   "outputs": [],
   "source": [
    "elements = [65,7665,32,76,7634,7,6,76,65,43,7665,65,'dsgfgdg','fdgddfg',67,3445,86586,]"
   ]
  },
  {
   "cell_type": "code",
   "execution_count": 5,
   "id": "d9ecccbd-54d4-4bee-a609-fe903dbbfc95",
   "metadata": {},
   "outputs": [
    {
     "data": {
      "text/plain": [
       "['dsgfgdg', 'fdgddfg']"
      ]
     },
     "execution_count": 5,
     "metadata": {},
     "output_type": "execute_result"
    }
   ],
   "source": [
    "[i for i in elements if str(i).isalpha()]"
   ]
  },
  {
   "cell_type": "code",
   "execution_count": 6,
   "id": "e5be9125-7774-42f6-82d7-6f483d2aecb3",
   "metadata": {},
   "outputs": [],
   "source": [
    "emails = ['test@gmail','sample@gmail.com','python@yahoo.com','ml@rediffmail.com']"
   ]
  },
  {
   "cell_type": "code",
   "execution_count": 8,
   "id": "f8aa5e69-8ae6-4203-8b69-a7214a61ee71",
   "metadata": {},
   "outputs": [
    {
     "name": "stdout",
     "output_type": "stream",
     "text": [
      "['test', 'sample', 'python', 'ml']\n"
     ]
    }
   ],
   "source": [
    "#1.Approach using normal for \n",
    "username = []\n",
    "for i in emails:\n",
    "    username.append(i.split('@')[0])\n",
    "print(username)"
   ]
  },
  {
   "cell_type": "code",
   "execution_count": 16,
   "id": "39159751-3abc-4b32-9e16-320caca57b49",
   "metadata": {},
   "outputs": [
    {
     "name": "stdout",
     "output_type": "stream",
     "text": [
      "['test', 'sample', 'python', 'ml']\n"
     ]
    }
   ],
   "source": [
    "#2.using function with for loop\n",
    "\n",
    "def fetch_username(e):\n",
    "    username = []\n",
    "    for i in e:\n",
    "        username.append(i.split('@')[0])\n",
    "    print(username)\n",
    "fetch_username(emails)"
   ]
  },
  {
   "cell_type": "code",
   "execution_count": 17,
   "id": "071ba5ae-ea9e-4b60-86ca-783ddbc157f7",
   "metadata": {},
   "outputs": [
    {
     "name": "stdout",
     "output_type": "stream",
     "text": [
      "['test', 'sample', 'python', 'ml']\n"
     ]
    }
   ],
   "source": [
    "#3.normal function with map\n",
    "\n",
    "def fetch_username(e):\n",
    "    return e.split('@')[0]\n",
    "temp = list(map(fetch_username,emails))\n",
    "print(temp)"
   ]
  },
  {
   "cell_type": "code",
   "execution_count": 18,
   "id": "cb8c26d1-5000-4562-b781-d5dddea36719",
   "metadata": {},
   "outputs": [
    {
     "name": "stdout",
     "output_type": "stream",
     "text": [
      "('test', 'sample', 'python', 'ml')\n"
     ]
    }
   ],
   "source": [
    "#4.using lambda with map\n",
    "\n",
    "u = tuple(map(lambda x: x.split('@')[0],emails))\n",
    "print(u)"
   ]
  },
  {
   "cell_type": "code",
   "execution_count": 15,
   "id": "49b4a6f4-2c18-4daf-8aaa-ca707f4d4154",
   "metadata": {},
   "outputs": [
    {
     "name": "stdout",
     "output_type": "stream",
     "text": [
      "['test', 'sample', 'python', 'ml']\n"
     ]
    }
   ],
   "source": [
    "#5.using list comprehnssion\n",
    "u = [i.split('@')[0] for i in emails]\n",
    "print(u)"
   ]
  },
  {
   "cell_type": "code",
   "execution_count": null,
   "id": "a9158347-cc77-4a48-9501-92812d754e4e",
   "metadata": {},
   "outputs": [],
   "source": []
  },
  {
   "cell_type": "code",
   "execution_count": null,
   "id": "3e1b017c-c43e-444e-bfbb-106666c5d60b",
   "metadata": {},
   "outputs": [],
   "source": [
    "list comprehssion vs lambda\n",
    "\n",
    "list comprehssion ---> list\n",
    "\n",
    "lambda --map/filter --> list,tuple,set\n",
    "\n"
   ]
  },
  {
   "cell_type": "code",
   "execution_count": 20,
   "id": "37d9bbdb-8e55-4145-baae-49990d1dbd8e",
   "metadata": {},
   "outputs": [],
   "source": [
    "files = ['copper_02.05.2023.csv','silver_04.05.2023.csv']"
   ]
  },
  {
   "cell_type": "code",
   "execution_count": 22,
   "id": "3fd26aa2-6229-45dc-a501-dbfd4ffd1676",
   "metadata": {},
   "outputs": [
    {
     "data": {
      "text/plain": [
       "['2023', '2023']"
      ]
     },
     "execution_count": 22,
     "metadata": {},
     "output_type": "execute_result"
    }
   ],
   "source": [
    "[i.split('.')[-2] for i in files]"
   ]
  },
  {
   "cell_type": "code",
   "execution_count": 23,
   "id": "7ae31e51-3a2f-4a79-a9b7-54e3642b0ea1",
   "metadata": {},
   "outputs": [],
   "source": [
    "p = [[1,2,3],[4,5,6]]"
   ]
  },
  {
   "cell_type": "code",
   "execution_count": null,
   "id": "da79c370-329a-470d-bf2d-3b2dd9123647",
   "metadata": {},
   "outputs": [],
   "source": [
    "flattern list --> [1,2,3,4,5,6]"
   ]
  },
  {
   "cell_type": "code",
   "execution_count": 24,
   "id": "23817acc-5a1c-4b7d-85ab-ea7c41124e54",
   "metadata": {},
   "outputs": [
    {
     "data": {
      "text/plain": [
       "[[1, 2, 3], [4, 5, 6]]"
      ]
     },
     "execution_count": 24,
     "metadata": {},
     "output_type": "execute_result"
    }
   ],
   "source": [
    "p"
   ]
  },
  {
   "cell_type": "code",
   "execution_count": 25,
   "id": "88f7fc73-7712-42e7-91e9-116d8b741682",
   "metadata": {},
   "outputs": [
    {
     "name": "stdout",
     "output_type": "stream",
     "text": [
      "[1, 2, 3, 4, 5, 6]\n"
     ]
    }
   ],
   "source": [
    "flatten = []\n",
    "for element in p:\n",
    "    for i in element:\n",
    "        flatten.append(i)\n",
    "print(flatten)"
   ]
  },
  {
   "cell_type": "code",
   "execution_count": 26,
   "id": "fb5b0344-127c-4823-ab13-7e4366bf5414",
   "metadata": {},
   "outputs": [
    {
     "data": {
      "text/plain": [
       "[[1, 2, 3], [4, 5, 6]]"
      ]
     },
     "execution_count": 26,
     "metadata": {},
     "output_type": "execute_result"
    }
   ],
   "source": [
    "p"
   ]
  },
  {
   "cell_type": "code",
   "execution_count": 27,
   "id": "86eb4820-ebc6-4c67-92e9-adad256d8543",
   "metadata": {},
   "outputs": [
    {
     "data": {
      "text/plain": [
       "[1, 2, 3, 4, 5, 6]"
      ]
     },
     "execution_count": 27,
     "metadata": {},
     "output_type": "execute_result"
    }
   ],
   "source": [
    "[i for element in p for i in element]"
   ]
  },
  {
   "cell_type": "code",
   "execution_count": 28,
   "id": "18e5eca2-6f17-45bf-9bc7-1889d7b796ed",
   "metadata": {},
   "outputs": [],
   "source": [
    "emp = [[101,'tushar',546456],[105,'keshav',657666565],[106,'rakesh',67657665]]"
   ]
  },
  {
   "cell_type": "code",
   "execution_count": 29,
   "id": "879ecd4f-ea6d-4b09-8053-217af4ca2d52",
   "metadata": {},
   "outputs": [],
   "source": [
    "name = [i[1] for i in emp]"
   ]
  },
  {
   "cell_type": "code",
   "execution_count": 30,
   "id": "989c949e-3564-4ec9-a0fd-af08e6c14eb2",
   "metadata": {},
   "outputs": [
    {
     "data": {
      "text/plain": [
       "['tushar', 'keshav', 'rakesh']"
      ]
     },
     "execution_count": 30,
     "metadata": {},
     "output_type": "execute_result"
    }
   ],
   "source": [
    "name"
   ]
  },
  {
   "cell_type": "code",
   "execution_count": 31,
   "id": "b8f5c3fa-59ff-4940-b146-294b3ebccda9",
   "metadata": {},
   "outputs": [],
   "source": [
    "#assignment using list comprehssion ---fetch invalid data\n",
    "data  = [[23242,'dsfd','fddf',454],[6575565,'xcv','ffg',54345,'dfdgdfdg'],[565465,'hgfg']]"
   ]
  },
  {
   "cell_type": "code",
   "execution_count": null,
   "id": "0ab0ebb7-036b-48df-be0d-e4658382967f",
   "metadata": {},
   "outputs": [],
   "source": [
    "dict comprehssion"
   ]
  },
  {
   "cell_type": "code",
   "execution_count": 33,
   "id": "fa07cf20-6f05-4845-b892-be3a8737a782",
   "metadata": {},
   "outputs": [],
   "source": [
    "p = [65,7,4345,87,764,5,76,76,34,5,765,8676,54,65]"
   ]
  },
  {
   "cell_type": "code",
   "execution_count": 36,
   "id": "75400050-5ab1-420a-a6d2-44c72f5e4a17",
   "metadata": {},
   "outputs": [
    {
     "data": {
      "text/plain": [
       "{65: 2,\n",
       " 7: 1,\n",
       " 4345: 1,\n",
       " 87: 1,\n",
       " 764: 1,\n",
       " 5: 2,\n",
       " 76: 2,\n",
       " 34: 1,\n",
       " 765: 1,\n",
       " 8676: 1,\n",
       " 54: 1}"
      ]
     },
     "execution_count": 36,
     "metadata": {},
     "output_type": "execute_result"
    }
   ],
   "source": [
    "{i:p.count(i) for i in p}"
   ]
  },
  {
   "cell_type": "code",
   "execution_count": 37,
   "id": "30aee2fe-9b8a-464b-bc75-7e24bbed21fc",
   "metadata": {},
   "outputs": [
    {
     "data": {
      "text/plain": [
       "['test@gmail', 'sample@gmail.com', 'python@yahoo.com', 'ml@rediffmail.com']"
      ]
     },
     "execution_count": 37,
     "metadata": {},
     "output_type": "execute_result"
    }
   ],
   "source": [
    "emails"
   ]
  },
  {
   "cell_type": "code",
   "execution_count": 38,
   "id": "165fdb36-16c7-44f6-b181-9ab15e96c7e4",
   "metadata": {},
   "outputs": [],
   "source": [
    "p = ['python','ml','data science','hadoop','pyspark']"
   ]
  },
  {
   "cell_type": "code",
   "execution_count": 39,
   "id": "8323827e-92fa-45a1-98d9-cd0256df9c56",
   "metadata": {},
   "outputs": [
    {
     "data": {
      "text/plain": [
       "{'python': 6, 'ml': 2, 'data science': 12, 'hadoop': 6, 'pyspark': 7}"
      ]
     },
     "execution_count": 39,
     "metadata": {},
     "output_type": "execute_result"
    }
   ],
   "source": [
    "{i: len(i) for i in p}"
   ]
  },
  {
   "cell_type": "code",
   "execution_count": 40,
   "id": "24e5090e-c623-4a98-b5c5-0dc0ecd841c0",
   "metadata": {},
   "outputs": [
    {
     "data": {
      "text/plain": [
       "['test@gmail', 'sample@gmail.com', 'python@yahoo.com', 'ml@rediffmail.com']"
      ]
     },
     "execution_count": 40,
     "metadata": {},
     "output_type": "execute_result"
    }
   ],
   "source": [
    "emails"
   ]
  },
  {
   "cell_type": "code",
   "execution_count": 41,
   "id": "9613df60-aa50-435f-a939-39e9360a5ce5",
   "metadata": {},
   "outputs": [
    {
     "data": {
      "text/plain": [
       "{'test': 'gmail',\n",
       " 'sample': 'gmail.com',\n",
       " 'python': 'yahoo.com',\n",
       " 'ml': 'rediffmail.com'}"
      ]
     },
     "execution_count": 41,
     "metadata": {},
     "output_type": "execute_result"
    }
   ],
   "source": [
    "{x.split('@')[0]:x.split('@')[-1] for x in emails}"
   ]
  },
  {
   "cell_type": "code",
   "execution_count": 42,
   "id": "597b8e12-acc5-47af-9e48-f5fdaa3dfecf",
   "metadata": {},
   "outputs": [],
   "source": [
    "p = [1,2,3,4,5,6,7,8]"
   ]
  },
  {
   "cell_type": "code",
   "execution_count": null,
   "id": "ab8cb5b3-7c25-4987-bf22-c876e120ad80",
   "metadata": {},
   "outputs": [],
   "source": [
    "{1:1,2:4,3:9...}"
   ]
  },
  {
   "cell_type": "code",
   "execution_count": 43,
   "id": "32f2dd5a-4bbe-4295-a4e9-9dc2844aad18",
   "metadata": {},
   "outputs": [
    {
     "data": {
      "text/plain": [
       "[1, 2, 3, 4, 5, 6, 7, 8]"
      ]
     },
     "execution_count": 43,
     "metadata": {},
     "output_type": "execute_result"
    }
   ],
   "source": [
    "p"
   ]
  },
  {
   "cell_type": "code",
   "execution_count": null,
   "id": "72415434-9897-4232-b7e0-6ce321165f5f",
   "metadata": {},
   "outputs": [],
   "source": [
    "{1:2,2:3,3:4,4:5,5:6,6:7,7:8]"
   ]
  },
  {
   "cell_type": "code",
   "execution_count": null,
   "id": "9f92ceb1-b599-46db-8241-7977a1ee3812",
   "metadata": {},
   "outputs": [],
   "source": [
    "tuple comprehssion\n",
    "\n",
    "tuple comprehssion is not possible\n",
    "if we do it will create generator object"
   ]
  },
  {
   "cell_type": "code",
   "execution_count": 46,
   "id": "10f052c2-c732-455a-a5df-038204e262a8",
   "metadata": {},
   "outputs": [],
   "source": [
    "p = (i for i in range(100))"
   ]
  },
  {
   "cell_type": "code",
   "execution_count": 47,
   "id": "c259f53c-d928-4283-9eff-32945eb0b419",
   "metadata": {},
   "outputs": [
    {
     "data": {
      "text/plain": [
       "<generator object <genexpr> at 0x000001A7F4B24C40>"
      ]
     },
     "execution_count": 47,
     "metadata": {},
     "output_type": "execute_result"
    }
   ],
   "source": [
    "p"
   ]
  },
  {
   "cell_type": "code",
   "execution_count": null,
   "id": "36e0b532-5c47-40ee-bf47-281ca2e580d2",
   "metadata": {},
   "outputs": [],
   "source": []
  }
 ],
 "metadata": {
  "kernelspec": {
   "display_name": "Python 3 (ipykernel)",
   "language": "python",
   "name": "python3"
  },
  "language_info": {
   "codemirror_mode": {
    "name": "ipython",
    "version": 3
   },
   "file_extension": ".py",
   "mimetype": "text/x-python",
   "name": "python",
   "nbconvert_exporter": "python",
   "pygments_lexer": "ipython3",
   "version": "3.12.7"
  }
 },
 "nbformat": 4,
 "nbformat_minor": 5
}
