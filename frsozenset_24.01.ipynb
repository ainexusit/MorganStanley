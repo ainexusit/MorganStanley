{
 "cells": [
  {
   "cell_type": "code",
   "execution_count": null,
   "id": "d9d006b8-d879-4247-a33b-0d62f0b49126",
   "metadata": {},
   "outputs": [],
   "source": [
    "Frozenset :\n",
    "\n",
    "it is collection of unique [same as set]\n",
    "it is immutable type"
   ]
  },
  {
   "cell_type": "code",
   "execution_count": null,
   "id": "c6be788e-0304-4dbf-a770-6587e0516774",
   "metadata": {},
   "outputs": [],
   "source": [
    "set   vs frozenset\n",
    "\n",
    "mutable type --> immutable type"
   ]
  },
  {
   "cell_type": "code",
   "execution_count": null,
   "id": "040443f0-1118-4b72-9225-e5a0dc425b8d",
   "metadata": {},
   "outputs": [],
   "source": [
    "set : mutable \n",
    "add\n",
    "update\n",
    "remove\n",
    "discard\n",
    "pop\n",
    "clear\n"
   ]
  },
  {
   "cell_type": "code",
   "execution_count": 3,
   "id": "754a61ce-0e77-4a47-9862-9c23c3587ee3",
   "metadata": {},
   "outputs": [],
   "source": [
    "temp = frozenset({2,64,4512,6,45,23,64,23,65,34,845,34,645,5,'python'})"
   ]
  },
  {
   "cell_type": "code",
   "execution_count": 4,
   "id": "5155a53b-398d-4f33-b543-be47e4f1e3cb",
   "metadata": {},
   "outputs": [
    {
     "data": {
      "text/plain": [
       "frozenset({2, 23, 34, 45, 4512, 5, 6, 64, 645, 65, 845, 'python'})"
      ]
     },
     "execution_count": 4,
     "metadata": {},
     "output_type": "execute_result"
    }
   ],
   "source": [
    "temp"
   ]
  },
  {
   "cell_type": "code",
   "execution_count": 5,
   "id": "88be871d-3e3c-429c-b093-9dcaa224ee1c",
   "metadata": {},
   "outputs": [],
   "source": [
    "temp1 = frozenset({54,7,3,47,5,8,34,76,4,65,6})"
   ]
  },
  {
   "cell_type": "code",
   "execution_count": 6,
   "id": "f9026117-83af-4069-98df-ad10c4dc3a85",
   "metadata": {},
   "outputs": [
    {
     "data": {
      "text/plain": [
       "frozenset({2,\n",
       "           23,\n",
       "           3,\n",
       "           34,\n",
       "           4,\n",
       "           45,\n",
       "           4512,\n",
       "           47,\n",
       "           5,\n",
       "           54,\n",
       "           6,\n",
       "           64,\n",
       "           645,\n",
       "           65,\n",
       "           7,\n",
       "           76,\n",
       "           8,\n",
       "           845,\n",
       "           'python'})"
      ]
     },
     "execution_count": 6,
     "metadata": {},
     "output_type": "execute_result"
    }
   ],
   "source": [
    "temp.union(temp1)"
   ]
  },
  {
   "cell_type": "code",
   "execution_count": 7,
   "id": "0f0fd72c-854a-405c-9f50-c5e0d8fbbb2a",
   "metadata": {},
   "outputs": [
    {
     "data": {
      "text/plain": [
       "frozenset({5, 6, 34, 65})"
      ]
     },
     "execution_count": 7,
     "metadata": {},
     "output_type": "execute_result"
    }
   ],
   "source": [
    "temp.intersection(temp1)"
   ]
  },
  {
   "cell_type": "code",
   "execution_count": 8,
   "id": "47c6a111-23ff-4358-aa16-5abaec64d04e",
   "metadata": {},
   "outputs": [
    {
     "data": {
      "text/plain": [
       "frozenset({2, 23, 45, 4512, 64, 645, 845, 'python'})"
      ]
     },
     "execution_count": 8,
     "metadata": {},
     "output_type": "execute_result"
    }
   ],
   "source": [
    "temp.difference(temp1)"
   ]
  },
  {
   "cell_type": "code",
   "execution_count": 9,
   "id": "62c1bf2b-1a17-4a50-89e8-69030176eafe",
   "metadata": {},
   "outputs": [
    {
     "data": {
      "text/plain": [
       "frozenset({3, 4, 7, 8, 47, 54, 76})"
      ]
     },
     "execution_count": 9,
     "metadata": {},
     "output_type": "execute_result"
    }
   ],
   "source": [
    "temp1.difference(temp)"
   ]
  },
  {
   "cell_type": "code",
   "execution_count": 10,
   "id": "29b3614a-87fa-4aaa-87bc-5f6c4fbada2a",
   "metadata": {},
   "outputs": [
    {
     "data": {
      "text/plain": [
       "frozenset({2, 23, 3, 4, 45, 4512, 47, 54, 64, 645, 7, 76, 8, 845, 'python'})"
      ]
     },
     "execution_count": 10,
     "metadata": {},
     "output_type": "execute_result"
    }
   ],
   "source": [
    "temp.symmetric_difference(temp1)"
   ]
  },
  {
   "cell_type": "code",
   "execution_count": 11,
   "id": "385646cf-4acd-41cc-a5dd-2faee4be4051",
   "metadata": {},
   "outputs": [
    {
     "data": {
      "text/plain": [
       "False"
      ]
     },
     "execution_count": 11,
     "metadata": {},
     "output_type": "execute_result"
    }
   ],
   "source": [
    "temp.issubset(temp1)"
   ]
  },
  {
   "cell_type": "code",
   "execution_count": 12,
   "id": "549d0d35-db0c-453e-8694-216a1c4dcf14",
   "metadata": {},
   "outputs": [
    {
     "data": {
      "text/plain": [
       "False"
      ]
     },
     "execution_count": 12,
     "metadata": {},
     "output_type": "execute_result"
    }
   ],
   "source": [
    "temp1.issuperset(temp)"
   ]
  },
  {
   "cell_type": "code",
   "execution_count": 13,
   "id": "d7c0b68b-d50d-4583-8a2c-a4ce73e6995a",
   "metadata": {},
   "outputs": [
    {
     "data": {
      "text/plain": [
       "False"
      ]
     },
     "execution_count": 13,
     "metadata": {},
     "output_type": "execute_result"
    }
   ],
   "source": [
    "temp.isdisjoint(temp1)"
   ]
  },
  {
   "cell_type": "code",
   "execution_count": null,
   "id": "3b6433f7-7c82-4c8f-a417-d5989ba04ed4",
   "metadata": {},
   "outputs": [],
   "source": [
    "Data Structure:\n",
    "\n",
    "requirement -->product details -- files | Database | Source\n",
    "\n",
    "1,56,34 --> new add ,update,delete - list\n",
    "(101,'test@gmail.com',54534353)\n",
    "\n",
    "table1 and table2 --> union | intersection | set\n",
    "\n",
    "Data file read Database --> dict\n"
   ]
  },
  {
   "cell_type": "code",
   "execution_count": null,
   "id": "9acbfaf0-b88b-4e32-a5ec-55b3b62e46d1",
   "metadata": {},
   "outputs": [],
   "source": [
    "DS\n",
    "list\n",
    "tuple\n",
    "set\n",
    "dict\n",
    "str\n",
    "frozenset"
   ]
  },
  {
   "cell_type": "code",
   "execution_count": null,
   "id": "ebceb6d1-1b30-4ec7-9609-aa50f8d0b750",
   "metadata": {},
   "outputs": [],
   "source": [
    "file1 :\n",
    "list\n"
   ]
  }
 ],
 "metadata": {
  "kernelspec": {
   "display_name": "Python 3 (ipykernel)",
   "language": "python",
   "name": "python3"
  },
  "language_info": {
   "codemirror_mode": {
    "name": "ipython",
    "version": 3
   },
   "file_extension": ".py",
   "mimetype": "text/x-python",
   "name": "python",
   "nbconvert_exporter": "python",
   "pygments_lexer": "ipython3",
   "version": "3.12.7"
  }
 },
 "nbformat": 4,
 "nbformat_minor": 5
}
