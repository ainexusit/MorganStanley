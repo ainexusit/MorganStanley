{
 "cells": [
  {
   "cell_type": "code",
   "execution_count": 1,
   "id": "70724b39-dd72-46c8-b097-f199806a6421",
   "metadata": {},
   "outputs": [],
   "source": [
    "#Decorator --> Interview"
   ]
  },
  {
   "cell_type": "code",
   "execution_count": null,
   "id": "46f5ad5d-d277-4dd6-a435-e6dc5d81507a",
   "metadata": {},
   "outputs": [],
   "source": [
    "#function alicing "
   ]
  },
  {
   "cell_type": "code",
   "execution_count": 2,
   "id": "eb5c9565-d402-4b6f-bdc9-1687cc0dd2b9",
   "metadata": {},
   "outputs": [],
   "source": [
    "def sum():\n",
    "    a = 10\n",
    "    b = 50\n",
    "    c = a+b\n",
    "    print(c)"
   ]
  },
  {
   "cell_type": "code",
   "execution_count": 3,
   "id": "1ff1e025-3b4c-40fd-8e91-7f1f580b09f9",
   "metadata": {},
   "outputs": [
    {
     "name": "stdout",
     "output_type": "stream",
     "text": [
      "60\n"
     ]
    }
   ],
   "source": [
    "sum()"
   ]
  },
  {
   "cell_type": "code",
   "execution_count": 4,
   "id": "b24b41a9-0a63-4f7a-8e41-54e8eb3c72b7",
   "metadata": {},
   "outputs": [],
   "source": [
    "test = sum"
   ]
  },
  {
   "cell_type": "code",
   "execution_count": 5,
   "id": "03034a77-ee52-4003-bd3a-e132a57533aa",
   "metadata": {},
   "outputs": [
    {
     "name": "stdout",
     "output_type": "stream",
     "text": [
      "60\n"
     ]
    }
   ],
   "source": [
    "test()"
   ]
  },
  {
   "cell_type": "code",
   "execution_count": 6,
   "id": "6272fc56-a637-4b9e-9d12-a884440fd885",
   "metadata": {},
   "outputs": [],
   "source": [
    "py = sum"
   ]
  },
  {
   "cell_type": "code",
   "execution_count": 7,
   "id": "fdd24fde-d9a2-440a-97c0-91338ffa81b5",
   "metadata": {},
   "outputs": [
    {
     "name": "stdout",
     "output_type": "stream",
     "text": [
      "60\n"
     ]
    }
   ],
   "source": [
    "py()"
   ]
  },
  {
   "cell_type": "code",
   "execution_count": null,
   "id": "4169be51-6afa-492d-b745-1c1792abd05c",
   "metadata": {},
   "outputs": [],
   "source": [
    "sum --> test,py"
   ]
  },
  {
   "cell_type": "code",
   "execution_count": 9,
   "id": "309f9673-bbcd-4cc5-9272-d1f210356bbc",
   "metadata": {},
   "outputs": [],
   "source": [
    "def sample(x,y):\n",
    "    z = x+y\n",
    "    print(z)"
   ]
  },
  {
   "cell_type": "code",
   "execution_count": 10,
   "id": "10fe70a8-3aef-443f-b158-c21af125c126",
   "metadata": {},
   "outputs": [
    {
     "name": "stdout",
     "output_type": "stream",
     "text": [
      "110\n"
     ]
    }
   ],
   "source": [
    "a = 50\n",
    "b = 60\n",
    "sample(a,b)"
   ]
  },
  {
   "cell_type": "code",
   "execution_count": 11,
   "id": "816222ac-eed1-45d0-b868-c5e0c7d0082b",
   "metadata": {},
   "outputs": [],
   "source": [
    "def test():\n",
    "    t1  =100\n",
    "    t2  = 500\n",
    "    t3 = t1+t2\n",
    "    return t3"
   ]
  },
  {
   "cell_type": "code",
   "execution_count": 12,
   "id": "f4cd4202-51c7-48ba-9335-ccc648892f89",
   "metadata": {},
   "outputs": [],
   "source": [
    "result  = t3"
   ]
  },
  {
   "cell_type": "code",
   "execution_count": 13,
   "id": "f82066b9-f9a3-4ce0-a4a5-035e0296622b",
   "metadata": {},
   "outputs": [
    {
     "data": {
      "text/plain": [
       "600"
      ]
     },
     "execution_count": 13,
     "metadata": {},
     "output_type": "execute_result"
    }
   ],
   "source": [
    "result"
   ]
  },
  {
   "cell_type": "code",
   "execution_count": 21,
   "id": "a8ae9bf3-cd86-4214-8d43-6e1f080826d4",
   "metadata": {},
   "outputs": [],
   "source": [
    "def outer():\n",
    "    print(\"in outer\")\n",
    "    def inner():\n",
    "        print(\"in inner\")\n",
    "    return inner"
   ]
  },
  {
   "cell_type": "code",
   "execution_count": 24,
   "id": "5c547ee5-d4a7-43e4-8584-059edf62c33a",
   "metadata": {},
   "outputs": [
    {
     "name": "stdout",
     "output_type": "stream",
     "text": [
      "in outer\n"
     ]
    }
   ],
   "source": [
    "r = outer()"
   ]
  },
  {
   "cell_type": "code",
   "execution_count": 25,
   "id": "dda99542-d971-4b88-9030-46093194dae0",
   "metadata": {},
   "outputs": [
    {
     "name": "stdout",
     "output_type": "stream",
     "text": [
      "in inner\n"
     ]
    }
   ],
   "source": [
    "r()"
   ]
  },
  {
   "cell_type": "code",
   "execution_count": null,
   "id": "08eb005d-74f2-412f-a5e1-d1070c10e755",
   "metadata": {},
   "outputs": [],
   "source": [
    "function alising\n",
    "inner function --> access from outside"
   ]
  },
  {
   "cell_type": "code",
   "execution_count": null,
   "id": "2e75cc6b-11b9-4756-b74e-eb3fc81a367f",
   "metadata": {},
   "outputs": [],
   "source": [
    "Decorator :\n",
    "\n",
    "Beuty Parlor"
   ]
  },
  {
   "cell_type": "code",
   "execution_count": null,
   "id": "97d68fb4-d701-4cc0-acac-43d1e5a9705e",
   "metadata": {},
   "outputs": [],
   "source": [
    "1)\n",
    "\n",
    "Input string = 'hello123@#word456$%'\n",
    "Expected Output:\n",
    "Character= helloword\n",
    "Number= 123456\n",
    "Special char = @#$%"
   ]
  }
 ],
 "metadata": {
  "kernelspec": {
   "display_name": "Python 3 (ipykernel)",
   "language": "python",
   "name": "python3"
  },
  "language_info": {
   "codemirror_mode": {
    "name": "ipython",
    "version": 3
   },
   "file_extension": ".py",
   "mimetype": "text/x-python",
   "name": "python",
   "nbconvert_exporter": "python",
   "pygments_lexer": "ipython3",
   "version": "3.12.7"
  }
 },
 "nbformat": 4,
 "nbformat_minor": 5
}
