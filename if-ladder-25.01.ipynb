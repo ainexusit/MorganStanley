{
 "cells": [
  {
   "cell_type": "code",
   "execution_count": null,
   "id": "b9092828-f4dc-4ef5-88c4-a1028441ef14",
   "metadata": {},
   "outputs": [],
   "source": [
    "copper.csv\n",
    "gold.pdf\n",
    "silver.csv\n",
    "boxite.xlsx\n",
    "copper.pdf\n",
    "silver.xlsx\n",
    "\n",
    "\n",
    "client\n",
    "\n",
    "\n",
    "csv -- logic\n",
    "\n",
    "excel -- logic\n",
    "\n",
    "pdf -- logic"
   ]
  },
  {
   "cell_type": "code",
   "execution_count": 3,
   "id": "89103310-462e-4a99-a277-65aecf2501f7",
   "metadata": {},
   "outputs": [
    {
     "name": "stdin",
     "output_type": "stream",
     "text": [
      "Enter the file: werwer.txt\n"
     ]
    },
    {
     "name": "stdout",
     "output_type": "stream",
     "text": [
      "invalid file type\n"
     ]
    }
   ],
   "source": [
    "file = input(\"Enter the file:\")\n",
    "if file.endswith('.csv'):\n",
    "    print(\"csv file processing logic\")\n",
    "elif file.endswith('.pdf'):\n",
    "    print(\"pdf file processing logic\")\n",
    "elif file.endswith('.xlsx'):\n",
    "    print(\"xlsx file processing logic\")\n",
    "else:\n",
    "    print(\"invalid file type\")"
   ]
  },
  {
   "cell_type": "code",
   "execution_count": 6,
   "id": "579d9229-305f-4c9a-a19f-7fb6ccf3ba89",
   "metadata": {},
   "outputs": [
    {
     "name": "stdin",
     "output_type": "stream",
     "text": [
      "Enter the file: sdfsdf.xlsx\n"
     ]
    },
    {
     "name": "stdout",
     "output_type": "stream",
     "text": [
      "file processing\n"
     ]
    }
   ],
   "source": [
    "file = input(\"Enter the file:\")\n",
    "if file.endswith('.csv') or file.endswith('.pdf') or file.endswith('.xlsx'):\n",
    "    print(\"file processing\")"
   ]
  },
  {
   "cell_type": "code",
   "execution_count": null,
   "id": "600a4c37-da8d-4ac2-91a9-dd4405ba95a9",
   "metadata": {},
   "outputs": [],
   "source": [
    "csv -- file read writing"
   ]
  },
  {
   "cell_type": "code",
   "execution_count": null,
   "id": "f637e36e-6088-4220-9c57-a15d7a8c9834",
   "metadata": {},
   "outputs": [],
   "source": [
    "4.Nested if-else:\n",
    "dependenet condition"
   ]
  },
  {
   "cell_type": "code",
   "execution_count": null,
   "id": "8685ced9-1714-42a5-aefd-08060920801b",
   "metadata": {},
   "outputs": [],
   "source": [
    "if outer: True\n",
    "    if inner:\n",
    "        "
   ]
  },
  {
   "cell_type": "code",
   "execution_count": null,
   "id": "3a662a34-7f73-4f1a-9051-c96df8c00fe0",
   "metadata": {},
   "outputs": [],
   "source": [
    "if country == UK:\n",
    "    if state==\n",
    "\n",
    "\n",
    "elif country=='IND':\n",
    "    if state=='MH':\n",
    "        if district=='pune:\n",
    "            if taluka=='SB Road':\n",
    "                  print(pincode)\n",
    "    elif state=='KA'\n",
    "\n",
    "    elif state=='GJ\n",
    "    "
   ]
  },
  {
   "cell_type": "code",
   "execution_count": null,
   "id": "7f4600ba-0b67-4afc-9015-d395dcd892cd",
   "metadata": {},
   "outputs": [],
   "source": [
    "client :\n",
    "\n",
    "copper.csv\n",
    "copper.pdf\n",
    "copper.xlsx\n",
    "gold.csv\n",
    "silver.csv\n",
    "boxite.csv\n",
    "gold.pdf\n",
    "alumnia.pdf\n",
    "gold.xlsx\n",
    "silver.xlsx"
   ]
  },
  {
   "cell_type": "code",
   "execution_count": 10,
   "id": "6e0e78b7-7208-4890-8389-2bb91b92d9f6",
   "metadata": {},
   "outputs": [
    {
     "name": "stdin",
     "output_type": "stream",
     "text": [
      "Enter the filename: silver.csv\n"
     ]
    },
    {
     "name": "stdout",
     "output_type": "stream",
     "text": [
      "silver csv file processing\n"
     ]
    }
   ],
   "source": [
    "filename = input(\"Enter the filename:\")\n",
    "if filename.endswith('.csv'):\n",
    "    if filename.startswith('copper'):\n",
    "        print(\"copper csv file processing\")\n",
    "    elif filename.startswith('silver'):\n",
    "        print(\"silver csv file processing\")\n",
    "    elif filename.startswith('gold'):\n",
    "        print(\"gold csv file processing\")\n",
    "    else:\n",
    "        print(\"invalid csv file\")\n",
    "elif filename.endswith(\".pdf\"):\n",
    "    if filename.startswith('copper'):\n",
    "        print(\"copper pdf file processing\")\n",
    "    elif filename.startswith('silver'):\n",
    "        print(\"silver pdf file processing\")\n",
    "    elif filename.startswith('gold'):\n",
    "        print(\"gold pdf file processing\")\n",
    "    else:\n",
    "        print(\"invalid pdf file\")\n",
    "elif filename.endswith(\".xlsx\"):\n",
    "    if filename.startswith('copper'):\n",
    "        print(\"copper xlsx file processing\")\n",
    "    elif filename.startswith('silver'):\n",
    "        print(\"silver xlsx file processing\")\n",
    "    elif filename.startswith('gold'):\n",
    "        print(\"gold xlsx file processing\")\n",
    "    else:\n",
    "        print(\"invalid xlsx file\")\n",
    "else:\n",
    "    print(\"invalid file type\")"
   ]
  },
  {
   "cell_type": "raw",
   "id": "b4c714ce-813c-4ad9-b348-d99d85f155dd",
   "metadata": {},
   "source": [
    "CSV data --> raw\n",
    "\n",
    "excel --> sales\n",
    "\n",
    "pdf --> reports\n"
   ]
  },
  {
   "cell_type": "code",
   "execution_count": null,
   "id": "4484bc40-77f9-44c3-9ebe-53cb77e75f53",
   "metadata": {},
   "outputs": [],
   "source": [
    "client --> \n",
    "2021 - 2024  data\n",
    "csv,xlsx,pdf,txt\n",
    "\n",
    "folder\n",
    "\n",
    "copper_2023_product_.csv\n",
    "copper_2024_product_.pdf\n",
    "gold_2023_product_.csv"
   ]
  }
 ],
 "metadata": {
  "kernelspec": {
   "display_name": "Python 3 (ipykernel)",
   "language": "python",
   "name": "python3"
  },
  "language_info": {
   "codemirror_mode": {
    "name": "ipython",
    "version": 3
   },
   "file_extension": ".py",
   "mimetype": "text/x-python",
   "name": "python",
   "nbconvert_exporter": "python",
   "pygments_lexer": "ipython3",
   "version": "3.12.7"
  }
 },
 "nbformat": 4,
 "nbformat_minor": 5
}
