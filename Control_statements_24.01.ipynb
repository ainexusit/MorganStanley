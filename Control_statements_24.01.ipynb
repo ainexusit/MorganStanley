{
 "cells": [
  {
   "cell_type": "code",
   "execution_count": null,
   "id": "9715dd73-ae4c-4204-96fe-1f97bb5c5f0c",
   "metadata": {},
   "outputs": [],
   "source": [
    "Control statements: Flow control statement\n",
    "1.simple if\n",
    "2.if-else\n",
    "3.if-else ladder\n",
    "4.nested if-else"
   ]
  },
  {
   "cell_type": "code",
   "execution_count": null,
   "id": "5cbcd7b0-3055-4c4a-849c-28c012f34ad4",
   "metadata": {},
   "outputs": [],
   "source": [
    "default :\n",
    "execution \n",
    "seq"
   ]
  },
  {
   "cell_type": "code",
   "execution_count": 1,
   "id": "3a618b8d-83b6-41ed-ae03-43de651c5340",
   "metadata": {},
   "outputs": [
    {
     "name": "stdout",
     "output_type": "stream",
     "text": [
      "Hi\n",
      "Bye\n",
      "welcome\n"
     ]
    }
   ],
   "source": [
    "print(\"Hi\")\n",
    "print(\"Bye\")\n",
    "print(\"welcome\")"
   ]
  },
  {
   "cell_type": "code",
   "execution_count": null,
   "id": "878e647c-e833-4697-844a-6880d3956130",
   "metadata": {},
   "outputs": [],
   "source": [
    "simple if \n",
    "\n",
    "identation"
   ]
  },
  {
   "cell_type": "code",
   "execution_count": 2,
   "id": "79694e64-d197-4434-82c7-433e787ddf7d",
   "metadata": {},
   "outputs": [
    {
     "ename": "SyntaxError",
     "evalue": "invalid syntax (1931204652.py, line 1)",
     "output_type": "error",
     "traceback": [
      "\u001b[1;36m  Cell \u001b[1;32mIn[2], line 1\u001b[1;36m\u001b[0m\n\u001b[1;33m    c/c++/Java\u001b[0m\n\u001b[1;37m         ^\u001b[0m\n\u001b[1;31mSyntaxError\u001b[0m\u001b[1;31m:\u001b[0m invalid syntax\n"
     ]
    }
   ],
   "source": [
    "c/c++/Java\n",
    "\n",
    "if condition\n",
    "{\n",
    "wfwerfwefewr\n",
    "sdfsfsdfdsdsf\n",
    "}\n"
   ]
  },
  {
   "cell_type": "raw",
   "id": "30fc4e23-225f-4d72-b96a-76775961e49f",
   "metadata": {},
   "source": [
    "if condition:\n",
    "    sfdsfsfdfdsf\n",
    "    sdafdfsfdfdfdsa\n",
    "    fsdafsdfsdfafsd\n",
    "sdfsdffdsfafd-> "
   ]
  },
  {
   "cell_type": "code",
   "execution_count": null,
   "id": "fbbc2c8c-8fab-4d35-8a55-12299f7e3dcb",
   "metadata": {},
   "outputs": [],
   "source": [
    "ident :  4 spaces / 1 tab"
   ]
  },
  {
   "cell_type": "code",
   "execution_count": 8,
   "id": "c265a346-68cc-4903-ac73-a4dae3bc0238",
   "metadata": {},
   "outputs": [
    {
     "name": "stdout",
     "output_type": "stream",
     "text": [
      "Hi\n"
     ]
    }
   ],
   "source": [
    "if True:\n",
    "    print(\"Hi\")"
   ]
  },
  {
   "cell_type": "code",
   "execution_count": null,
   "id": "07dbd0e9-f5eb-4351-972f-29119f3c9ed8",
   "metadata": {},
   "outputs": [],
   "source": [
    "simple if :\n",
    "when we have single condition"
   ]
  },
  {
   "cell_type": "code",
   "execution_count": null,
   "id": "232eb1c6-5a60-482e-b537-3dd6db41f00a",
   "metadata": {},
   "outputs": [],
   "source": [
    "if condition: True\n",
    "    block of code"
   ]
  },
  {
   "cell_type": "code",
   "execution_count": 10,
   "id": "0c9850df-46fb-48e5-83af-cdeb73596904",
   "metadata": {},
   "outputs": [
    {
     "name": "stdin",
     "output_type": "stream",
     "text": [
      "Enter the email: test@yahoo.com\n"
     ]
    },
    {
     "name": "stdout",
     "output_type": "stream",
     "text": [
      "Thanks\n"
     ]
    }
   ],
   "source": [
    "email = input(\"Enter the email:\")\n",
    "if email.endswith(\"@gmail.com\"):\n",
    "    print(\"Email is Valid\")\n",
    "print(\"Thanks\")\n",
    "print(\"rest code\")"
   ]
  },
  {
   "cell_type": "code",
   "execution_count": 14,
   "id": "7eb01b0d-1cad-457d-befe-bf0ff4f64d27",
   "metadata": {},
   "outputs": [
    {
     "name": "stdin",
     "output_type": "stream",
     "text": [
      "Enter the email: jhvhjjh\n"
     ]
    }
   ],
   "source": [
    "email = input(\"Enter the email:\")\n",
    "if email.endswith(\"@gmail.com\"):\n",
    "      print(\"Email is Valid\")"
   ]
  },
  {
   "cell_type": "code",
   "execution_count": 16,
   "id": "f2622978-57d3-48a1-80d7-afe3e731d2df",
   "metadata": {},
   "outputs": [
    {
     "name": "stdout",
     "output_type": "stream",
     "text": [
      "1\n",
      "2\n",
      "3\n",
      "4\n",
      "5\n",
      "6\n"
     ]
    }
   ],
   "source": [
    "print(\"1\")\n",
    "print(\"2\")\n",
    "a = 10\n",
    "if a<5:\n",
    "    print(\"3\")\n",
    "    print(\"4\")\n",
    "print(\"5\")\n",
    "print(\"6\")"
   ]
  },
  {
   "cell_type": "code",
   "execution_count": 18,
   "id": "fcfdb477-b110-473f-bd1a-cff50850eede",
   "metadata": {},
   "outputs": [],
   "source": [
    "p = [34,67,6523,36565]"
   ]
  },
  {
   "cell_type": "code",
   "execution_count": null,
   "id": "b64dc299-d485-453e-9aad-26b8ebf36fe4",
   "metadata": {},
   "outputs": [],
   "source": [
    "if-else\n",
    "\n",
    "when we have two condition\n",
    "opposite "
   ]
  },
  {
   "cell_type": "code",
   "execution_count": 22,
   "id": "cb60c78b-d470-4cf8-8fea-d3c61845fec4",
   "metadata": {},
   "outputs": [
    {
     "ename": "IndentationError",
     "evalue": "unexpected indent (3116984094.py, line 2)",
     "output_type": "error",
     "traceback": [
      "\u001b[1;36m  Cell \u001b[1;32mIn[22], line 2\u001b[1;36m\u001b[0m\n\u001b[1;33m    block of code\u001b[0m\n\u001b[1;37m    ^\u001b[0m\n\u001b[1;31mIndentationError\u001b[0m\u001b[1;31m:\u001b[0m unexpected indent\n"
     ]
    }
   ],
   "source": [
    "if condition: True | False\n",
    "    block of code\n",
    "else: False | True\n",
    "    block of code"
   ]
  },
  {
   "cell_type": "code",
   "execution_count": null,
   "id": "e0d2c0d5-e7ec-4a8d-ba43-c17a77f76464",
   "metadata": {},
   "outputs": [],
   "source": [
    "Note : else never have condition"
   ]
  },
  {
   "cell_type": "code",
   "execution_count": 27,
   "id": "54cf1b60-f7fa-4870-af94-ad08a8449c0b",
   "metadata": {},
   "outputs": [
    {
     "name": "stdout",
     "output_type": "stream",
     "text": [
      "Program to Check number is Even or Odd\n"
     ]
    },
    {
     "name": "stdin",
     "output_type": "stream",
     "text": [
      "Enter the number: 400\n"
     ]
    },
    {
     "name": "stdout",
     "output_type": "stream",
     "text": [
      "Given Number --> 400 is Even\n",
      "Thanks for checking\n"
     ]
    }
   ],
   "source": [
    "print(\"Program to Check number is Even or Odd\")\n",
    "no = int(input(\"Enter the number:\"))\n",
    "if no%2==0:\n",
    "    print(\"Given Number --> {} is Even\".format(no))\n",
    "else:\n",
    "    print(f\"Given Number --> {no} is Odd\")\n",
    "print(\"Thanks for checking\")"
   ]
  },
  {
   "cell_type": "code",
   "execution_count": 30,
   "id": "e07d4116-f2e5-426b-a44e-7fd98b98ce3a",
   "metadata": {},
   "outputs": [],
   "source": [
    "x = 11\n",
    "result  = \"even\" if x%2==0 else \"odd\""
   ]
  },
  {
   "cell_type": "code",
   "execution_count": 31,
   "id": "84b31a80-a48c-47d7-a680-12b892d181c5",
   "metadata": {},
   "outputs": [
    {
     "data": {
      "text/plain": [
       "'odd'"
      ]
     },
     "execution_count": 31,
     "metadata": {},
     "output_type": "execute_result"
    }
   ],
   "source": [
    "result"
   ]
  },
  {
   "cell_type": "code",
   "execution_count": null,
   "id": "8e55e93c-4729-4550-80e2-16e29c30245b",
   "metadata": {},
   "outputs": [],
   "source": [
    "number s-- > - 5 types  --> ternary --> lambda -- optimized "
   ]
  },
  {
   "cell_type": "code",
   "execution_count": 34,
   "id": "16b0e4bd-df0a-4ff5-8249-26a7ab02c2e2",
   "metadata": {},
   "outputs": [],
   "source": [
    "file  = 'copper_product_2026.csv'"
   ]
  },
  {
   "cell_type": "code",
   "execution_count": 35,
   "id": "c51d23dc-6cef-469a-ae0c-9441adc8b1de",
   "metadata": {},
   "outputs": [
    {
     "name": "stdout",
     "output_type": "stream",
     "text": [
      "invalid please check file name\n"
     ]
    }
   ],
   "source": [
    "if file.endswith('.csv') and file.startswith('copper') and '2025' in file:\n",
    "    print(\"valid file - processing\")\n",
    "else:\n",
    "    print(\"invalid please check file name\")"
   ]
  },
  {
   "cell_type": "code",
   "execution_count": null,
   "id": "7c5f1b0e-7f52-4a0b-bb28-ba874d906533",
   "metadata": {},
   "outputs": [],
   "source": [
    "if-else ladder"
   ]
  },
  {
   "cell_type": "code",
   "execution_count": null,
   "id": "e0edcffc-f790-4859-b22f-a48917e20528",
   "metadata": {},
   "outputs": [],
   "source": [
    "Here’s an example of an assignment on **Complex If-Else** conditional statements, including nested and chained conditions:\n",
    "\n",
    "---\n",
    "\n",
    "### **Assignment Title: Exploring Complex If-Else Statements in Python**\n",
    "\n",
    "#### **Objective:**\n",
    "To learn and implement more advanced `if-else` logic, including nested and chained conditions, for solving complex decision-making problems.\n",
    "\n",
    "---\n",
    "\n",
    "### **Tasks:**\n",
    "\n",
    "#### **Part 1: Understanding Complex If-Else**\n",
    "1. **Theory**:  \n",
    "   Write an explanation of how complex `if-else` statements work, including:  \n",
    "   - Nested `if-else` statements  \n",
    "   - The use of `elif` for multiple conditions  \n",
    "   Provide examples for each type.\n",
    "\n",
    "---\n",
    "\n",
    "#### **Part 2: Practical Examples**\n",
    "\n",
    "1. **Task 1: Grading System**  \n",
    "   Write a program to calculate and display the grade of a student based on their marks:\n",
    "   - Marks ≥ 90: Grade `A`\n",
    "   - Marks 80–89: Grade `B`\n",
    "   - Marks 70–79: Grade `C`\n",
    "   - Marks 60–69: Grade `D`\n",
    "   - Marks < 60: Grade `F`\n",
    "\n",
    "   **Example Input/Output**:  \n",
    "   Input: `85`  \n",
    "   Output: `\"Your grade is B\"`\n",
    "\n",
    "---\n",
    "\n",
    "2. **Task 2: Temperature Categories**  \n",
    "   Write a program that categorizes a temperature input by the user:\n",
    "   - Temperature ≥ 30: `\"It's hot!\"`\n",
    "   - Temperature between 20 and 29: `\"It's warm.\"`\n",
    "   - Temperature between 10 and 19: `\"It's cool.\"`\n",
    "   - Temperature < 10: `\"It's cold!\"`\n",
    "\n",
    "   **Example Input/Output**:  \n",
    "   Input: `15`  \n",
    "   Output: `\"It's cool.\"`\n",
    "\n",
    "---\n",
    "\n",
    "3. **Task 3: Leap Year Checker**  \n",
    "   Write a program to check if a given year is a leap year.  \n",
    "   - A year is a leap year if:\n",
    "     - It is divisible by 4 but **not divisible by 100**, OR  \n",
    "     - It is divisible by 400.  \n",
    "   If it's a leap year, print `\"Leap Year\"`. Otherwise, print `\"Not a Leap Year\"`.\n",
    "\n",
    "   **Example Input/Output**:  \n",
    "   Input: `2024`  \n",
    "   Output: `\"Leap Year\"`\n",
    "\n",
    "---\n",
    "\n",
    "4. **Task 4: Number Classification**  \n",
    "   Write a program to classify a number as:\n",
    "   - Positive Even\n",
    "   - Positive Odd\n",
    "   - Negative Even\n",
    "   - Negative Odd\n",
    "   - Zero\n",
    "\n",
    "   **Example Input/Output**:  \n",
    "   Input: `-3`  \n",
    "   Output: `\"Negative Odd\"`\n",
    "\n",
    "---\n",
    "\n",
    "5. **Task 5: Password Strength Checker**  \n",
    "   Write a program to check the strength of a password entered by the user based on the following rules:\n",
    "   - If the password is less than 6 characters, print: `\"Weak password\"`\n",
    "   - If the password is 6–10 characters, print: `\"Moderate password\"`\n",
    "   - If the password is more than 10 characters, print: `\"Strong password\"`\n",
    "\n",
    "   **Example Input/Output**:  \n",
    "   Input: `abc1234`  \n",
    "   Output: `\"Moderate password\"`\n",
    "\n",
    "---\n",
    "\n",
    "6. **Task 6: Electricity Bill Calculator**  \n",
    "   Write a program to calculate the electricity bill based on units consumed:\n",
    "   - Units ≤ 100: `₹5/unit`\n",
    "   - Units 101–300: `₹7/unit`\n",
    "   - Units > 300: `₹10/unit`\n",
    "\n",
    "   Ask the user to input the number of units and calculate the total bill.  \n",
    "\n",
    "   **Example Input/Output**:  \n",
    "   Input: `150`  \n",
    "   Output: `\"Total Bill: ₹1050\"`\n",
    "\n",
    "---\n",
    "\n",
    "#### **Submission Guidelines**\n",
    "1. Write separate Python programs for each task or organize them as functions in a single file.\n",
    "2. Include comments in your code explaining the logic for each step.\n",
    "3. Submit your work as a `.py` file or screenshots of your code.\n",
    "\n",
    "---\n",
    "\n",
    "Let me know if you'd like additional examples or help implementing any of these tasks! 😊"
   ]
  },
  {
   "cell_type": "code",
   "execution_count": null,
   "id": "9d03192e-c0ba-4120-88a7-a5ec57b97542",
   "metadata": {},
   "outputs": [],
   "source": [
    "if -else ladder\n",
    "when we have more than two condition"
   ]
  },
  {
   "cell_type": "code",
   "execution_count": null,
   "id": "eda37d17-a645-4e1a-ac2c-d9691531a350",
   "metadata": {},
   "outputs": [],
   "source": [
    "if condition-1:\n",
    "    block-1\n",
    "elif condition-2:\n",
    "    block-2\n",
    "elif condition-3:\n",
    "    block-3\n",
    "     |\n",
    "     |\n",
    "elif condition-n\n",
    "     block -n\n",
    "else:\n",
    "     default     "
   ]
  },
  {
   "cell_type": "code",
   "execution_count": null,
   "id": "d973a0ac-2fff-412d-8195-f2cc2f54f329",
   "metadata": {},
   "outputs": [],
   "source": [
    "1 block --> condition -- True\n",
    "else : defualt\n",
    "same condition --> execute -- 1st block"
   ]
  },
  {
   "cell_type": "code",
   "execution_count": null,
   "id": "5f6ddb66-1f68-463f-b9b6-25cfefd868de",
   "metadata": {},
   "outputs": [],
   "source": [
    "6. **Task 6: Electricity Bill Calculator**  \n",
    "   Write a program to calculate the electricity bill based on units consumed:\n",
    "   - Units ≤ 100: `₹5/unit`\n",
    "   - Units 101–300: `₹7/unit`\n",
    "   - Units > 300: `₹10/unit`\n"
   ]
  },
  {
   "cell_type": "code",
   "execution_count": 39,
   "id": "0080ea98-8520-466e-b4fe-0d56f837ac61",
   "metadata": {},
   "outputs": [
    {
     "name": "stdin",
     "output_type": "stream",
     "text": [
      "Enter the units: -400\n"
     ]
    },
    {
     "name": "stdout",
     "output_type": "stream",
     "text": [
      "invalid unit\n"
     ]
    }
   ],
   "source": [
    "units = int(input(\"Enter the units:\"))\n",
    "if units<=100 and units>0:\n",
    "    un = units*5\n",
    "    print(\"Total Bill:\",un)\n",
    "elif units>100 and units<=300:\n",
    "    un = units*7\n",
    "    print(\"Total Bill:\",un)\n",
    "elif units>300:\n",
    "    un = units*10\n",
    "    print(\"Total Bill:\",un)\n",
    "else:\n",
    "    print(\"invalid unit\")"
   ]
  },
  {
   "cell_type": "code",
   "execution_count": null,
   "id": "cdcfab4e-dbf6-454a-af0c-51bdad32d495",
   "metadata": {},
   "outputs": [],
   "source": []
  }
 ],
 "metadata": {
  "kernelspec": {
   "display_name": "Python 3 (ipykernel)",
   "language": "python",
   "name": "python3"
  },
  "language_info": {
   "codemirror_mode": {
    "name": "ipython",
    "version": 3
   },
   "file_extension": ".py",
   "mimetype": "text/x-python",
   "name": "python",
   "nbconvert_exporter": "python",
   "pygments_lexer": "ipython3",
   "version": "3.12.7"
  }
 },
 "nbformat": 4,
 "nbformat_minor": 5
}
