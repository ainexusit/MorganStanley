{
 "cells": [
  {
   "cell_type": "code",
   "execution_count": null,
   "id": "fae812df-7a80-4f6b-a137-87c46f966763",
   "metadata": {},
   "outputs": [],
   "source": [
    "function:"
   ]
  },
  {
   "cell_type": "code",
   "execution_count": null,
   "id": "c6909828-4261-4a5a-8515-82849495278a",
   "metadata": {},
   "outputs": [],
   "source": [
    "x = int(input(\"Enter the number:\"))\n",
    "y = int(input(\"Enter the number:\"))\n",
    "z = x+y\n",
    "print(z)\n",
    "doskfndosjafnosdnfiodnfdsfdsfd\n",
    "fdsfdsifjbdsifbdsiufbdsaiufsdfdsf\n",
    "dsfdsfodsdbsfbdfsfbioudsffbodsfodsf\n",
    "dfdsfdsfdsflkjdsffbidsbdfuidsbfiusdbfiu\n",
    "x = int(input(\"Enter the number:\"))\n",
    "y = int(input(\"Enter the number:\"))\n",
    "z = x+y\n",
    "print(z)\n",
    "ds;lkfmsdoifnsdoifndsoifndiofndsoinfdosfdsf\n",
    "dsf\n",
    "dsf\n",
    "ds\n",
    "\n",
    "fds\n",
    "fdsfdsfdksnfoidnsfondsofdsf\n",
    "ds\n",
    "dfssf"
   ]
  },
  {
   "cell_type": "code",
   "execution_count": null,
   "id": "9de77b85-2168-48a7-95a2-647cf6c91ac1",
   "metadata": {},
   "outputs": [],
   "source": [
    "1.Code duplication\n",
    "2.lines of code --> time / space complexity\n",
    "3.security issue\n",
    "4.diffucult to debug\n",
    "5.zero code management\n",
    "6.no code reusablity\n"
   ]
  },
  {
   "cell_type": "code",
   "execution_count": null,
   "id": "73a54bd2-48ca-4cdd-aabd-dee8e1c8a475",
   "metadata": {},
   "outputs": [],
   "source": [
    "function :\n",
    "\n",
    "it is block of code which perform given task"
   ]
  },
  {
   "cell_type": "code",
   "execution_count": null,
   "id": "f32a1cb4-e078-4579-843c-e5db35aedefa",
   "metadata": {},
   "outputs": [],
   "source": [
    "list to while loop -->< function"
   ]
  },
  {
   "cell_type": "code",
   "execution_count": null,
   "id": "cc3ec73e-1b0e-457d-accc-c1eaf288554c",
   "metadata": {},
   "outputs": [],
   "source": [
    "def function_name(arguments/parameters): #formal arguments\n",
    "    block of code\n",
    "    return value"
   ]
  },
  {
   "cell_type": "code",
   "execution_count": null,
   "id": "4dcdbc57-16f5-400d-a581-2fbfda33e921",
   "metadata": {},
   "outputs": [],
   "source": [
    "function_name(argguments/parameters)"
   ]
  },
  {
   "cell_type": "code",
   "execution_count": 1,
   "id": "a4ff709a-856c-4f2c-93dc-3f23422df3c8",
   "metadata": {},
   "outputs": [],
   "source": [
    "def add():\n",
    "    x = int(input(\"Enter the number:\"))\n",
    "    y = int(input(\"Enter the number:\"))\n",
    "    z = x+y\n",
    "    print(z)"
   ]
  },
  {
   "cell_type": "code",
   "execution_count": 2,
   "id": "d2f78030-6e1a-4465-8af8-92e1c872f871",
   "metadata": {},
   "outputs": [
    {
     "name": "stdin",
     "output_type": "stream",
     "text": [
      "Enter the number: 45\n",
      "Enter the number: 67\n"
     ]
    },
    {
     "name": "stdout",
     "output_type": "stream",
     "text": [
      "112\n"
     ]
    }
   ],
   "source": [
    "add()"
   ]
  },
  {
   "cell_type": "code",
   "execution_count": 3,
   "id": "e445ff4f-6c18-4e4b-b0d3-7a696cadb675",
   "metadata": {},
   "outputs": [
    {
     "name": "stdin",
     "output_type": "stream",
     "text": [
      "Enter the number: 90\n",
      "Enter the number: 10\n"
     ]
    },
    {
     "name": "stdout",
     "output_type": "stream",
     "text": [
      "100\n"
     ]
    }
   ],
   "source": [
    "add()"
   ]
  },
  {
   "cell_type": "code",
   "execution_count": 6,
   "id": "85e877da-c7d1-4f00-a934-32c89285123f",
   "metadata": {},
   "outputs": [],
   "source": [
    "def add(x,y): #formal arguments\n",
    "    z = x+y\n",
    "    print(z)"
   ]
  },
  {
   "cell_type": "code",
   "execution_count": 7,
   "id": "c6bf5910-803e-480b-b6a5-5227e67a1069",
   "metadata": {},
   "outputs": [
    {
     "name": "stdout",
     "output_type": "stream",
     "text": [
      "500\n"
     ]
    }
   ],
   "source": [
    "add(100,400) # actual arguments"
   ]
  },
  {
   "cell_type": "code",
   "execution_count": 9,
   "id": "3a64fd12-daae-4045-8887-2635b11084ab",
   "metadata": {},
   "outputs": [
    {
     "name": "stdout",
     "output_type": "stream",
     "text": [
      "900\n"
     ]
    }
   ],
   "source": [
    "add(300,600)"
   ]
  },
  {
   "cell_type": "code",
   "execution_count": 8,
   "id": "d5631eff-81c6-4051-b4b1-a16de2105b93",
   "metadata": {},
   "outputs": [
    {
     "name": "stdout",
     "output_type": "stream",
     "text": [
      "70\n"
     ]
    }
   ],
   "source": [
    "add(40,30)"
   ]
  },
  {
   "cell_type": "code",
   "execution_count": 5,
   "id": "5b2dc4cd-f2ff-490b-a852-cfd2128d7858",
   "metadata": {},
   "outputs": [
    {
     "name": "stdin",
     "output_type": "stream",
     "text": [
      "Enter the number: 200\n",
      "Enter the number: 400\n"
     ]
    },
    {
     "name": "stdout",
     "output_type": "stream",
     "text": [
      "600\n"
     ]
    }
   ],
   "source": [
    "add()"
   ]
  },
  {
   "cell_type": "code",
   "execution_count": null,
   "id": "74585cd9-ee86-4d0b-a56a-5369ad2306e3",
   "metadata": {},
   "outputs": [],
   "source": []
  },
  {
   "cell_type": "code",
   "execution_count": 18,
   "id": "f4c6ef08-b449-4746-a2f5-5d6309fa4981",
   "metadata": {},
   "outputs": [],
   "source": [
    "def add(x,y): #formal arguments\n",
    "    z = x+y\n",
    "    return z"
   ]
  },
  {
   "cell_type": "code",
   "execution_count": 19,
   "id": "28b6d587-e7e6-4616-9eb0-7098875ed27a",
   "metadata": {},
   "outputs": [],
   "source": [
    "result  = add(30,60)"
   ]
  },
  {
   "cell_type": "code",
   "execution_count": 20,
   "id": "c821cfc5-a79d-47fb-89d3-4630d1168b63",
   "metadata": {},
   "outputs": [
    {
     "name": "stdout",
     "output_type": "stream",
     "text": [
      "90\n"
     ]
    }
   ],
   "source": [
    "print(result)"
   ]
  },
  {
   "cell_type": "code",
   "execution_count": 21,
   "id": "c1e42c2c-0016-47ee-a288-314d2ce4df1f",
   "metadata": {},
   "outputs": [],
   "source": [
    "temp = add(100,500)"
   ]
  },
  {
   "cell_type": "code",
   "execution_count": 22,
   "id": "7d37c4b7-c632-4ad5-bda7-7c1f3069dd27",
   "metadata": {},
   "outputs": [
    {
     "data": {
      "text/plain": [
       "600"
      ]
     },
     "execution_count": 22,
     "metadata": {},
     "output_type": "execute_result"
    }
   ],
   "source": [
    "temp"
   ]
  },
  {
   "cell_type": "code",
   "execution_count": 23,
   "id": "f6c2de25-bf50-49a4-b20d-b0ec79eda47e",
   "metadata": {},
   "outputs": [
    {
     "data": {
      "text/plain": [
       "15"
      ]
     },
     "execution_count": 23,
     "metadata": {},
     "output_type": "execute_result"
    }
   ],
   "source": []
  },
  {
   "cell_type": "code",
   "execution_count": 24,
   "id": "6a822b01-5d82-4ad7-8e2e-804bc2b85d73",
   "metadata": {},
   "outputs": [],
   "source": [
    "def add(x,y):\n",
    "    z = x+y\n",
    "    return z\n",
    "def sub(x,y):\n",
    "    z = x-y\n",
    "    return z\n",
    "def mult(x,y):\n",
    "    z = x*y\n",
    "    return z\n",
    "def div(x,y):\n",
    "    z = x/y\n",
    "    return z\n",
    "    "
   ]
  },
  {
   "cell_type": "code",
   "execution_count": 25,
   "id": "d370ef7d-d107-4915-a0c3-b117e716e7b7",
   "metadata": {},
   "outputs": [
    {
     "name": "stdin",
     "output_type": "stream",
     "text": [
      "Enter the number: 4\n",
      "Enter the number: 7\n"
     ]
    },
    {
     "name": "stdout",
     "output_type": "stream",
     "text": [
      "11\n",
      "-3\n",
      "28\n",
      "0.5714285714285714\n"
     ]
    }
   ],
   "source": [
    "a = int(input(\"Enter the number:\"))\n",
    "b = int(input(\"Enter the number:\"))\n",
    "add_result = add(a,b)\n",
    "sub_result = sub(a,b)\n",
    "mult_result = mult(a,b)\n",
    "div_result = div(a,b)\n",
    "print(add_result)\n",
    "print(sub_result)\n",
    "print(mult_result)\n",
    "print(div_result)\n"
   ]
  },
  {
   "cell_type": "code",
   "execution_count": null,
   "id": "21524e54-3b8c-42cd-b041-e91d2cef5990",
   "metadata": {},
   "outputs": [],
   "source": [
    "print vs return "
   ]
  },
  {
   "cell_type": "code",
   "execution_count": null,
   "id": "6aad1563-c809-4679-b879-764cc9905ee6",
   "metadata": {},
   "outputs": [],
   "source": [
    "three subject marks --> per -->grade calculation"
   ]
  },
  {
   "cell_type": "code",
   "execution_count": 36,
   "id": "f6ca130a-42da-45e7-add3-509a429870be",
   "metadata": {},
   "outputs": [
    {
     "name": "stdin",
     "output_type": "stream",
     "text": [
      "Enter the sub1 marks: 77\n",
      "Enter the sub2 marks: 90\n",
      "Enter the sub3 marks: 990\n"
     ]
    },
    {
     "name": "stdout",
     "output_type": "stream",
     "text": [
      "****************************************************************************************************\n",
      "Subjects Marks are: 77 90 990\n",
      "percentage : 385.66666666666663\n",
      "Grade: invalid per\n"
     ]
    }
   ],
   "source": [
    "def take_sub_makrs():\n",
    "    s1 = int(input(\"Enter the sub1 marks:\"))\n",
    "    s2 = int(input(\"Enter the sub2 marks:\"))\n",
    "    s3 = int(input(\"Enter the sub3 marks:\"))    \n",
    "    return s1,s2,s3\n",
    "def per_cal(s11,s22,s33):\n",
    "    per = ((s11+s22+s33)/300)*100\n",
    "    return per\n",
    "def grade_cal(pcal):\n",
    "    if pcal>0 and pcal<40:\n",
    "        return \"Failed\"\n",
    "    elif pcal>=40 and pcal <=60:\n",
    "        return \"B\"\n",
    "    elif pcal>60 and pcal<=75:\n",
    "        return \"A\"\n",
    "    elif pcal>75 and pcal<=100:\n",
    "        return \"Outstanding\"\n",
    "    else:\n",
    "        return \"invalid per\"\n",
    "    \n",
    "def main():\n",
    "    sub1,sub2,sub3 = take_sub_makrs()\n",
    "    percal = per_cal(sub1,sub2,sub3)\n",
    "    grd = grade_cal(percal)\n",
    "    print(\"*\"*100)\n",
    "    print(\"Subjects Marks are:\",sub1,sub2,sub3)\n",
    "    print(\"percentage :\",percal)\n",
    "    print(\"Grade:\",grd) \n",
    "    \n",
    "if __name__=='__main__':\n",
    "    main()"
   ]
  },
  {
   "cell_type": "code",
   "execution_count": null,
   "id": "286fc8d0-8f1c-4c56-af85-536e091af4be",
   "metadata": {},
   "outputs": [],
   "source": [
    "c/c++/Java -- main by defualt --> executiuon"
   ]
  },
  {
   "cell_type": "code",
   "execution_count": null,
   "id": "90ee20d2-535b-453d-9829-db981d0cad5f",
   "metadata": {},
   "outputs": [],
   "source": [
    "no defualt main function in Python"
   ]
  },
  {
   "cell_type": "code",
   "execution_count": 32,
   "id": "f2e0e748-9b5a-40ee-a59c-bde15abde68e",
   "metadata": {},
   "outputs": [
    {
     "data": {
      "text/plain": [
       "True"
      ]
     },
     "execution_count": 32,
     "metadata": {},
     "output_type": "execute_result"
    }
   ],
   "source": [
    "__name__ == '__main__'"
   ]
  },
  {
   "cell_type": "code",
   "execution_count": 33,
   "id": "3d70905e-ca52-4c55-8192-807b29b9108c",
   "metadata": {},
   "outputs": [
    {
     "name": "stdout",
     "output_type": "stream",
     "text": [
      "Hello\n"
     ]
    }
   ],
   "source": [
    "if __name__=='__main__':\n",
    "    main()"
   ]
  },
  {
   "cell_type": "code",
   "execution_count": null,
   "id": "5aca654d-eeb2-4bbb-9255-09c41e38a453",
   "metadata": {},
   "outputs": [],
   "source": [
    "Assigment : function\n"
   ]
  }
 ],
 "metadata": {
  "kernelspec": {
   "display_name": "Python 3 (ipykernel)",
   "language": "python",
   "name": "python3"
  },
  "language_info": {
   "codemirror_mode": {
    "name": "ipython",
    "version": 3
   },
   "file_extension": ".py",
   "mimetype": "text/x-python",
   "name": "python",
   "nbconvert_exporter": "python",
   "pygments_lexer": "ipython3",
   "version": "3.12.7"
  }
 },
 "nbformat": 4,
 "nbformat_minor": 5
}
