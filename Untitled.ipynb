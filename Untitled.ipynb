{
 "cells": [
  {
   "cell_type": "code",
   "execution_count": 1,
   "id": "6379ce91-c9d4-4fa5-ae88-38df7e69fb19",
   "metadata": {},
   "outputs": [],
   "source": [
    "p = [45,65,34,65,34,65,434,]"
   ]
  },
  {
   "cell_type": "code",
   "execution_count": 2,
   "id": "938d8110-0870-437e-a613-1cb1ae239f26",
   "metadata": {},
   "outputs": [
    {
     "data": {
      "text/plain": [
       "[45, 65, 34, 65, 34, 65, 434]"
      ]
     },
     "execution_count": 2,
     "metadata": {},
     "output_type": "execute_result"
    }
   ],
   "source": [
    "p"
   ]
  },
  {
   "cell_type": "code",
   "execution_count": 3,
   "id": "791fa351-7f23-4a4a-8d15-88054656ad85",
   "metadata": {},
   "outputs": [
    {
     "data": {
      "text/plain": [
       "list"
      ]
     },
     "execution_count": 3,
     "metadata": {},
     "output_type": "execute_result"
    }
   ],
   "source": [
    "type(p)"
   ]
  },
  {
   "cell_type": "code",
   "execution_count": 4,
   "id": "87e19a3f-4b22-4c79-9140-6768234243c4",
   "metadata": {},
   "outputs": [
    {
     "data": {
      "text/plain": [
       "7"
      ]
     },
     "execution_count": 4,
     "metadata": {},
     "output_type": "execute_result"
    }
   ],
   "source": [
    "len(p)"
   ]
  },
  {
   "cell_type": "code",
   "execution_count": null,
   "id": "eb8763fe-13c1-44d3-8357-cc79e23255b7",
   "metadata": {},
   "outputs": [],
   "source": [
    "insertion:\n",
    "1.insert\n",
    "2.append\n",
    "3.extend"
   ]
  },
  {
   "cell_type": "code",
   "execution_count": 5,
   "id": "2de8b14e-f099-43a2-abb8-e38f21d02898",
   "metadata": {},
   "outputs": [
    {
     "data": {
      "text/plain": [
       "[45, 65, 34, 65, 34, 65, 434]"
      ]
     },
     "execution_count": 5,
     "metadata": {},
     "output_type": "execute_result"
    }
   ],
   "source": [
    "p"
   ]
  },
  {
   "cell_type": "code",
   "execution_count": 6,
   "id": "f7573b03-304e-4a78-9eb1-5173b81c14b7",
   "metadata": {},
   "outputs": [],
   "source": [
    "p.insert(2,'python')"
   ]
  },
  {
   "cell_type": "code",
   "execution_count": 8,
   "id": "635a733c-c7bb-4752-8a89-a72e70f96ce3",
   "metadata": {},
   "outputs": [
    {
     "data": {
      "text/plain": [
       "[45, 65, 'python', 34, 65, 34, 65, 434]"
      ]
     },
     "execution_count": 8,
     "metadata": {},
     "output_type": "execute_result"
    }
   ],
   "source": [
    "p"
   ]
  },
  {
   "cell_type": "code",
   "execution_count": 9,
   "id": "51946e8d-7531-4f3a-ac59-a83ea355b327",
   "metadata": {},
   "outputs": [],
   "source": [
    "p.insert(2,[1,2,3])"
   ]
  },
  {
   "cell_type": "code",
   "execution_count": 10,
   "id": "12440fc4-a4df-4e62-a8d2-b6b77692ac2a",
   "metadata": {},
   "outputs": [
    {
     "data": {
      "text/plain": [
       "[45, 65, [1, 2, 3], 'python', 34, 65, 34, 65, 434]"
      ]
     },
     "execution_count": 10,
     "metadata": {},
     "output_type": "execute_result"
    }
   ],
   "source": [
    "p"
   ]
  },
  {
   "cell_type": "code",
   "execution_count": 11,
   "id": "00817612-79c9-4014-8c02-407f02920903",
   "metadata": {},
   "outputs": [],
   "source": [
    "p.append(400)"
   ]
  },
  {
   "cell_type": "code",
   "execution_count": 12,
   "id": "2eb2bd90-512a-40d5-8ff2-90e0523d9b94",
   "metadata": {},
   "outputs": [
    {
     "data": {
      "text/plain": [
       "[45, 65, [1, 2, 3], 'python', 34, 65, 34, 65, 434, 400]"
      ]
     },
     "execution_count": 12,
     "metadata": {},
     "output_type": "execute_result"
    }
   ],
   "source": [
    "p"
   ]
  },
  {
   "cell_type": "code",
   "execution_count": 13,
   "id": "2cb10d12-38b8-448d-9a1a-0ea3fc514900",
   "metadata": {},
   "outputs": [],
   "source": [
    "p.extend([1,2,3])"
   ]
  },
  {
   "cell_type": "code",
   "execution_count": 14,
   "id": "4d891c02-92cc-4d17-9012-0fa2832cf6df",
   "metadata": {},
   "outputs": [
    {
     "data": {
      "text/plain": [
       "[45, 65, [1, 2, 3], 'python', 34, 65, 34, 65, 434, 400, 1, 2, 3]"
      ]
     },
     "execution_count": 14,
     "metadata": {},
     "output_type": "execute_result"
    }
   ],
   "source": [
    "p"
   ]
  },
  {
   "cell_type": "code",
   "execution_count": 16,
   "id": "b98d9df9-6481-4fc3-86ba-9f8cc77b9de6",
   "metadata": {},
   "outputs": [],
   "source": [
    "p = [1,1,1,1,54,1,[1,1,1,1]]"
   ]
  },
  {
   "cell_type": "code",
   "execution_count": 17,
   "id": "6d092815-6a66-4552-9af7-4d30f93280c4",
   "metadata": {},
   "outputs": [
    {
     "data": {
      "text/plain": [
       "5"
      ]
     },
     "execution_count": 17,
     "metadata": {},
     "output_type": "execute_result"
    }
   ],
   "source": [
    "p.count(1)"
   ]
  },
  {
   "cell_type": "code",
   "execution_count": null,
   "id": "bf56b84e-46c5-4b3a-bd45-143212de58af",
   "metadata": {},
   "outputs": [],
   "source": [
    "deletion:\n",
    "remove\n",
    "pop\n",
    "clear"
   ]
  },
  {
   "cell_type": "code",
   "execution_count": 19,
   "id": "36477c4b-14a2-4735-80fa-3a04581d7053",
   "metadata": {},
   "outputs": [],
   "source": [
    "p.remove(1)"
   ]
  },
  {
   "cell_type": "code",
   "execution_count": 20,
   "id": "d47d9005-28ef-481f-a281-c3f85537f2b1",
   "metadata": {},
   "outputs": [
    {
     "data": {
      "text/plain": [
       "[1, 1, 1, 54, 1, [1, 1, 1, 1]]"
      ]
     },
     "execution_count": 20,
     "metadata": {},
     "output_type": "execute_result"
    }
   ],
   "source": [
    "p"
   ]
  },
  {
   "cell_type": "code",
   "execution_count": 21,
   "id": "f719dde9-67a9-4d58-8bdc-0672124f69e5",
   "metadata": {},
   "outputs": [],
   "source": [
    "p.remove(1)"
   ]
  },
  {
   "cell_type": "code",
   "execution_count": 22,
   "id": "274a9017-062b-4c72-82a0-b22e074923dd",
   "metadata": {},
   "outputs": [
    {
     "data": {
      "text/plain": [
       "[1, 1, 54, 1, [1, 1, 1, 1]]"
      ]
     },
     "execution_count": 22,
     "metadata": {},
     "output_type": "execute_result"
    }
   ],
   "source": [
    "p"
   ]
  },
  {
   "cell_type": "code",
   "execution_count": 23,
   "id": "ff75550d-b283-4636-8dcb-eb7cd913bc98",
   "metadata": {},
   "outputs": [
    {
     "ename": "ValueError",
     "evalue": "list.remove(x): x not in list",
     "output_type": "error",
     "traceback": [
      "\u001b[1;31m---------------------------------------------------------------------------\u001b[0m",
      "\u001b[1;31mValueError\u001b[0m                                Traceback (most recent call last)",
      "Cell \u001b[1;32mIn[23], line 1\u001b[0m\n\u001b[1;32m----> 1\u001b[0m p\u001b[38;5;241m.\u001b[39mremove(\u001b[38;5;124m'\u001b[39m\u001b[38;5;124mpython\u001b[39m\u001b[38;5;124m'\u001b[39m)\n",
      "\u001b[1;31mValueError\u001b[0m: list.remove(x): x not in list"
     ]
    }
   ],
   "source": [
    "p.remove('python')"
   ]
  },
  {
   "cell_type": "code",
   "execution_count": 24,
   "id": "03c6cc64-f107-435d-ae97-85621d4d69e1",
   "metadata": {},
   "outputs": [
    {
     "data": {
      "text/plain": [
       "[1, 1, 54, 1, [1, 1, 1, 1]]"
      ]
     },
     "execution_count": 24,
     "metadata": {},
     "output_type": "execute_result"
    }
   ],
   "source": [
    "p"
   ]
  },
  {
   "cell_type": "code",
   "execution_count": 25,
   "id": "e92e898b-5556-4c69-9f21-209d6ca3d904",
   "metadata": {},
   "outputs": [
    {
     "data": {
      "text/plain": [
       "54"
      ]
     },
     "execution_count": 25,
     "metadata": {},
     "output_type": "execute_result"
    }
   ],
   "source": [
    "p.pop(2)"
   ]
  },
  {
   "cell_type": "code",
   "execution_count": 26,
   "id": "2e2a0a07-d922-4d1c-9157-ef9bf74ced23",
   "metadata": {},
   "outputs": [
    {
     "data": {
      "text/plain": [
       "[1, 1, 1, [1, 1, 1, 1]]"
      ]
     },
     "execution_count": 26,
     "metadata": {},
     "output_type": "execute_result"
    }
   ],
   "source": [
    "p"
   ]
  },
  {
   "cell_type": "code",
   "execution_count": 27,
   "id": "9844a8b2-e520-4d6e-a515-845afa1692fb",
   "metadata": {},
   "outputs": [
    {
     "data": {
      "text/plain": [
       "[1, 1, 1, 1]"
      ]
     },
     "execution_count": 27,
     "metadata": {},
     "output_type": "execute_result"
    }
   ],
   "source": [
    "p.pop()"
   ]
  },
  {
   "cell_type": "code",
   "execution_count": 28,
   "id": "626fb1ea-5a56-4e90-9869-74941ae12172",
   "metadata": {},
   "outputs": [
    {
     "data": {
      "text/plain": [
       "[1, 1, 1]"
      ]
     },
     "execution_count": 28,
     "metadata": {},
     "output_type": "execute_result"
    }
   ],
   "source": [
    "p"
   ]
  },
  {
   "cell_type": "code",
   "execution_count": 29,
   "id": "fb6f8d91-77f6-495a-b0cc-66e9ca4f2a35",
   "metadata": {},
   "outputs": [],
   "source": [
    "p.clear()"
   ]
  },
  {
   "cell_type": "code",
   "execution_count": 30,
   "id": "dde3eec4-30a3-4b6d-8b5c-6df7d764da67",
   "metadata": {},
   "outputs": [
    {
     "data": {
      "text/plain": [
       "[]"
      ]
     },
     "execution_count": 30,
     "metadata": {},
     "output_type": "execute_result"
    }
   ],
   "source": [
    "p"
   ]
  },
  {
   "cell_type": "code",
   "execution_count": 31,
   "id": "66847dc1-274b-459f-bb8d-25f40a73122a",
   "metadata": {},
   "outputs": [],
   "source": [
    "p = [45,23,56,4534,6545,34]"
   ]
  },
  {
   "cell_type": "code",
   "execution_count": 32,
   "id": "acb22c23-8f6e-47bb-a0ba-dbf5a843b3b8",
   "metadata": {},
   "outputs": [],
   "source": [
    "p[1]=100"
   ]
  },
  {
   "cell_type": "code",
   "execution_count": 33,
   "id": "ef26eb2d-0187-43a0-ad83-85e97391334d",
   "metadata": {},
   "outputs": [
    {
     "data": {
      "text/plain": [
       "[45, 100, 56, 4534, 6545, 34]"
      ]
     },
     "execution_count": 33,
     "metadata": {},
     "output_type": "execute_result"
    }
   ],
   "source": [
    "p"
   ]
  },
  {
   "cell_type": "code",
   "execution_count": 34,
   "id": "a63ed5a2-489d-480d-a436-067797d0954d",
   "metadata": {},
   "outputs": [],
   "source": [
    "p.sort()"
   ]
  },
  {
   "cell_type": "code",
   "execution_count": 35,
   "id": "ddcfb293-11f0-4bb0-aba2-7127b3f0ea70",
   "metadata": {},
   "outputs": [
    {
     "data": {
      "text/plain": [
       "[34, 45, 56, 100, 4534, 6545]"
      ]
     },
     "execution_count": 35,
     "metadata": {},
     "output_type": "execute_result"
    }
   ],
   "source": [
    "p"
   ]
  },
  {
   "cell_type": "code",
   "execution_count": 36,
   "id": "462de403-7751-4dff-907d-009948d2a3a2",
   "metadata": {},
   "outputs": [],
   "source": [
    "p1 = [34, 45, 56, 100, 4534, 6545,'python']"
   ]
  },
  {
   "cell_type": "code",
   "execution_count": 37,
   "id": "36e14eec-d906-4f7f-be4f-c589d49cf8f5",
   "metadata": {},
   "outputs": [
    {
     "ename": "TypeError",
     "evalue": "'<' not supported between instances of 'str' and 'int'",
     "output_type": "error",
     "traceback": [
      "\u001b[1;31m---------------------------------------------------------------------------\u001b[0m",
      "\u001b[1;31mTypeError\u001b[0m                                 Traceback (most recent call last)",
      "Cell \u001b[1;32mIn[37], line 1\u001b[0m\n\u001b[1;32m----> 1\u001b[0m p1\u001b[38;5;241m.\u001b[39msort()\n",
      "\u001b[1;31mTypeError\u001b[0m: '<' not supported between instances of 'str' and 'int'"
     ]
    }
   ],
   "source": [
    "p1.sort()"
   ]
  },
  {
   "cell_type": "code",
   "execution_count": 44,
   "id": "2cea6743-b0ec-4432-9929-2d00e076c6bc",
   "metadata": {},
   "outputs": [],
   "source": [
    "p = ['1','500','4','300','11111']"
   ]
  },
  {
   "cell_type": "code",
   "execution_count": 45,
   "id": "84c53a40-994d-4e36-8727-67f5adc47d5b",
   "metadata": {},
   "outputs": [],
   "source": [
    "p.sort()"
   ]
  },
  {
   "cell_type": "code",
   "execution_count": 46,
   "id": "83b67db9-9dea-4636-b727-9b979cdc78f1",
   "metadata": {},
   "outputs": [
    {
     "data": {
      "text/plain": [
       "['1', '11111', '300', '4', '500']"
      ]
     },
     "execution_count": 46,
     "metadata": {},
     "output_type": "execute_result"
    }
   ],
   "source": [
    "p"
   ]
  },
  {
   "cell_type": "code",
   "execution_count": 51,
   "id": "76487df1-d1c2-46c7-817d-d446e418ece8",
   "metadata": {},
   "outputs": [],
   "source": [
    "p = ['python','100','300','500','-100']"
   ]
  },
  {
   "cell_type": "code",
   "execution_count": 54,
   "id": "9a69fae3-dbd7-4a0f-b4cb-0472f6662eb3",
   "metadata": {},
   "outputs": [],
   "source": [
    "p.sort(reverse=True)"
   ]
  },
  {
   "cell_type": "code",
   "execution_count": 55,
   "id": "fd66ef6b-13d1-4998-a845-ccb8f1e673cc",
   "metadata": {},
   "outputs": [
    {
     "data": {
      "text/plain": [
       "['python', '500', '300', '100', '-100']"
      ]
     },
     "execution_count": 55,
     "metadata": {},
     "output_type": "execute_result"
    }
   ],
   "source": [
    "p"
   ]
  },
  {
   "cell_type": "code",
   "execution_count": 56,
   "id": "72c4e717-6c3c-474a-9104-f8e1165fd553",
   "metadata": {},
   "outputs": [
    {
     "data": {
      "text/plain": [
       "['python', '500', '300', '100', '-100']"
      ]
     },
     "execution_count": 56,
     "metadata": {},
     "output_type": "execute_result"
    }
   ],
   "source": [
    "p"
   ]
  },
  {
   "cell_type": "code",
   "execution_count": 57,
   "id": "8ee47b04-cdb6-4610-b9a6-49990e4ed29d",
   "metadata": {},
   "outputs": [],
   "source": [
    "p = [65,34,6,53,456,4,'test']"
   ]
  },
  {
   "cell_type": "code",
   "execution_count": 58,
   "id": "76c001cd-8987-41a9-9b43-3776178816d0",
   "metadata": {},
   "outputs": [],
   "source": [
    "p.reverse()"
   ]
  },
  {
   "cell_type": "code",
   "execution_count": 59,
   "id": "eb65f36f-6cbb-40ed-888f-85e843ee83f3",
   "metadata": {},
   "outputs": [
    {
     "data": {
      "text/plain": [
       "['test', 4, 456, 53, 6, 34, 65]"
      ]
     },
     "execution_count": 59,
     "metadata": {},
     "output_type": "execute_result"
    }
   ],
   "source": [
    "p"
   ]
  },
  {
   "cell_type": "code",
   "execution_count": null,
   "id": "4196b397-9b36-4ee7-9563-6aa92aa6ba40",
   "metadata": {},
   "outputs": [],
   "source": []
  }
 ],
 "metadata": {
  "kernelspec": {
   "display_name": "Python 3 (ipykernel)",
   "language": "python",
   "name": "python3"
  },
  "language_info": {
   "codemirror_mode": {
    "name": "ipython",
    "version": 3
   },
   "file_extension": ".py",
   "mimetype": "text/x-python",
   "name": "python",
   "nbconvert_exporter": "python",
   "pygments_lexer": "ipython3",
   "version": "3.12.7"
  }
 },
 "nbformat": 4,
 "nbformat_minor": 5
}
