{
 "cells": [
  {
   "cell_type": "code",
   "execution_count": null,
   "id": "8d4f8b45-6c3d-47d4-91ab-432038d7f2ee",
   "metadata": {},
   "outputs": [],
   "source": [
    "1.Number is Amrstong or not\n",
    "2.'sdfsdfds564456445!@#$$%^%&*&'"
   ]
  },
  {
   "cell_type": "code",
   "execution_count": null,
   "id": "78fe2f55-4210-4fa4-a720-3730fa7775eb",
   "metadata": {},
   "outputs": [],
   "source": [
    "123 -- > 3\n",
    "\n",
    "1**3+2**3+3**3 ==  123 -- 123 -->"
   ]
  },
  {
   "cell_type": "code",
   "execution_count": null,
   "id": "45f74957-93a3-4fe6-9b51-f33621e9e777",
   "metadata": {},
   "outputs": [],
   "source": [
    "12345\n",
    "1**5"
   ]
  },
  {
   "cell_type": "code",
   "execution_count": 7,
   "id": "2d7d79eb-078b-4583-967e-64df4505d4a3",
   "metadata": {},
   "outputs": [
    {
     "name": "stdin",
     "output_type": "stream",
     "text": [
      "Enter the number: 407\n"
     ]
    },
    {
     "name": "stdout",
     "output_type": "stream",
     "text": [
      "Given number 407 is Amstrong number\n"
     ]
    }
   ],
   "source": [
    "num = input(\"Enter the number:\")\n",
    "power = len(num)\n",
    "total = 0\n",
    "for digit in num:\n",
    "    total = total+int(digit)**power\n",
    "\n",
    "if num == str(total):\n",
    "    print(\"Given number {} is Amstrong number\".format(num))\n",
    "else:\n",
    "    print(\"Given number {} is Not Amstrong number\".format(num))"
   ]
  },
  {
   "cell_type": "code",
   "execution_count": null,
   "id": "f3fa1267-20cc-429d-824d-992bb42b882e",
   "metadata": {},
   "outputs": [],
   "source": []
  },
  {
   "cell_type": "code",
   "execution_count": null,
   "id": "5a80a6d2-6d27-4f67-b4b1-a105d793a790",
   "metadata": {},
   "outputs": [],
   "source": []
  },
  {
   "cell_type": "code",
   "execution_count": 8,
   "id": "07c8ea92-16f2-4937-b0d7-f928b094a82c",
   "metadata": {},
   "outputs": [
    {
     "data": {
      "text/plain": [
       "407"
      ]
     },
     "execution_count": 8,
     "metadata": {},
     "output_type": "execute_result"
    }
   ],
   "source": [
    "#407\n",
    "\n",
    "4**3+0**3+7**3"
   ]
  },
  {
   "cell_type": "code",
   "execution_count": 9,
   "id": "dc4dab1b-a4e3-44f3-aefd-44d6cffc703d",
   "metadata": {},
   "outputs": [
    {
     "data": {
      "text/plain": [
       "12.3"
      ]
     },
     "execution_count": 9,
     "metadata": {},
     "output_type": "execute_result"
    }
   ],
   "source": [
    "123/10"
   ]
  },
  {
   "cell_type": "code",
   "execution_count": 10,
   "id": "889ae435-ef42-4c8c-aa33-1f4de205a48a",
   "metadata": {},
   "outputs": [
    {
     "data": {
      "text/plain": [
       "1.2"
      ]
     },
     "execution_count": 10,
     "metadata": {},
     "output_type": "execute_result"
    }
   ],
   "source": [
    "12/10"
   ]
  },
  {
   "cell_type": "code",
   "execution_count": 11,
   "id": "8b5d3227-6bce-4427-9318-df2f75558fc0",
   "metadata": {},
   "outputs": [
    {
     "data": {
      "text/plain": [
       "0.1"
      ]
     },
     "execution_count": 11,
     "metadata": {},
     "output_type": "execute_result"
    }
   ],
   "source": [
    "1/10"
   ]
  },
  {
   "cell_type": "code",
   "execution_count": 12,
   "id": "c25c2262-b6da-4e30-9e23-b93d0f5ad02f",
   "metadata": {},
   "outputs": [
    {
     "data": {
      "text/plain": [
       "3"
      ]
     },
     "execution_count": 12,
     "metadata": {},
     "output_type": "execute_result"
    }
   ],
   "source": [
    "123%10"
   ]
  },
  {
   "cell_type": "code",
   "execution_count": 13,
   "id": "ddf0ba6f-5b4b-4012-93e6-6a1d33f55937",
   "metadata": {},
   "outputs": [
    {
     "data": {
      "text/plain": [
       "2"
      ]
     },
     "execution_count": 13,
     "metadata": {},
     "output_type": "execute_result"
    }
   ],
   "source": [
    "12%10"
   ]
  },
  {
   "cell_type": "code",
   "execution_count": 14,
   "id": "e6d53bff-4366-4689-86d4-7381023fc353",
   "metadata": {},
   "outputs": [
    {
     "data": {
      "text/plain": [
       "1"
      ]
     },
     "execution_count": 14,
     "metadata": {},
     "output_type": "execute_result"
    }
   ],
   "source": [
    "1%10"
   ]
  },
  {
   "cell_type": "code",
   "execution_count": 28,
   "id": "380bb704-ae97-4a3c-b024-d0c6c1165b9a",
   "metadata": {},
   "outputs": [],
   "source": [
    "py_str = 'sdfsdfds564456445!@#$$%^%&*&'"
   ]
  },
  {
   "cell_type": "code",
   "execution_count": 25,
   "id": "7c35c30d-9fa5-42e0-b9d6-6886cd211edb",
   "metadata": {},
   "outputs": [],
   "source": [
    "temp = {\"char\":[],\"number\":[],\"special\":[]}"
   ]
  },
  {
   "cell_type": "code",
   "execution_count": 26,
   "id": "7f59e190-4376-4e3a-8b81-01988297b7bf",
   "metadata": {},
   "outputs": [
    {
     "name": "stdout",
     "output_type": "stream",
     "text": [
      "{'char': ['s', 'd', 'f', 's', 'd', 'f', 'd', 's'], 'number': ['5', '6', '4', '4', '5', '6', '4', '4', '5'], 'special': ['!', '@', '#', '$', '$', '%', '^', '%', '&', '*', '&']}\n"
     ]
    }
   ],
   "source": [
    "for value in py_str:\n",
    "    if value.isnumeric():\n",
    "        temp['number'].append(value)\n",
    "    elif value.isalpha():\n",
    "        temp['char'].append(value)\n",
    "    else:\n",
    "        temp['special'].append(value)\n",
    "print(temp)"
   ]
  },
  {
   "cell_type": "code",
   "execution_count": null,
   "id": "dc41d270-16c7-4304-bf48-f059370ff4f5",
   "metadata": {},
   "outputs": [],
   "source": []
  },
  {
   "cell_type": "code",
   "execution_count": 31,
   "id": "752b2820-a5cb-4a01-ab67-ae23eec65b84",
   "metadata": {},
   "outputs": [
    {
     "name": "stdout",
     "output_type": "stream",
     "text": [
      "{'char': {'s': 3, 'd': 3, 'f': 2}, 'num': {'5': 3, '6': 2, '4': 4}, 'special': {'!': 1, '@': 1, '#': 1, '$': 2, '%': 2, '^': 1, '&': 2, '*': 1}}\n"
     ]
    }
   ],
   "source": [
    "char = {}\n",
    "num = {}\n",
    "special = {}\n",
    "\n",
    "for key in py_str:\n",
    "    if key.isnumeric():\n",
    "        if key in num:\n",
    "            num[key]+=1\n",
    "        else:\n",
    "            num[key]=1            \n",
    "        \n",
    "    elif key.isalpha():\n",
    "        if key in char:\n",
    "            char[key]+=1\n",
    "        else:\n",
    "            char[key]=1  \n",
    "        \n",
    "    else:\n",
    "        if key in special:\n",
    "            special[key]+=1\n",
    "        else:\n",
    "            special[key]=1  \n",
    "\n",
    "temp = {'char':char,'num':num,'special':special}\n",
    "print(temp)"
   ]
  },
  {
   "cell_type": "code",
   "execution_count": null,
   "id": "c9bfa329-89e5-4a12-9358-efb8bc65ba21",
   "metadata": {},
   "outputs": [],
   "source": [
    "Assigment :\n",
    "\n",
    "Given number prime of not?\n",
    "break\n",
    "1  num --> check -- number is divisible or not"
   ]
  },
  {
   "cell_type": "code",
   "execution_count": null,
   "id": "c2d697bd-2e58-47b3-afa8-fc991d4c7983",
   "metadata": {},
   "outputs": [],
   "source": [
    "While loop"
   ]
  },
  {
   "cell_type": "code",
   "execution_count": null,
   "id": "9734b30e-3226-4b84-9169-6c1d1e359f4e",
   "metadata": {},
   "outputs": [],
   "source": [
    "Group of Values\n",
    "\n",
    "list ,tuple,set,dict ,str,frozenset"
   ]
  },
  {
   "cell_type": "code",
   "execution_count": null,
   "id": "59841d8f-f50b-41c2-b41d-4f51094f3301",
   "metadata": {},
   "outputs": [],
   "source": [
    "Condition -->records -->empty"
   ]
  },
  {
   "cell_type": "code",
   "execution_count": null,
   "id": "8fe1c781-4fe7-4705-ae25-7b888a1b5acd",
   "metadata": {},
   "outputs": [],
   "source": [
    "records --  10mil \n",
    "batches while"
   ]
  },
  {
   "cell_type": "code",
   "execution_count": null,
   "id": "268a3110-b975-4c2f-8a85-45ff44b6c228",
   "metadata": {},
   "outputs": [],
   "source": [
    "while condition:\n",
    "    block of code"
   ]
  },
  {
   "cell_type": "code",
   "execution_count": 32,
   "id": "9109c853-46fc-4ed4-8b2c-f9c6e9c6a327",
   "metadata": {},
   "outputs": [
    {
     "name": "stdout",
     "output_type": "stream",
     "text": [
      "1\n",
      "2\n",
      "3\n",
      "4\n",
      "5\n",
      "6\n",
      "7\n",
      "8\n",
      "9\n",
      "10\n"
     ]
    }
   ],
   "source": [
    "i =1\n",
    "while i<=10:\n",
    "    print(i)\n",
    "    i+=1"
   ]
  },
  {
   "cell_type": "code",
   "execution_count": null,
   "id": "1f964b86-d7a8-4a1e-bc37-00e108f73879",
   "metadata": {},
   "outputs": [],
   "source": [
    "while -- loop condition based loop"
   ]
  },
  {
   "cell_type": "code",
   "execution_count": null,
   "id": "12f24a6e-38f2-4c3f-a1e8-91b88e0aaafa",
   "metadata": {},
   "outputs": [],
   "source": [
    "File --> content \n",
    "\n",
    "\n",
    "file read line by line --> EOF"
   ]
  },
  {
   "cell_type": "code",
   "execution_count": null,
   "id": "7efd0b52-bde0-4c4c-ac6f-260d0b47e165",
   "metadata": {},
   "outputs": [],
   "source": [
    "for loop -- 99 %"
   ]
  },
  {
   "cell_type": "code",
   "execution_count": 36,
   "id": "599e46b7-3df3-4838-a5a0-e1855ccb362d",
   "metadata": {},
   "outputs": [
    {
     "name": "stdin",
     "output_type": "stream",
     "text": [
      "Enter the number: 65\n",
      "Enter the number: 34\n"
     ]
    },
    {
     "name": "stdout",
     "output_type": "stream",
     "text": [
      "Addition of 65 and 34 is 99\n"
     ]
    },
    {
     "name": "stdin",
     "output_type": "stream",
     "text": [
      "do you want to continue[yes|no]: yes\n",
      "Enter the number: 100\n",
      "Enter the number: 200\n"
     ]
    },
    {
     "name": "stdout",
     "output_type": "stream",
     "text": [
      "Addition of 100 and 200 is 300\n"
     ]
    },
    {
     "name": "stdin",
     "output_type": "stream",
     "text": [
      "do you want to continue[yes|no]: 50\n",
      "Enter the number: 30\n",
      "Enter the number: 34\n"
     ]
    },
    {
     "name": "stdout",
     "output_type": "stream",
     "text": [
      "Addition of 30 and 34 is 64\n"
     ]
    },
    {
     "name": "stdin",
     "output_type": "stream",
     "text": [
      "do you want to continue[yes|no]: no\n"
     ]
    },
    {
     "name": "stdout",
     "output_type": "stream",
     "text": [
      "Thanks for visiting\n"
     ]
    }
   ],
   "source": [
    "while True:\n",
    "    num1 = int(input(\"Enter the number:\"))\n",
    "    num2 = int(input(\"Enter the number:\"))\n",
    "    num3 = num1+num2\n",
    "    print(\"Addition of {} and {} is {}\".format(num1,num2,num3))\n",
    "    choice = input(\"do you want to continue[yes|no]:\")\n",
    "    if choice=='no':\n",
    "        print(\"Thanks for visiting\")\n",
    "        break"
   ]
  },
  {
   "cell_type": "code",
   "execution_count": 39,
   "id": "526ffabb-202e-4ff0-8983-a6b03df1da15",
   "metadata": {},
   "outputs": [
    {
     "name": "stdin",
     "output_type": "stream",
     "text": [
      "Enter the number: 66\n",
      "Enter the number: 44\n"
     ]
    },
    {
     "name": "stdout",
     "output_type": "stream",
     "text": [
      "Addition of 66 and 44 is 110\n"
     ]
    },
    {
     "name": "stdin",
     "output_type": "stream",
     "text": [
      "do you want to continue[yes|no]: NO\n"
     ]
    },
    {
     "name": "stdout",
     "output_type": "stream",
     "text": [
      "Thanks for visiting\n"
     ]
    }
   ],
   "source": [
    "flag = True\n",
    "while flag:\n",
    "    num1 = int(input(\"Enter the number:\"))\n",
    "    num2 = int(input(\"Enter the number:\"))\n",
    "    num3 = num1+num2\n",
    "    print(\"Addition of {} and {} is {}\".format(num1,num2,num3))\n",
    "    choice = input(\"do you want to continue[yes|no]:\")\n",
    "    if choice.lower()=='no':\n",
    "        print(\"Thanks for visiting\")\n",
    "        flag = False"
   ]
  },
  {
   "cell_type": "code",
   "execution_count": null,
   "id": "479a7c0e-5335-4235-a065-f7c902094f0d",
   "metadata": {},
   "outputs": [],
   "source": [
    "bugs :\n",
    "yes-- other values are also acceptable\n",
    "\n",
    "No ,nO ,NO"
   ]
  },
  {
   "cell_type": "code",
   "execution_count": 44,
   "id": "1bd6315b-ee42-41d5-b7c3-5119339d17b3",
   "metadata": {},
   "outputs": [],
   "source": [
    "batches = [[101,'keshav',656564],[102,'rahul',65656],[103,'ketan',4565456545]]"
   ]
  },
  {
   "cell_type": "code",
   "execution_count": 45,
   "id": "199c0070-3be1-4c68-836f-a750db510502",
   "metadata": {},
   "outputs": [
    {
     "name": "stdout",
     "output_type": "stream",
     "text": [
      "data store into Database: [103, 'ketan', 4565456545]\n",
      "data store into Database: [102, 'rahul', 65656]\n",
      "data store into Database: [101, 'keshav', 656564]\n",
      "Total number of batches done: 3\n"
     ]
    }
   ],
   "source": [
    "num_of_batches = 0\n",
    "while batches:    \n",
    "    batch = batches.pop()\n",
    "    print(\"data store into Database:\",batch)\n",
    "    num_of_batches+=1\n",
    "print(\"Total number of batches done:\",num_of_batches)"
   ]
  },
  {
   "cell_type": "code",
   "execution_count": null,
   "id": "bbacf7d2-03fa-430a-a079-2143634b27e8",
   "metadata": {},
   "outputs": [],
   "source": [
    "Function:\n"
   ]
  }
 ],
 "metadata": {
  "kernelspec": {
   "display_name": "Python 3 (ipykernel)",
   "language": "python",
   "name": "python3"
  },
  "language_info": {
   "codemirror_mode": {
    "name": "ipython",
    "version": 3
   },
   "file_extension": ".py",
   "mimetype": "text/x-python",
   "name": "python",
   "nbconvert_exporter": "python",
   "pygments_lexer": "ipython3",
   "version": "3.12.7"
  }
 },
 "nbformat": 4,
 "nbformat_minor": 5
}
