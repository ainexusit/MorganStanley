{
  "cells": [
    {
      "cell_type": "code",
      "execution_count": null,
      "metadata": {
        "id": "1TM0LoBrteF0"
      },
      "outputs": [],
      "source": [
        "#1\tWrite a simple pyhton programm without inbuilt method  to calculate the avg of numbers in lists\n",
        "numbers = [10, 20, 30, 40, 50]\n",
        "sum_of_numbers = 0\n",
        "count = 0\n",
        "\n",
        "for num in numbers:\n",
        "    sum_of_numbers += num\n",
        "    count += 1\n",
        "\n",
        "average = sum_of_numbers / count\n",
        "print(\"Average:\", average)"
      ]
    },
    {
      "cell_type": "code",
      "execution_count": null,
      "metadata": {
        "id": "rl16GvietmFq"
      },
      "outputs": [],
      "source": [
        "#2\tWrite a simple pyhton programm without inbuilt method  to exchange the values of two numbers without using third variable\n",
        "\n",
        "a = 5\n",
        "b = 10\n",
        "\n",
        "a = a + b\n",
        "b = a - b\n",
        "a = a - b\n",
        "\n",
        "print(\"After swapping: a =\", a, \"b =\", b)\n"
      ]
    },
    {
      "cell_type": "code",
      "execution_count": null,
      "metadata": {
        "id": "VI2IJ1Sdts0H"
      },
      "outputs": [],
      "source": [
        "#3\tWrite a simple pyhton programm without inbuilt method  to a read number n and compute n+nn+nnn+nnnn\n",
        "n = int(input(\"Enter a number: \"))\n",
        "nn = int(str(n) * 2)\n",
        "nnn = int(str(n) * 3)\n",
        "nnnn = int(str(n) * 4)\n",
        "\n",
        "result = n + nn + nnn + nnnn\n",
        "print(\"Result:\", result)\n",
        "\n"
      ]
    },
    {
      "cell_type": "code",
      "execution_count": null,
      "metadata": {
        "id": "kfFZOMW4t-1t"
      },
      "outputs": [],
      "source": [
        "#4\tWrite a simple pyhton programm without inbuilt method  to reverse the given number\n",
        "num = int(input(\"Enter a number: \"))\n",
        "reversed_num = 0\n",
        "\n",
        "while num > 0:\n",
        "    digit = num % 10\n",
        "    reversed_num = reversed_num * 10 + digit\n",
        "    num = num // 10\n",
        "\n",
        "print(\"Reversed Number:\", reversed_num)\n"
      ]
    },
    {
      "cell_type": "code",
      "execution_count": null,
      "metadata": {
        "id": "EW1cvLNet-tl"
      },
      "outputs": [],
      "source": [
        "#5\tWrite a simple pyhton programm without inbuilt method  to take a five subject marks and display the grade\n",
        "marks = []\n",
        "for i in range(5):\n",
        "    marks.append(int(input(f\"Enter marks for subject {i+1}: \")))\n",
        "\n",
        "average_marks = sum(marks) / 5\n",
        "\n",
        "if average_marks >= 90:\n",
        "    grade = \"A\"\n",
        "elif average_marks >= 75:\n",
        "    grade = \"B\"\n",
        "elif average_marks >= 50:\n",
        "    grade = \"C\"\n",
        "else:\n",
        "    grade = \"F\"\n",
        "\n",
        "print(\"Grade:\", grade)\n"
      ]
    },
    {
      "cell_type": "code",
      "execution_count": null,
      "metadata": {
        "id": "9P6Hg6Ozt-lX"
      },
      "outputs": [],
      "source": [
        "#6\tpython program to prirnt all numbers in range divisible by given number\n",
        "start = int(input(\"Enter start number: \"))\n",
        "end = int(input(\"Enter end number: \"))\n",
        "divisor = int(input(\"Enter divisor: \"))\n",
        "\n",
        "for num in range(start, end + 1):\n",
        "    if num % divisor == 0:\n",
        "        print(num, end=\" \")\n"
      ]
    },
    {
      "cell_type": "code",
      "execution_count": null,
      "metadata": {
        "id": "FAs8ebX3t-dp"
      },
      "outputs": [],
      "source": [
        "#7\tWrite a simple pyhton programm without inbuilt method  to read two numbers and print there quotrient and reminder\n",
        "num1 = int(input(\"Enter first number: \"))\n",
        "num2 = int(input(\"Enter second number: \"))\n",
        "\n",
        "quotient = num1 // num2\n",
        "remainder = num1 % num2\n",
        "\n",
        "print(\"Quotient:\", quotient, \"Remainder:\", remainder)\n"
      ]
    },
    {
      "cell_type": "code",
      "execution_count": null,
      "metadata": {
        "id": "AJjYt0Rkt-V5"
      },
      "outputs": [],
      "source": [
        "#8\tWrite a simple pyhton programm without inbuilt method  to accept three digits and print all possible combinations from digits\n",
        "digits = input(\"Enter three digits: \")\n",
        "for i in range(len(digits)):\n",
        "    for j in range(len(digits)):\n",
        "        for k in range(len(digits)):\n",
        "            if i != j and j != k and i != k:\n",
        "                print(digits[i] + digits[j] + digits[k])\n"
      ]
    },
    {
      "cell_type": "code",
      "execution_count": null,
      "metadata": {
        "id": "XF0JbYsiuTKt"
      },
      "outputs": [],
      "source": [
        "#9\tWrite a simple pyhton programm without inbuilt method  to print odd numbers within a given range\n",
        "start = int(input(\"Enter start number: \"))\n",
        "end = int(input(\"Enter end number: \"))\n",
        "\n",
        "for num in range(start, end + 1):\n",
        "    if num % 2 != 0:\n",
        "        print(num, end=\" \")\n"
      ]
    },
    {
      "cell_type": "code",
      "execution_count": null,
      "metadata": {
        "id": "pFxiL8ALuTD1"
      },
      "outputs": [],
      "source": [
        "#10\tWrite a simple pyhton programm without inbuilt method  to find the sum of digits in number\n",
        "num = int(input(\"Enter a number: \"))\n",
        "sum_digits = 0\n",
        "\n",
        "while num > 0:\n",
        "    sum_digits += num % 10\n",
        "    num = num // 10\n",
        "\n",
        "print(\"Sum of digits:\", sum_digits)\n"
      ]
    },
    {
      "cell_type": "code",
      "execution_count": null,
      "metadata": {
        "id": "qUtt3B_LuS8U"
      },
      "outputs": [],
      "source": [
        "#11\tWrite a simple pyhton programm without inbuilt method  to find smallest divisor of integer\n",
        "num = int(input(\"Enter a number: \"))\n",
        "for i in range(2, num + 1):\n",
        "    if num % i == 0:\n",
        "        print(\"Smallest divisor:\", i)\n",
        "        break\n"
      ]
    },
    {
      "cell_type": "code",
      "execution_count": null,
      "metadata": {
        "id": "wsVg4gk_uS0I"
      },
      "outputs": [],
      "source": [
        "#12\tWrite a simple pyhton programm without inbuilt method  to count the number of digits in num\n",
        "num = int(input(\"Enter a number: \"))\n",
        "count = 0\n",
        "\n",
        "while num > 0:\n",
        "    num = num // 10\n",
        "    count += 1\n",
        "\n",
        "print(\"Number of digits:\", count)\n"
      ]
    },
    {
      "cell_type": "code",
      "execution_count": null,
      "metadata": {
        "id": "xr8ZphTLuj7l"
      },
      "outputs": [],
      "source": [
        "#13\tWrite a simple pyhton programm without inbuilt method  to check if the number is palindrome\n",
        "num = int(input(\"Enter a number: \"))\n",
        "original_num = num\n",
        "reversed_num = 0\n",
        "\n",
        "while num > 0:\n",
        "    digit = num % 10\n",
        "    reversed_num = reversed_num * 10 + digit\n",
        "    num = num // 10\n",
        "\n",
        "if original_num == reversed_num:\n",
        "    print(\"Palindrome\")\n",
        "else:\n",
        "    print(\"Not a palindrome\")\n"
      ]
    },
    {
      "cell_type": "code",
      "execution_count": null,
      "metadata": {
        "id": "pQlFGchNujz0"
      },
      "outputs": [],
      "source": [
        "#14\tWrite a simple pyhton programm without inbuilt method  to print all integers that aren't divisible by two or threee and lies between 1 to 5\n",
        "for num in range(1, 6):\n",
        "    if num % 2 != 0 and num % 3 != 0:\n",
        "        print(num, end=\" \")\n",
        "\n"
      ]
    },
    {
      "cell_type": "code",
      "execution_count": null,
      "metadata": {
        "id": "X8JnlbaVuq9k"
      },
      "outputs": [],
      "source": [
        "#15\tWrite a simple pyhton programm without inbuilt method  to read N numbers and print the series 1+2+.....+N\n",
        "N = int(input(\"Enter a number N: \"))\n",
        "total = 0\n",
        "\n",
        "for i in range(1, N + 1):\n",
        "    total += i\n",
        "\n",
        "print(\"Sum of series 1+2+...+N:\", total)\n"
      ]
    },
    {
      "cell_type": "code",
      "execution_count": null,
      "metadata": {
        "id": "A0QnGYM6uq0w"
      },
      "outputs": [],
      "source": [
        "#16\tWrite a simple pyhton programm without inbuilt method  to print identity matrix\n",
        "\n",
        "n = int(input(\"Enter the size of matrix: \"))\n",
        "\n",
        "for i in range(n):\n",
        "    for j in range(n):\n",
        "        if i == j:\n",
        "            print(1, end=\" \")\n",
        "        else:\n",
        "            print(0, end=\" \")\n",
        "    print()\n"
      ]
    },
    {
      "cell_type": "code",
      "execution_count": null,
      "metadata": {
        "id": "n92HORJRu3a3"
      },
      "outputs": [],
      "source": [
        "#17\tWrite a simple pyhton programm without inbuilt method  to print inverted star Pattern\n",
        "rows = int(input(\"Enter number of rows: \"))\n",
        "\n",
        "for i in range(rows, 0, -1):\n",
        "    for j in range(i):\n",
        "        print(\"*\", end=\" \")\n",
        "    print()\n"
      ]
    },
    {
      "cell_type": "code",
      "execution_count": null,
      "metadata": {
        "id": "DmIQzLEBu3Wx"
      },
      "outputs": [],
      "source": [
        "#18\tWrite a simple pyhton programm without inbuilt method  to find the largest number in the list\n",
        "numbers = [10, 20, 30, 40, 50]\n",
        "largest = numbers[0]\n",
        "\n",
        "for num in numbers:\n",
        "    if num > largest:\n",
        "        largest = num\n",
        "\n",
        "print(\"Largest number:\", largest)\n"
      ]
    },
    {
      "cell_type": "code",
      "execution_count": null,
      "metadata": {
        "id": "20lkSraeu3R3"
      },
      "outputs": [],
      "source": [
        "#19\tWrite a simple pyhton programm without inbuilt method  to take the list and print the second largest number in he list\n",
        "numbers = [10, 20, 30, 40, 50]\n",
        "largest = second_largest = -float('inf')\n",
        "\n",
        "for num in numbers:\n",
        "    if num > largest:\n",
        "        second_largest = largest\n",
        "        largest = num\n",
        "    elif num > second_largest and num != largest:\n",
        "        second_largest = num\n",
        "\n",
        "print(\"Second largest number:\", second_largest)\n"
      ]
    },
    {
      "cell_type": "code",
      "execution_count": null,
      "metadata": {
        "id": "GLGljAI6u3NO"
      },
      "outputs": [],
      "source": [
        "#20\tWrite a simple pyhton programm without inbuilt method  to merge two lists and to sort it\n",
        "list1 = [5, 2, 9, 1]\n",
        "list2 = [8, 7, 3]\n",
        "\n",
        "merged_list = list1 + list2\n",
        "\n",
        "for i in range(len(merged_list)):\n",
        "    for j in range(i + 1, len(merged_list)):\n",
        "        if merged_list[i] > merged_list[j]:\n",
        "            merged_list[i], merged_list[j] = merged_list[j], merged_list[i]\n",
        "\n",
        "print(\"Sorted merged list:\", merged_list)\n"
      ]
    },
    {
      "cell_type": "code",
      "execution_count": null,
      "metadata": {
        "id": "5DXstaiIu3IZ"
      },
      "outputs": [],
      "source": [
        "#21\tWrite a simple pyhton programm without inbuilt method  to find the union of two lists\n",
        "list1 = [1, 2, 3]\n",
        "list2 = [3, 4, 5]\n",
        "\n",
        "union_list = list1[:]\n",
        "for item in list2:\n",
        "    if item not in union_list:\n",
        "        union_list.append(item)\n",
        "\n",
        "print(\"Union of lists:\", union_list)\n"
      ]
    },
    {
      "cell_type": "code",
      "execution_count": null,
      "metadata": {
        "id": "acLc5sAPu3C0"
      },
      "outputs": [],
      "source": [
        "#22\tWrite a simple pyhton programm without inbuilt method  to find the count of numbers and display in dictionary\n",
        "numbers = [1, 2, 3, 2, 1, 4, 5, 5]\n",
        "count_dict = {}\n",
        "\n",
        "for num in numbers:\n",
        "    if num in count_dict:\n",
        "        count_dict[num] += 1\n",
        "    else:\n",
        "        count_dict[num] = 1\n",
        "\n",
        "print(\"Count dictionary:\", count_dict)\n"
      ]
    },
    {
      "cell_type": "code",
      "execution_count": null,
      "metadata": {
        "id": "stz4s7Jau281"
      },
      "outputs": [],
      "source": [
        "#23\tWrite a simple pyhton programm without inbuilt method  to swap the first and last value of the list\n",
        "numbers = [10, 20, 30, 40, 50]\n",
        "numbers[0], numbers[-1] = numbers[-1], numbers[0]\n",
        "\n",
        "print(\"List after swapping:\", numbers)\n"
      ]
    },
    {
      "cell_type": "code",
      "execution_count": null,
      "metadata": {
        "id": "oD2IRDadu2uo"
      },
      "outputs": [],
      "source": [
        "#24\tWrite a simple pyhton programm without inbuilt method  to remove the duplicate items from the list\n",
        "numbers = [1, 2, 2, 3, 4, 4, 5]\n",
        "unique_numbers = []\n",
        "\n",
        "for num in numbers:\n",
        "    if num not in unique_numbers:\n",
        "        unique_numbers.append(num)\n",
        "\n",
        "print(\"List after removing duplicates:\", unique_numbers)\n"
      ]
    }
  ],
  "metadata": {
    "colab": {
      "provenance": []
    },
    "kernelspec": {
      "display_name": "Python 3",
      "name": "python3"
    },
    "language_info": {
      "name": "python"
    }
  },
  "nbformat": 4,
  "nbformat_minor": 0
}
